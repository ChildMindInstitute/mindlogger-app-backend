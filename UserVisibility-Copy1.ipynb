{
 "cells": [
  {
   "cell_type": "markdown",
   "metadata": {},
   "source": [
    "### Load libraries & config"
   ]
  },
  {
   "cell_type": "code",
   "execution_count": 1,
   "metadata": {},
   "outputs": [
    {
     "name": "stderr",
     "output_type": "stream",
     "text": [
      "/home/jclucas/.local/lib/python3.6/site-packages/requests/__init__.py:80: RequestsDependencyWarning: urllib3 (1.24.1) or chardet (3.0.4) doesn't match a supported version!\n",
      "  RequestsDependencyWarning)\n"
     ]
    }
   ],
   "source": [
    "from datetime import date, datetime\n",
    "import girder_client as gc\n",
    "import json\n",
    "import os\n",
    "from urllib.parse import quote\n",
    "import random\n",
    "import re\n",
    "import string\n",
    "import tzlocal\n",
    "from urllib.request import urlopen\n",
    "\n",
    "with open(\"config.json\", \"r\") as fp:\n",
    "    config=json.load(fp)"
   ]
  },
  {
   "cell_type": "markdown",
   "metadata": {},
   "source": [
    "### Connect to Girder"
   ]
  },
  {
   "cell_type": "code",
   "execution_count": 2,
   "metadata": {},
   "outputs": [],
   "source": [
    "girder_connection = gc.GirderClient(\n",
    "    apiUrl=\"{}/api/v1/\".format(\n",
    "        config[\"girder-production\"][\"host\"]\n",
    "    )\n",
    ")\n",
    "girder_connection.authenticate(\n",
    "    username=config[\"girder-production\"][\"user\"],\n",
    "    password=config[\"girder-production\"][\"password\"]\n",
    ")"
   ]
  },
  {
   "cell_type": "code",
   "execution_count": 3,
   "metadata": {},
   "outputs": [],
   "source": [
    "activity_sets = girder_connection.get(\n",
    "    \"folder?parentType=collection&parentId={}\".format(\n",
    "        girder_connection.get(\n",
    "            \"collection?name=Volumes\"\n",
    "        )[0][\"_id\"]\n",
    "    )\n",
    ")"
   ]
  },
  {
   "cell_type": "code",
   "execution_count": 11,
   "metadata": {},
   "outputs": [
    {
     "data": {
      "text/plain": [
       "48"
      ]
     },
     "execution_count": 11,
     "metadata": {},
     "output_type": "execute_result"
    }
   ],
   "source": [
    "ema_parent = girder_connection.getFolder(\"5bd87caa336da80de9145af2\")\n",
    "len(ema_parent['meta']['members']['users'])"
   ]
  },
  {
   "cell_type": "code",
   "execution_count": 17,
   "metadata": {},
   "outputs": [
    {
     "name": "stdout",
     "output_type": "stream",
     "text": [
      "1\n",
      "Max\n",
      "2\n",
      "Erica\n",
      "3\n",
      "Walker\n",
      "4\n",
      "Chase\n",
      "5\n",
      "Marlene\n",
      "6\n",
      "Elizabeth\n",
      "7\n",
      "Victoria\n",
      "8\n",
      "Giuseppe\n",
      "9\n",
      "Erik\n",
      "10\n",
      "David\n",
      "11\n",
      "Abby\n",
      "12\n",
      "Arno\n",
      "13\n",
      "Anirudh\n",
      "14\n",
      "Erin\n",
      "15\n",
      "Paul\n",
      "16\n",
      "Jasmine\n",
      "17\n",
      "Apple\n",
      "18\n",
      "Anita\n",
      "19\n",
      "Katherine\n",
      "20\n",
      "Sara\n",
      "21\n",
      "Germeen\n",
      "22\n",
      "Jake\n",
      "23\n",
      "Joel\n",
      "24\n",
      "Keron\n",
      "25\n",
      "Camille\n",
      "26\n",
      "Laura\n",
      "27\n",
      "anisha\n",
      "28\n",
      "Jacob\n",
      "29\n",
      "Batya\n",
      "30\n",
      "Keron\n",
      "31\n",
      "Minji\n",
      "32\n",
      "Anirudh\n",
      "33\n",
      "Jake\n",
      "34\n",
      "Dawn\n",
      "35\n",
      "Abigail\n",
      "36\n",
      "Elisha\n",
      "37\n",
      "Michael\n",
      "38\n",
      "Roberto\n",
      "39\n",
      "Mike\n",
      "40\n",
      "Arno\n",
      "41\n",
      "Joseph\n",
      "42\n",
      "Kurt\n",
      "43\n",
      "Madeline\n",
      "44\n",
      "Savannah\n",
      "45\n",
      "Walker\n",
      "46\n",
      "Lindsay\n",
      "47\n",
      "Jon\n",
      "48\n",
      "Jon\n"
     ]
    }
   ],
   "source": [
    "i=0\n",
    "for u in ema_parent['meta']['members']['users']:\n",
    "    i=i+1\n",
    "    print(i)\n",
    "    print(girder_connection.get('user/{}'.format(u))['firstName']) if '5b4ca32338488311497dc9bc' in [uid['id'] for uid in girder_connection.get('user/{}/access'.format(u))['users']] else None"
   ]
  },
  {
   "cell_type": "code",
   "execution_count": null,
   "metadata": {},
   "outputs": [],
   "source": []
  }
 ],
 "metadata": {
  "kernelspec": {
   "display_name": "Python 3",
   "language": "python",
   "name": "python3"
  },
  "language_info": {
   "codemirror_mode": {
    "name": "ipython",
    "version": 3
   },
   "file_extension": ".py",
   "mimetype": "text/x-python",
   "name": "python",
   "nbconvert_exporter": "python",
   "pygments_lexer": "ipython3",
   "version": "3.6.5"
  }
 },
 "nbformat": 4,
 "nbformat_minor": 2
}
