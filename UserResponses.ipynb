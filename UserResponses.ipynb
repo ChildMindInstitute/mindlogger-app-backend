{
 "cells": [
  {
   "cell_type": "markdown",
   "metadata": {},
   "source": [
    "### Load libraries & config"
   ]
  },
  {
   "cell_type": "code",
   "execution_count": null,
   "metadata": {},
   "outputs": [],
   "source": [
    "from datetime import date, datetime\n",
    "import girder_client as gc\n",
    "import json\n",
    "import os\n",
    "import pandas as pd\n",
    "from urllib.parse import quote\n",
    "import random\n",
    "import re\n",
    "import string\n",
    "import tzlocal\n",
    "from urllib.request import urlopen\n",
    "\n",
    "with open(\"config.json\", \"r\") as fp:\n",
    "    config=json.load(fp)\n",
    "    \n",
    "def noResponseMessage(user, activity):\n",
    "    \"\"\"\n",
    "    Parameters\n",
    "    ----------\n",
    "    user: dictionary\n",
    "       firstName: string\n",
    "       lastName: string\n",
    "    \n",
    "    activity: string\n",
    "    \n",
    "    Return\n",
    "    ------\n",
    "    responseMessage: string\n",
    "    \"\"\"\n",
    "    return(\n",
    "        \"{} {}: No {} responses\".format(\n",
    "            user[\"firstName\"],\n",
    "            user[\"lastName\"],\n",
    "            activity\n",
    "        )\n",
    "    )"
   ]
  },
  {
   "cell_type": "markdown",
   "metadata": {},
   "source": [
    "### Connect to Girder"
   ]
  },
  {
   "cell_type": "code",
   "execution_count": null,
   "metadata": {},
   "outputs": [],
   "source": [
    "girder_connection = gc.GirderClient(\n",
    "    apiUrl=\"{}/api/v1/\".format(\n",
    "        config[\"girder-production\"][\"host\"]\n",
    "    )\n",
    ")\n",
    "girder_connection.authenticate(\n",
    "    username=config[\"girder-production\"][\"user\"],\n",
    "    password=config[\"girder-production\"][\"password\"]\n",
    ")"
   ]
  },
  {
   "cell_type": "code",
   "execution_count": null,
   "metadata": {},
   "outputs": [],
   "source": [
    "activity_sets = girder_connection.get(\n",
    "    \"folder?parentType=collection&parentId={}\".format(\n",
    "        girder_connection.get(\n",
    "            \"collection?name=Volumes\"\n",
    "        )[0][\"_id\"]\n",
    "    )\n",
    ")\n",
    "ema_parent_users = [\n",
    "    activity_set for activity_set in activity_sets if\n",
    "    activity_set['name']==\"EMA: Parent\"\n",
    "][0][\"meta\"][\"members\"][\"users\"]"
   ]
  },
  {
   "cell_type": "code",
   "execution_count": null,
   "metadata": {},
   "outputs": [],
   "source": [
    "response_table = {}\n",
    "for user in ema_parent_users:\n",
    "    user_id = girder_connection.getUser(user)\n",
    "    response_table[user_id[\"_id\"]] = {}\n",
    "    try:\n",
    "        responses = girder_connection.get(\n",
    "            \"folder?parentType=user&parentId={}&name={}\".format(\n",
    "                user,\n",
    "                \"Responses\"\n",
    "            )\n",
    "        )\n",
    "        if len(responses):\n",
    "            for response_folder in responses:\n",
    "                try:\n",
    "                    ema_responses = girder_connection.get(\n",
    "                        \"folder?parentType=folder&parentId={}&name={}\".format(\n",
    "                            response_folder[\"_id\"],\n",
    "                            quote(\"EMA: Parent\")\n",
    "                        )\n",
    "                    )\n",
    "                    if len(ema_responses):\n",
    "                        for ema_response_folder in ema_responses:\n",
    "                            ema_response = girder_connection.get(\n",
    "                                \"item?folderId={}&limit=5000\".format(\n",
    "                                    ema_response_folder[\"_id\"]\n",
    "                                )\n",
    "                            )\n",
    "                            for response in ema_response:\n",
    "                                if response[\n",
    "                                    'meta'\n",
    "                                ]['responseTime'] >= 1545368400000: # Mindlogger Healthy Brain Network beta test 1 start date\n",
    "                                    if response[\n",
    "                                        'meta'\n",
    "                                    ]['activity']['name'] in response_table[\n",
    "                                        user_id[\"_id\"]\n",
    "                                    ]:\n",
    "                                        response_table[\n",
    "                                            user_id[\"_id\"]\n",
    "                                        ][\n",
    "                                            response['meta']['activity']['name']\n",
    "                                        ] = response_table[\n",
    "                                            user_id[\"_id\"]\n",
    "                                        ][\n",
    "                                            response['meta']['activity']['name']\n",
    "                                        ] + 1\n",
    "                                    else:\n",
    "                                        response_table[\n",
    "                                            user_id[\"_id\"]\n",
    "                                        ][\n",
    "                                            response['meta']['activity']['name']\n",
    "                                        ] = 1\n",
    "                    else:\n",
    "                        print(noResponseMessage(user_id, \"*EMA: Parent*\"))\n",
    "                except:\n",
    "                    print(noResponseMessage(user_id, \"*EMA: Parent*\"))\n",
    "        else:\n",
    "            print(noResponseMessage(user_id, \"Mindlogger\"))\n",
    "    except:\n",
    "        print(noResponseMessage(user_id, \"Mindlogger\"))\n",
    "pd.DataFrame(response_table).T.sum()"
   ]
  },
  {
   "cell_type": "code",
   "execution_count": null,
   "metadata": {},
   "outputs": [],
   "source": []
  }
 ],
 "metadata": {
  "kernelspec": {
   "display_name": "Python 3",
   "language": "python",
   "name": "python3"
  },
  "language_info": {
   "codemirror_mode": {
    "name": "ipython",
    "version": 3
   },
   "file_extension": ".py",
   "mimetype": "text/x-python",
   "name": "python",
   "nbconvert_exporter": "python",
   "pygments_lexer": "ipython3",
   "version": "3.6.5"
  }
 },
 "nbformat": 4,
 "nbformat_minor": 2
}
