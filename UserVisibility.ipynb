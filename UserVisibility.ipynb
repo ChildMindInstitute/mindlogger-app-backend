{
 "cells": [
  {
   "cell_type": "markdown",
   "metadata": {},
   "source": [
    "### Load libraries & config"
   ]
  },
  {
   "cell_type": "code",
   "execution_count": null,
   "metadata": {},
   "outputs": [],
   "source": [
    "from datetime import date, datetime\n",
    "import girder_client as gc\n",
    "import json\n",
    "import os\n",
    "from urllib.parse import quote\n",
    "import random\n",
    "import re\n",
    "import string\n",
    "import tzlocal\n",
    "from urllib.request import urlopen\n",
    "\n",
    "with open(\"config.json\", \"r\") as fp:\n",
    "    config=json.load(fp)"
   ]
  },
  {
   "cell_type": "markdown",
   "metadata": {},
   "source": [
    "### Connect to Girder"
   ]
  },
  {
   "cell_type": "code",
   "execution_count": null,
   "metadata": {},
   "outputs": [],
   "source": [
    "girder_connection = gc.GirderClient(\n",
    "    apiUrl=\"{}/api/v1/\".format(\n",
    "        config[\"girder-production\"][\"host\"]\n",
    "    )\n",
    ")\n",
    "girder_connection.authenticate(\n",
    "    username=config[\"girder-production\"][\"user\"],\n",
    "    password=config[\"girder-production\"][\"password\"]\n",
    ")"
   ]
  },
  {
   "cell_type": "code",
   "execution_count": null,
   "metadata": {},
   "outputs": [],
   "source": [
    "activity_sets = girder_connection.get(\n",
    "    \"folder?parentType=collection&parentId={}\".format(\n",
    "        girder_connection.get(\n",
    "            \"collection?name=Volumes\"\n",
    "        )[0][\"_id\"]\n",
    "    )\n",
    ")\n",
    "activity_sets = [a for a in activity_sets if 'meta' in a]"
   ]
  },
  {
   "cell_type": "markdown",
   "metadata": {},
   "source": [
    "### Authorize Viewers to View their Users as Authorized in Admin Panel"
   ]
  },
  {
   "cell_type": "code",
   "execution_count": null,
   "metadata": {},
   "outputs": [],
   "source": [
    "for a in [a for a in activity_sets if 'meta' in a]:\n",
    "    print(\"Activity Set: {}\".format(a['name']))\n",
    "    for v in a['meta']['members']['viewers']:\n",
    "        print(\"Viewer: {}\".format(girder_connection.getUser(v)['firstName']))\n",
    "        for u in a['meta']['members']['viewers'][v]:\n",
    "            try: \n",
    "                access = girder_connection.get(\"user/{}/access\".format(u))\n",
    "            except:\n",
    "                access = {'users': []}\n",
    "            print(\"User: {}\".format(girder_connection.getUser(u)['firstName']))\n",
    "            print(\"access: {}\".format(\", \".join([user['name'] for user in access['users']])))\n",
    "            if (v not in [user['id'] for user in access['users']]):\n",
    "                access['users'].append({'id': v, 'level': 0})\n",
    "                girder_connection.put(\"user/{}/access\".format(u),\n",
    "                    data={\"access\":json.dumps(access)}\n",
    "                )\n",
    "            try:\n",
    "                responses = girder_connection.get(\n",
    "                    \"folder?parentType=user&parentId={}&name=Responses\".format(\n",
    "                        u\n",
    "                    )\n",
    "                )\n",
    "                for responses_folder in responses:\n",
    "                    print(\"Responses: {}\".format(responses_folder['name'] if 'name' in responses_folder else responses_folder))\n",
    "                    try:\n",
    "                        access = girder_connection.get(\n",
    "                            \"folder/{}/access\".format(\n",
    "                                responses_folder['_id']\n",
    "                            )\n",
    "                        )\n",
    "                        if v not in [uid[\"id\"] for uid in access['users']]:\n",
    "                            access['users'].append({'id': v, 'level': 0})\n",
    "                        girder_connection.put(\n",
    "                            'folder/{}/access'.format(\n",
    "                                responses_folder['_id']\n",
    "                            ),\n",
    "                            data={\n",
    "                                \"access\":json.dumps(access),\n",
    "                                \"recurse\":False\n",
    "                            },\n",
    "                        )\n",
    "                        print(access)\n",
    "                        activity_set_responses = girder_connection.get(\n",
    "                            \"folder?parentType=folder&parentId={}&name={}\".format(\n",
    "                                responses_folder['_id'],\n",
    "                                a['name']\n",
    "                            )\n",
    "                        )\n",
    "                        for activity_set_response_folder in activity_set_responses: \n",
    "                            print(\"Responses Folder: {}\".format(activity_set_response_folder['name']))\n",
    "                            access = girder_connection.get(\n",
    "                                \"folder/{}/access\".format(\n",
    "                                    activity_set_response_folder['_id']\n",
    "                                )\n",
    "                            )\n",
    "                            print(\"access: {}\".format(\", \".join([uid[\"name\"] for uid in access['users']])))\n",
    "                            if v not in [uid[\"id\"] for uid in access['users']]:\n",
    "                                access['users'].append({'id': v, 'level': 0})\n",
    "                            girder_connection.get('folder/{}'.format(activity_set_response_folder['_id']))['name']\n",
    "                            girder_connection.put(\n",
    "                                'folder/{}/access'.format(\n",
    "                                    activity_set_response_folder['_id']\n",
    "                                ),\n",
    "                                data={\n",
    "                                    \"access\":json.dumps(access),\n",
    "                                    \"recurse\":True\n",
    "                                },\n",
    "                            )\n",
    "                    except:\n",
    "                        activity_set_responses = None\n",
    "            except:\n",
    "                responses = None\n",
    "        print(\"\\n\")"
   ]
  },
  {
   "cell_type": "markdown",
   "metadata": {},
   "source": [
    "### Authorize Managers to View Users as Authorized in Admin Panel"
   ]
  },
  {
   "cell_type": "code",
   "execution_count": null,
   "metadata": {},
   "outputs": [],
   "source": [
    "for a in [a for a in activity_sets if 'meta' in a]:\n",
    "    for u in a['meta']['members']['users']:\n",
    "        try:\n",
    "            access = girder_connection.get(\n",
    "                'user/{}/access'.format(u)\n",
    "            )\n",
    "            for m in a['meta']['members']['managers']:\n",
    "                if m not in [uid['id'] for uid in access['users']]:\n",
    "                    print(m)\n",
    "                    access['users'].append({'id': m, 'level': 0})\n",
    "            print(access)\n",
    "            girder_connection.put(\n",
    "                'user/{}/access'.format(u),\n",
    "                data={\"access\":json.dumps(access)}\n",
    "            )\n",
    "        except:\n",
    "            access = {}"
   ]
  },
  {
   "cell_type": "markdown",
   "metadata": {},
   "source": [
    "### Authorize Healthy Brain Network Data Access Group Data Access to All **EMA: Parent** Activity Data"
   ]
  },
  {
   "cell_type": "code",
   "execution_count": null,
   "metadata": {},
   "outputs": [],
   "source": [
    "for user in girder_connection.getFolder('5bd87caa336da80de9145af2')['meta']['members']['users']:\n",
    "    try:\n",
    "        responses = girder_connection.get(\n",
    "            \"folder?parentType=user&parentId={}&name=Responses\".format(\n",
    "                user\n",
    "            )\n",
    "        )\n",
    "        for responses_folder in responses:\n",
    "            try:\n",
    "                ema_parent_responses = girder_connection.get(\n",
    "                    \"folder?parentType=folder&parentId={}&name=EMA%3A%20Parent\".format(\n",
    "                        responses_folder['_id']\n",
    "                    )\n",
    "                )\n",
    "                for ema_parent_response_folder in ema_parent_responses: \n",
    "                    access = girder_connection.get(\n",
    "                        \"folder/{}/access\".format(\n",
    "                            ema_parent_response_folder['_id']\n",
    "                        )\n",
    "                    )\n",
    "                    if \"5bab8fc80a76ac049becd5ec\" not in [gid[\"id\"] for gid in access['groups']]:\n",
    "                        access['groups'].append({'id': '5bab8fc80a76ac049becd5ec', 'level': 0})\n",
    "                print(access)\n",
    "                girder_connection.put(\n",
    "                    'folder/{}/access'.format(\n",
    "                        ema_parent_response_folder['_id']\n",
    "                    ),\n",
    "                    data={\n",
    "                        \"access\":json.dumps(access),\n",
    "                        \"recurse\":True\n",
    "                    },\n",
    "                )\n",
    "            except:\n",
    "                ema_parent_responses = None\n",
    "    except:\n",
    "        responses = None"
   ]
  },
  {
   "cell_type": "markdown",
   "metadata": {},
   "source": [
    "### Consolidate duplicated permissions"
   ]
  },
  {
   "cell_type": "code",
   "execution_count": null,
   "metadata": {},
   "outputs": [],
   "source": [
    "for u in girder_connection.get('user'):\n",
    "    access = girder_connection.get(\n",
    "        'user/{}/access'.format(u['_id'])\n",
    "    )\n",
    "    new_access = {'groups': access['groups'], 'users': []}\n",
    "    for au in access['users']:\n",
    "        if au['id'] not in [uid['id'] for uid in new_access['users']]:\n",
    "            new_access['users'].append(au)\n",
    "    print(new_access)\n",
    "    girder_connection.put(\n",
    "        'user/{}/access'.format(u[\"_id\"]),\n",
    "        data={\"access\":json.dumps(new_access)}\n",
    "    )"
   ]
  },
  {
   "cell_type": "markdown",
   "metadata": {},
   "source": [
    "### Purge non-existent users from admin panel"
   ]
  },
  {
   "cell_type": "code",
   "execution_count": null,
   "metadata": {},
   "outputs": [],
   "source": [
    "all_assignees = list({\n",
    "    *{\n",
    "        e for a in\n",
    "        activity_sets for e in\n",
    "        a['meta']['members']['editors']\n",
    "    },\n",
    "    *{\n",
    "        m for a in\n",
    "        activity_sets for m in\n",
    "        a['meta']['members']['managers']\n",
    "    },\n",
    "    *{\n",
    "        u for a in\n",
    "        activity_sets for u in\n",
    "        a['meta']['members']['users']\n",
    "    },\n",
    "    *{\n",
    "        v for a in\n",
    "        activity_sets for v in\n",
    "        a['meta']['members']['viewers']\n",
    "    },\n",
    "    *{\n",
    "        u for a in\n",
    "        activity_sets for v in\n",
    "        a['meta']['members']['viewers'] for u in\n",
    "        a['meta']['members']['viewers'][v] \n",
    "    }\n",
    "})\n",
    "purge_list = []\n",
    "for assignee in all_assignees:\n",
    "    try:\n",
    "        girder_connection.getUser(assignee)\n",
    "    except:\n",
    "        purge_list.append(assignee)\n",
    "print(purge_list)\n",
    "for a in activity_sets:\n",
    "    original_members = a['meta']['members'].copy()\n",
    "    for role in ['editors', 'users', 'managers']:\n",
    "        a['meta']['members'][role] = list(set(a['meta']['members'][role]) - set(purge_list))\n",
    "    for purgee in purge_list:\n",
    "        a['meta']['members']['viewers'].pop(purgee, None)\n",
    "    for v in a['meta']['members']['viewers']:\n",
    "        a['meta']['members']['viewers'][v] = list(set(a['meta']['members']['viewers'][v]) - set(purge_list))\n",
    "    if(original_members != a['meta']['members']):\n",
    "        girder_connection.put(\n",
    "            'folder/{}'.format(\n",
    "                a['_id']\n",
    "            ),\n",
    "            data={\n",
    "                'metadata':json.dumps(\n",
    "                    a['meta']\n",
    "                )\n",
    "            }\n",
    "        )"
   ]
  },
  {
   "cell_type": "code",
   "execution_count": null,
   "metadata": {},
   "outputs": [],
   "source": [
    "for manager in [a for a in activity_sets if a['name'] == \"EMA: Parent\"][0]['meta']['members']['managers']:\n",
    "    u = girder_connection.getUser(manager)\n",
    "    print(\"{} {}\".format(u['firstName'], u['lastName']))"
   ]
  },
  {
   "cell_type": "code",
   "execution_count": null,
   "metadata": {},
   "outputs": [],
   "source": [
    "all_assignees = list({\n",
    "    *{\n",
    "        e for a in\n",
    "        activity_sets for e in\n",
    "        a['meta']['members']['editors']\n",
    "    },\n",
    "    *{\n",
    "        m for a in\n",
    "        activity_sets for m in\n",
    "        a['meta']['members']['managers']\n",
    "    },\n",
    "    *{\n",
    "        u for a in\n",
    "        activity_sets for u in\n",
    "        a['meta']['members']['users']\n",
    "    },\n",
    "    *{\n",
    "        v for a in\n",
    "        activity_sets for v in\n",
    "        a['meta']['members']['viewers']\n",
    "    },\n",
    "    *{\n",
    "        u for a in\n",
    "        activity_sets for v in\n",
    "        a['meta']['members']['viewers'] for u in\n",
    "        a['meta']['members']['viewers'][v] \n",
    "    }\n",
    "})\n",
    "for assignee in all_assignees:\n",
    "    if assignee not in [a for a in activity_sets if a['name'] == \"EMA: Parent\"][0]['meta']['members']['users']:\n",
    "        u = girder_connection.getUser(assignee)\n",
    "        print(\"{} {} {}\".format(u['firstName'], u['lastName'], u['_id']))"
   ]
  },
  {
   "cell_type": "code",
   "execution_count": null,
   "metadata": {},
   "outputs": [],
   "source": []
  }
 ],
 "metadata": {
  "kernelspec": {
   "display_name": "Python 3",
   "language": "python",
   "name": "python3"
  },
  "language_info": {
   "codemirror_mode": {
    "name": "ipython",
    "version": 3
   },
   "file_extension": ".py",
   "mimetype": "text/x-python",
   "name": "python",
   "nbconvert_exporter": "python",
   "pygments_lexer": "ipython3",
   "version": "3.6.5"
  }
 },
 "nbformat": 4,
 "nbformat_minor": 2
}
