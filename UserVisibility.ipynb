{
 "cells": [
  {
   "cell_type": "markdown",
   "metadata": {},
   "source": [
    "### Load libraries & config"
   ]
  },
  {
   "cell_type": "code",
   "execution_count": 1,
   "metadata": {},
   "outputs": [],
   "source": [
    "from datetime import date, datetime\n",
    "import girder_client as gc\n",
    "import json\n",
    "import os\n",
    "from urllib.parse import quote\n",
    "import random\n",
    "import re\n",
    "import string\n",
    "import tzlocal\n",
    "from urllib.request import urlopen\n",
    "\n",
    "with open(\"config.json\", \"r\") as fp:\n",
    "    config=json.load(fp)"
   ]
  },
  {
   "cell_type": "markdown",
   "metadata": {},
   "source": [
    "### Connect to Girder"
   ]
  },
  {
   "cell_type": "code",
   "execution_count": 2,
   "metadata": {},
   "outputs": [],
   "source": [
    "girder_connection = gc.GirderClient(\n",
    "    apiUrl=\"{}/api/v1/\".format(\n",
    "        config[\"girder-production\"][\"host\"]\n",
    "    )\n",
    ")\n",
    "girder_connection.authenticate(\n",
    "    username=config[\"girder-production\"][\"user\"],\n",
    "    password=config[\"girder-production\"][\"password\"]\n",
    ")"
   ]
  },
  {
   "cell_type": "code",
   "execution_count": 3,
   "metadata": {},
   "outputs": [],
   "source": [
    "activity_sets = girder_connection.get(\n",
    "    \"folder?parentType=collection&parentId={}\".format(\n",
    "        girder_connection.get(\n",
    "            \"collection?name=Volumes\"\n",
    "        )[0][\"_id\"]\n",
    "    )\n",
    ")"
   ]
  },
  {
   "cell_type": "markdown",
   "metadata": {},
   "source": [
    "### Authorize Viewers to View their Users as Authorized in Admin Panel"
   ]
  },
  {
   "cell_type": "code",
   "execution_count": 4,
   "metadata": {},
   "outputs": [],
   "source": [
    "for a in activity_sets:\n",
    "    for v in a['meta']['members']['viewers']:\n",
    "        for u in a['meta']['members']['viewers'][v]:\n",
    "            try: \n",
    "                access = girder_connection.get(\"user/{}/access\".format(u))\n",
    "            except:\n",
    "                access = {'users': []}\n",
    "            if (v not in [user['id'] for user in access['users']]):\n",
    "                access['users'].append({'id': v, 'level': 0})\n",
    "                girder_connection.put(\"user/{}/access\".format(u),\n",
    "                    data={\"access\":json.dumps(access)}\n",
    "                )\n",
    "            try:\n",
    "                responses = girder_connection.get(\n",
    "                    \"folder?parentType=user&parentId={}&name=Responses\".format(\n",
    "                        u\n",
    "                    )\n",
    "                )\n",
    "                for responses_folder in responses:\n",
    "                    try:\n",
    "                        activity_set_responses = girder_connection.get(\n",
    "                            \"folder?parentType=folder&parentId={}&name={}\".format(\n",
    "                                responses_folder['_id'],\n",
    "                                a['name']\n",
    "                            )\n",
    "                        )\n",
    "                        for activity_set_response_folder in activity_set_responses: \n",
    "                            access = girder_connection.get(\n",
    "                                \"folder/{}/access\".format(\n",
    "                                    activity_set_response_folder['_id']\n",
    "                                )\n",
    "                            )\n",
    "                            if v not in [uid[\"id\"] for uid in access['users']]:\n",
    "                                access['users'].append({'id': v, 'level': 0})\n",
    "                                girder_connection.put(\n",
    "                                    'folder/{}/access'.format(\n",
    "                                        activity_set_response_folder['_id']\n",
    "                                    ),\n",
    "                                    data={\n",
    "                                        \"access\":json.dumps(access),\n",
    "                                        \"recurse\":True\n",
    "                                    },\n",
    "                                )\n",
    "                    except:\n",
    "                        ema_parent_responses = None\n",
    "            except:\n",
    "                responses = None"
   ]
  },
  {
   "cell_type": "markdown",
   "metadata": {},
   "source": [
    "### Authorize Managers to View Users as Authorized in Admin Panel"
   ]
  },
  {
   "cell_type": "code",
   "execution_count": 5,
   "metadata": {},
   "outputs": [],
   "source": [
    "for a in activity_sets:\n",
    "    for u in a['meta']['members']['users']:\n",
    "        try:\n",
    "            access = girder_connection.get(\n",
    "                'user/{}/access'.format(u)\n",
    "            )\n",
    "            for m in a['meta']['members']['managers']:\n",
    "                if m not in [uid['id'] for uid in access['users']]:\n",
    "                    access['users'].append({'id': m, 'level': 0})\n",
    "            girder_connection.put(\n",
    "                'user/{}/access'.format(u),\n",
    "                data={\"access\":json.dumps(access)}\n",
    "            )\n",
    "        except:\n",
    "            access = {}"
   ]
  },
  {
   "cell_type": "markdown",
   "metadata": {},
   "source": [
    "### Authorize Healthy Brain Network Data Access Group Data Access to All **EMA: Parent** Activity Data"
   ]
  },
  {
   "cell_type": "code",
   "execution_count": 6,
   "metadata": {},
   "outputs": [],
   "source": [
    "for user in [a for a in activity_sets if a['name'] == \"EMA: Parent\"][0]['meta']['members']['users']:\n",
    "    try:\n",
    "        responses = girder_connection.get(\n",
    "            \"folder?parentType=user&parentId={}&name=Responses\".format(\n",
    "                user\n",
    "            )\n",
    "        )\n",
    "        for responses_folder in responses:\n",
    "            try:\n",
    "                ema_parent_responses = girder_connection.get(\n",
    "                    \"folder?parentType=folder&parentId={}&name=EMA%3A%20Parent\".format(\n",
    "                        responses_folder['_id']\n",
    "                    )\n",
    "                )\n",
    "                for ema_parent_response_folder in ema_parent_responses: \n",
    "                    access = girder_connection.get(\n",
    "                        \"folder/{}/access\".format(\n",
    "                            ema_parent_response_folder['_id']\n",
    "                        )\n",
    "                    )\n",
    "                    if \"5bab8fc80a76ac049becd5ec\" not in [gid[\"id\"] for gid in access['groups']]:\n",
    "                        access['groups'].append({'id': '5bab8fc80a76ac049becd5ec', 'level': 0})\n",
    "                        girder_connection.put(\n",
    "                            'folder/{}/access'.format(\n",
    "                                ema_parent_response_folder['_id']\n",
    "                            ),\n",
    "                            data={\n",
    "                                \"access\":json.dumps(access),\n",
    "                                \"recurse\":True\n",
    "                            },\n",
    "                        )\n",
    "            except:\n",
    "                ema_parent_responses = None\n",
    "    except:\n",
    "        responses = None"
   ]
  },
  {
   "cell_type": "markdown",
   "metadata": {},
   "source": [
    "### Consolidate duplicated permissions"
   ]
  },
  {
   "cell_type": "code",
   "execution_count": 7,
   "metadata": {},
   "outputs": [],
   "source": [
    "for u in girder_connection.get('user'):\n",
    "    access = girder_connection.get(\n",
    "        'user/{}/access'.format(u['_id'])\n",
    "    )\n",
    "    new_access = {'groups': access['groups'], 'users': []}\n",
    "    for au in access['users']:\n",
    "        if au['level'] < 2:\n",
    "            au['level'] = 0\n",
    "        if au['id'] not in [uid['id'] for uid in new_access['users']]:\n",
    "            new_access['users'].append(au)\n",
    "    girder_connection.put(\n",
    "        'user/{}/access'.format(u[\"_id\"]),\n",
    "        data={\"access\":json.dumps(new_access)}\n",
    "    )"
   ]
  },
  {
   "cell_type": "markdown",
   "metadata": {},
   "source": [
    "### Purge non-existent users from admin panel"
   ]
  },
  {
   "cell_type": "code",
   "execution_count": null,
   "metadata": {},
   "outputs": [],
   "source": [
    "all_assignees = list({\n",
    "    *{\n",
    "        e for a in\n",
    "        activity_sets for e in\n",
    "        a['meta']['members']['editors']\n",
    "    },\n",
    "    *{\n",
    "        m for a in\n",
    "        activity_sets for m in\n",
    "        a['meta']['members']['managers']\n",
    "    },\n",
    "    *{\n",
    "        u for a in\n",
    "        activity_sets for u in\n",
    "        a['meta']['members']['users']\n",
    "    },\n",
    "    *{\n",
    "        v for a in\n",
    "        activity_sets for v in\n",
    "        a['meta']['members']['viewers']\n",
    "    },\n",
    "    *{\n",
    "        u for a in\n",
    "        activity_sets for v in\n",
    "        a['meta']['members']['viewers'] for u in\n",
    "        a['meta']['members']['viewers'][v] \n",
    "    }\n",
    "})\n",
    "purge_list = []\n",
    "for assignee in all_assignees:\n",
    "    try:\n",
    "        girder_connection.getUser(assignee)\n",
    "    except:\n",
    "        purge_list.append(assignee)\n",
    "for a in activity_sets:\n",
    "    original_members = a['meta']['members'].copy()\n",
    "    for role in ['editors', 'users', 'managers']:\n",
    "        a['meta']['members'][role] = list(set(a['meta']['members'][role]) - set(purge_list))\n",
    "    for purgee in purge_list:\n",
    "        a['meta']['members']['viewers'].pop(purgee, None)\n",
    "    for v in a['meta']['members']['viewers']:\n",
    "        a['meta']['members']['viewers'][v] = list(set(a['meta']['members']['viewers'][v]) - set(purge_list))\n",
    "    if(original_members != a['meta']['members']):\n",
    "        girder_connection.put(\n",
    "            'folder/{}'.format(\n",
    "                a['_id']\n",
    "            ),\n",
    "            data={\n",
    "                'metadata':json.dumps(\n",
    "                    a['meta']\n",
    "                )\n",
    "            }\n",
    "        )"
   ]
  },
  {
   "cell_type": "code",
   "execution_count": null,
   "metadata": {},
   "outputs": [],
   "source": [
    "for manager in [a for a in activity_sets if a['name'] == \"EMA: Parent\"][0]['meta']['members']['managers']:\n",
    "    u = girder_connection.getUser(manager)\n",
    "    print(\"{} {}\".format(u['firstName'], u['lastName']))"
   ]
  },
  {
   "cell_type": "code",
   "execution_count": 8,
   "metadata": {},
   "outputs": [
    {
     "name": "stdout",
     "output_type": "stream",
     "text": [
      "arno1000 klein 5bb6655d0a76ac049becd672\n",
      "Top Cat 5c1924c2c25b5a144b269f04\n",
      "Erik3 Ilyin 5bb86b510a76ac049becd6b2\n",
      "Paul Mitrani 5c105091c25b5a0ddcdfd3ce\n",
      "Erik Good1 5b9b2db5e534fe0e917efdd2\n",
      "Miriam San Lucas 5c2fcfebc25b5a625531c8fd\n",
      "Admin Admin 5c1411e0c25b5a144b269e63\n",
      "Kristen Schiavo 5c2d22c4c25b5a6a94d5fff6\n",
      "Winter School 5c12c060c25b5a7c7a24d95b\n",
      "Secret Squirrel 5bf5d445336da85b0dfed575\n",
      "Erik4 Ilyin 5bb86c660a76ac049becd6b3\n",
      "Erik P 5b634cbd0fc13a0df633adfd\n",
      "Arno Klein 5bc4e41f01a25f0dd6703f98\n",
      "arno1001 klein 5bb668700a76ac049becd673\n",
      "Grace McAlindin 5c2d22dcc25b5a6a94d5fff7\n",
      "Erik Ilyin 5b7f1ca0e534fe32c5f5db89\n",
      "Anna MacKay-Brandt 5c180e56c25b5a144b269e66\n",
      "Madeline Walsh 5c3633afa0e4760df6a033fc\n",
      "Erik Good 5b9b2cc3e534fe0e917efdd1\n",
      "Super Admin 5b634cbe0fc13a0df633adfe\n",
      "arno1002 klein 5bb668bf0a76ac049becd674\n",
      "Donald Duck 5be5b321336da80de9146950\n",
      "Arno Klein 5bc4e30401a25f0dd6703f96\n",
      "admin admin 5c1801c4c25b5a144b269e65\n",
      "Marcos Vidor 5bf33623336da80de9146a26\n",
      "Dheeraj Sood 5c30f21fc25b5a625531c94f\n"
     ]
    }
   ],
   "source": [
    "all_assignees = list({\n",
    "    *{\n",
    "        e for a in\n",
    "        activity_sets for e in\n",
    "        a['meta']['members']['editors']\n",
    "    },\n",
    "    *{\n",
    "        m for a in\n",
    "        activity_sets for m in\n",
    "        a['meta']['members']['managers']\n",
    "    },\n",
    "    *{\n",
    "        u for a in\n",
    "        activity_sets for u in\n",
    "        a['meta']['members']['users']\n",
    "    },\n",
    "    *{\n",
    "        v for a in\n",
    "        activity_sets for v in\n",
    "        a['meta']['members']['viewers']\n",
    "    },\n",
    "    *{\n",
    "        u for a in\n",
    "        activity_sets for v in\n",
    "        a['meta']['members']['viewers'] for u in\n",
    "        a['meta']['members']['viewers'][v] \n",
    "    }\n",
    "})\n",
    "for assignee in all_assignees:\n",
    "    if assignee not in [a for a in activity_sets if a['name'] == \"EMA: Parent\"][0]['meta']['members']['users']:\n",
    "        u = girder_connection.getUser(assignee)\n",
    "        print(\"{} {} {}\".format(u['firstName'], u['lastName'], u['_id']))"
   ]
  },
  {
   "cell_type": "code",
   "execution_count": null,
   "metadata": {},
   "outputs": [],
   "source": []
  }
 ],
 "metadata": {
  "kernelspec": {
   "display_name": "Python 3",
   "language": "python",
   "name": "python3"
  },
  "language_info": {
   "codemirror_mode": {
    "name": "ipython",
    "version": 3
   },
   "file_extension": ".py",
   "mimetype": "text/x-python",
   "name": "python",
   "nbconvert_exporter": "python",
   "pygments_lexer": "ipython3",
   "version": "3.6.5"
  }
 },
 "nbformat": 4,
 "nbformat_minor": 2
}
