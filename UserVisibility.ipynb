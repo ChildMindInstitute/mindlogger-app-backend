{
 "cells": [
  {
   "cell_type": "markdown",
   "metadata": {},
   "source": [
    "### Load libraries & config"
   ]
  },
  {
   "cell_type": "code",
   "execution_count": null,
   "metadata": {},
   "outputs": [],
   "source": [
    "from datetime import date, datetime\n",
    "import girder_client as gc\n",
    "import json\n",
    "import os\n",
    "from urllib.parse import quote\n",
    "import random\n",
    "import re\n",
    "import string\n",
    "import tzlocal\n",
    "from urllib.request import urlopen\n",
    "\n",
    "with open(\"config.json\", \"r\") as fp:\n",
    "    config=json.load(fp)"
   ]
  },
  {
   "cell_type": "markdown",
   "metadata": {},
   "source": [
    "### Connect to Girder"
   ]
  },
  {
   "cell_type": "code",
   "execution_count": null,
   "metadata": {},
   "outputs": [],
   "source": [
    "girder_connection = gc.GirderClient(\n",
    "    apiUrl=\"{}/api/v1/\".format(\n",
    "        config[\"girder-production\"][\"host\"]\n",
    "    )\n",
    ")\n",
    "girder_connection.authenticate(\n",
    "    username=config[\"girder-production\"][\"user\"],\n",
    "    password=config[\"girder-production\"][\"password\"]\n",
    ")"
   ]
  },
  {
   "cell_type": "code",
   "execution_count": null,
   "metadata": {},
   "outputs": [],
   "source": [
    "activity_sets = girder_connection.get(\n",
    "    \"folder?parentType=collection&parentId={}\".format(\n",
    "        girder_connection.get(\n",
    "            \"collection?name=Volumes\"\n",
    "        )[0][\"_id\"]\n",
    "    )\n",
    ")"
   ]
  },
  {
   "cell_type": "markdown",
   "metadata": {},
   "source": [
    "### Authorize Viewers to View their Users as Authorized in Admin Panel"
   ]
  },
  {
   "cell_type": "code",
   "execution_count": null,
   "metadata": {},
   "outputs": [],
   "source": [
    "for a in activity_sets:\n",
    "    for v in a['meta']['members']['viewers']:\n",
    "        for u in a['meta']['members']['viewers'][v]:\n",
    "            access = girder_connection.get(\"user/{}/access\".format(u))\n",
    "            if (v not in [user['id'] for user in access['users']]):\n",
    "                for _id in [user['id'] for user in access['users']]:\n",
    "                    access['users'].append({'id': v, 'level': 0})\n",
    "                    girder_connection.put(\"user/{}/access\".format(u),\n",
    "                        data={\"access\":json.dumps(access)}\n",
    "                    )\n",
    "            try:\n",
    "                responses = girder_connection.get(\n",
    "                    \"folder?parentType=user&parentId={}&name=Responses\".format(\n",
    "                        u\n",
    "                    )\n",
    "                )\n",
    "                for responses_folder in responses:\n",
    "                    try:\n",
    "                        activity_set_responses = girder_connection.get(\n",
    "                            \"folder?parentType=folder&parentId={}&name={}\".format(\n",
    "                                responses_folder['_id'],\n",
    "                                a['name']\n",
    "                            )\n",
    "                        )\n",
    "                        for activity_set_response_folder in activity_set_responses: \n",
    "                            access = girder_connection.get(\n",
    "                                \"folder/{}/access\".format(\n",
    "                                    activity_set_response_folder['_id']\n",
    "                                )\n",
    "                            )\n",
    "                            if v not in [uid[\"id\"] for uid in access['users']]:\n",
    "                                access['users'].append({'id': v, 'level': 0})\n",
    "                                girder_connection.put(\n",
    "                                    'folder/{}/access'.format(\n",
    "                                        activity_set_response_folder['_id']\n",
    "                                    ),\n",
    "                                    data={\n",
    "                                        \"access\":json.dumps(access),\n",
    "                                        \"recurse\":True\n",
    "                                    },\n",
    "                                )\n",
    "                    except:\n",
    "                        ema_parent_responses = None\n",
    "            except:\n",
    "                responses = None"
   ]
  },
  {
   "cell_type": "markdown",
   "metadata": {},
   "source": [
    "### Authorize Managers to View Users as Authorized in Admin Panel"
   ]
  },
  {
   "cell_type": "code",
   "execution_count": null,
   "metadata": {},
   "outputs": [],
   "source": [
    "for a in activity_sets:\n",
    "    for u in a['meta']['members']['users']:\n",
    "        try:\n",
    "            access = girder_connection.get(\n",
    "                'user/{}/access'.format(u)\n",
    "            )\n",
    "            for m in a['meta']['members']['managers']:\n",
    "                if m not in [uid['id'] for uid in access['users']]:\n",
    "                    access['users'].append({'id': m, 'level': 0})\n",
    "            girder_connection.put(\n",
    "                'user/{}/access'.format(u),\n",
    "                data={\"access\":json.dumps(access)}\n",
    "            )\n",
    "        except:\n",
    "            access = {}"
   ]
  },
  {
   "cell_type": "markdown",
   "metadata": {},
   "source": [
    "### Authorize Healthy Brain Network Data Access Group Data Access to All **EMA: Parent** Activity Data"
   ]
  },
  {
   "cell_type": "code",
   "execution_count": null,
   "metadata": {},
   "outputs": [],
   "source": [
    "for user in [a for a in activity_sets if a['name'] == \"EMA: Parent\"][0]['meta']['members']['users']:\n",
    "    try:\n",
    "        responses = girder_connection.get(\n",
    "            \"folder?parentType=user&parentId={}&name=Responses\".format(\n",
    "                user\n",
    "            )\n",
    "        )\n",
    "        for responses_folder in responses:\n",
    "            try:\n",
    "                ema_parent_responses = girder_connection.get(\n",
    "                    \"folder?parentType=folder&parentId={}&name=EMA%3A%20Parent\".format(\n",
    "                        responses_folder['_id']\n",
    "                    )\n",
    "                )\n",
    "                for ema_parent_response_folder in ema_parent_responses: \n",
    "                    access = girder_connection.get(\n",
    "                        \"folder/{}/access\".format(\n",
    "                            ema_parent_response_folder['_id']\n",
    "                        )\n",
    "                    )\n",
    "                    if \"5bab8fc80a76ac049becd5ec\" not in [gid[\"id\"] for gid in access['groups']]:\n",
    "                        access['groups'].append({'id': '5bab8fc80a76ac049becd5ec', 'level': 0})\n",
    "                        girder_connection.put(\n",
    "                            'folder/{}/access'.format(\n",
    "                                ema_parent_response_folder['_id']\n",
    "                            ),\n",
    "                            data={\n",
    "                                \"access\":json.dumps(access),\n",
    "                                \"recurse\":True\n",
    "                            },\n",
    "                        )\n",
    "            except:\n",
    "                ema_parent_responses = None\n",
    "    except:\n",
    "        responses = None"
   ]
  },
  {
   "cell_type": "markdown",
   "metadata": {},
   "source": [
    "### Consolidate duplicated permissions"
   ]
  },
  {
   "cell_type": "code",
   "execution_count": null,
   "metadata": {},
   "outputs": [],
   "source": [
    "for u in girder_connection.get('user'):\n",
    "    access = girder_connection.get(\n",
    "        'user/{}/access'.format(u['_id'])\n",
    "    )\n",
    "    new_access = {'groups': access['groups'], 'users': []}\n",
    "    for au in access['users']:\n",
    "        if au['level'] < 2:\n",
    "            au['level'] = 0\n",
    "        if au['id'] not in [uid['id'] for uid in new_access['users']]:\n",
    "            new_access['users'].append(au)\n",
    "    girder_connection.put(\n",
    "        'user/{}/access'.format(u[\"_id\"]),\n",
    "        data={\"access\":json.dumps(new_access)}\n",
    "    )"
   ]
  }
 ],
 "metadata": {
  "kernelspec": {
   "display_name": "Python 3",
   "language": "python",
   "name": "python3"
  },
  "language_info": {
   "codemirror_mode": {
    "name": "ipython",
    "version": 3
   },
   "file_extension": ".py",
   "mimetype": "text/x-python",
   "name": "python",
   "nbconvert_exporter": "python",
   "pygments_lexer": "ipython3",
   "version": "3.6.5"
  }
 },
 "nbformat": 4,
 "nbformat_minor": 2
}
