{
 "cells": [
  {
   "cell_type": "markdown",
   "metadata": {},
   "source": [
    "### Load libraries & config"
   ]
  },
  {
   "cell_type": "code",
   "execution_count": 1,
   "metadata": {},
   "outputs": [],
   "source": [
    "from datetime import date, datetime\n",
    "import girder_client as gc\n",
    "import json\n",
    "import os\n",
    "from urllib.parse import quote\n",
    "import random\n",
    "import re\n",
    "import string\n",
    "import tzlocal\n",
    "from urllib.request import urlopen\n",
    "\n",
    "with open(\"config.json\", \"r\") as fp:\n",
    "    config=json.load(fp)"
   ]
  },
  {
   "cell_type": "markdown",
   "metadata": {},
   "source": [
    "### Connect to Girder"
   ]
  },
  {
   "cell_type": "code",
   "execution_count": 2,
   "metadata": {},
   "outputs": [],
   "source": [
    "girder_connection = gc.GirderClient(\n",
    "    apiUrl=\"{}/api/v1/\".format(\n",
    "        config[\"girder-production\"][\"host\"]\n",
    "    )\n",
    ")\n",
    "girder_connection.authenticate(\n",
    "    username=config[\"girder-production\"][\"user\"],\n",
    "    password=config[\"girder-production\"][\"password\"]\n",
    ")"
   ]
  },
  {
   "cell_type": "code",
   "execution_count": 4,
   "metadata": {},
   "outputs": [
    {
     "name": "stdout",
     "output_type": "stream",
     "text": [
      "[\"5c4789c145e8fc71d167bd0a\", \"5c92a7868990750e252b5f72\", \"5c65d3b37c7e6d0e0e770685\", \"5b634cc00fc13a0df633ae02\", \"5b634cbe0fc13a0df633adfe\", \"5c1411e0c25b5a144b269e63\", \"5c82e488400fe179574070a3\", \"5bd08898336da80de91457a5\", \"5c5354024e9a670deb99b6d7\", \"5c76cb557c7e6d4670933620\", \"5c6ae4f67c7e6d1ed94ac4b6\", \"5c9105988990750e252b5f2e\", \"5c58f8ba4e9a670deb99b9c7\", \"5c632c872a12c10e79249b58\", \"5c1c29e4c25b5a6a94d5fc13\", \"5c34cf14c25b5a625531cc34\", \"5c34cba7c25b5a625531cc30\", \"5c642f992a12c10e79249c1c\", \"5c7851dc7c7e6d4670933699\", \"5b7f1d7ae534fe32c5f5db8b\", \"5c547c5c4e9a670deb99b8b4\", \"5c2e8ec3c25b5a6a94d60097\", \"5c65e5297c7e6d0e0e77068b\", \"5c8ab350400fe17cd16be9f8\", \"5ca37c851535460e001811a2\", \"5bf825c1336da85b0dfed57d\", \"5c36692da0e4760df6a03426\", \"5c93c2588990750e252b5f97\", \"5bd08d18336da80de91457eb\", \"5c6325222a12c10e79249b44\", \"5c65e72f7c7e6d1ed94ac407\", \"5c62ad242a12c10e79249abd\", \"5c53f4844e9a670deb99b76c\", \"5c2fcf8bc25b5a625531c8fa\", \"5c9a42ef0419cc2016a7d2c7\", \"5c58a87c4e9a670deb99b9b1\", \"5c3b883845e8fc0226e1094e\", \"5c701e097c7e6d1cc6f30c70\", \"5b4ca32338488311497dc9bc\", \"5c8ff83e8990750e252b5ed8\", \"5c93b5ae8990750e252b5f92\", \"5c101f6cc25b5a0ddcdfd3c7\", \"5c66d1c17c7e6d1ed94ac431\", \"5c8c1cf1400fe17cd16beb53\", \"5c59c1c04e9a670deb99ba34\", \"5c2fcfafc25b5a625531c8fb\", \"5c11882bc25b5a24df0a4ce5\", \"5c61afa82a12c10e79249928\", \"5c49f80245e8fc71d167bd4d\", \"5c7eec65400fe10e5be5a0af\", \"5c2e7777c25b5a6a94d60077\", \"5c128dfdc25b5a4daaf7a732\", \"5c868a3e400fe17cd16be4c0\", \"5c5484514e9a670deb99b8ba\", \"5c3d040845e8fc4a94c6eae0\", \"5c2fcfc4c25b5a625531c8fc\", \"5c8bcc57400fe17cd16beb30\", \"5be5b321336da80de9146950\", \"5c5c70f82a12c10e7924954a\", \"5c2e765bc25b5a6a94d60076\", \"5c6dcefd7c7e6d1ed94ac8b6\", \"5c8a6b69400fe17cd16be9f3\", \"5bd8696d336da80de9145a5a\", \"5bd7b7af336da80de9145a53\", \"5c38cedc4a3ec00def0c8238\", \"5c7cecfb400fe10e5be59e5f\", \"5c8926be400fe17cd16be8d0\", \"5c79820e400fe10e5be596a5\", \"5c75ad5a7c7e6d46709335dd\", \"5c8c25fa400fe17cd16beb77\", \"5c90f7d28990750e252b5f21\", \"5ca268bd1535460e00181165\", \"5c586b514e9a670deb99b9ac\", \"5c9a795f0419cc2016a7d2de\", \"5c47896945e8fc71d167bd09\", \"5b9b2cc3e534fe0e917efdd1\", \"5b9b2db5e534fe0e917efdd2\", \"5c508b844e9a670deb99b4d1\", \"5c192305c25b5a144b269ec1\", \"5c37a5bf4a3ec00def0c81b2\", \"5c37a61c4a3ec00def0c81b3\", \"5c59cb084e9a670deb99ba3c\", \"5c2e4697c25b5a6a94d6006b\", \"5c7465bc7c7e6d467093338f\", \"5c3efdf945e8fc4a94c6eb79\", \"5c5363714e9a670deb99b6d9\", \"5c4783c445e8fc71d167bd05\", \"5c50b1664e9a670deb99b4e3\", \"5c2fcf75c25b5a625531c8f9\", \"5c51deeb4e9a670deb99b507\", \"5c3515ada0e4760df6a033ec\", \"5c9e6cc21535460e00180ff2\", \"5bd08ceb336da80de91457ea\", \"5c815138400fe14d326fd524\", \"5bb86b510a76ac049becd6b2\", \"5b7f1ca0e534fe32c5f5db89\", \"5bb86c660a76ac049becd6b3\", \"5b4e1f1f8f5b186be929676d\", \"5c75acaf7c7e6d46709335bc\", \"5c5898844e9a670deb99b9b0\", \"5c5860d44e9a670deb99b9a9\", \"5bdb5260336da80de9145dfa\", \"5c64be222a12c10e79249c26\", \"5c1a69aac25b5a6a94d5fbd8\", \"5c48dfc445e8fc71d167bd38\", \"5b634cbf0fc13a0df633ae00\", \"5c9e2a211535460e00180fab\", \"5bcf3462336da80de9145728\", \"5c6edbfc7c7e6d1ed94ac9e9\", \"5c2fcf4bc25b5a625531c8f8\", \"5c3516c7a0e4760df6a033ed\", \"5c2e50fac25b5a6a94d60072\", \"5c5df64f2a12c10e7924982f\", \"5c5b0e482a12c10e792492f3\", \"5c9be1291535460e00180ee0\", \"5c2d2501c25b5a6a94d5fff8\", \"5c6450112a12c10e79249c23\", \"5c42061945e8fc4a94c6ec95\", \"5c180e56c25b5a144b269e66\", \"5c6b24137c7e6d1ed94ac554\", \"5c055b07c25b5a0ddcdfc80c\", \"5c2fcb35c25b5a625531c8f7\", \"5c11898ac25b5a24df0a4ce6\", \"5ca65189b8051b7fa5105828\", \"5c2d22dcc25b5a6a94d5fff7\", \"5ca231341535460e0018113b\", \"5ca62160b8051b7fa5105805\", \"5c424c9845e8fc4a94c6ec9e\", \"5c65ca2c7c7e6d0e0e770683\", \"5c58afaa4e9a670deb99b9b2\", \"5ca391651535460e001811c4\", \"5b7f1db1e534fe32c5f5db8c\", \"5be31566336da80de91464df\", \"5bd731d9336da80de9145a02\", \"5c7ee5ce400fe10e5be5a08a\", \"5c105091c25b5a0ddcdfd3ce\", \"5c93d5dc0419cc0e0a302707\", \"5ca1b6771535460e001810a9\", \"5c5a024a4e9a670deb99ba56\", \"5c4b2a324e9a670deb99b3cb\", \"5c5820e04e9a670deb99b99a\", \"5ca1d18b1535460e001810e5\", \"5c4a27344e9a670deb99b3a5\", \"5c4f75a54e9a670deb99b454\", \"5c2e816cc25b5a6a94d6008a\", \"5c6433932a12c10e79249c1e\", \"5c5dbba52a12c10e792495d8\", \"5c5b5a222a12c10e792493a2\", \"5c5b58c52a12c10e792493a0\", \"5b634cbd0fc13a0df633adfd\", \"5ca1f3ca1535460e001810ea\", \"5c54bee34e9a670deb99b8f7\", \"5ca1f7e11535460e00181112\", \"5c2e30e6c25b5a6a94d60066\", \"5c2e2fe7c25b5a6a94d60065\", \"5c40f62245e8fc4a94c6ec3b\", \"5be4994a336da80de91468f7\", \"5c607be12a12c10e79249854\", \"5c9119358990750e252b5f54\", \"5c8ff3bc8990750e252b5eb6\", \"5c9a57120419cc2016a7d2cf\", \"5c4b7bac4e9a670deb99b3e0\", \"5c2e7d79c25b5a6a94d6007c\", \"5c9d074f1535460e00180f0a\", \"5ca22a6f1535460e00181119\", \"5c61f5f72a12c10e7924993f\", \"5c4792cb45e8fc71d167bd0b\", \"5c9a54cf0419cc2016a7d2cd\", \"5c9cf5831535460e00180f08\", \"5c7577087c7e6d4670933479\", \"5c6d7ae37c7e6d1ed94ac5f6\", \"5c2e47c2c25b5a6a94d6006c\", \"5c2e4b91c25b5a6a94d6006e\", \"5c8ac140400fe17cd16bea1a\", \"5c798e3b400fe10e5be596e6\", \"5c2fcfebc25b5a625531c8fd\", \"5c9b9aa61535460e00180ed7\", \"5c48a68245e8fc71d167bd34\", \"5c59ed4f4e9a670deb99ba47\", \"5c2fd000c25b5a625531c8fe\", \"5c2d22c4c25b5a6a94d5fff6\", \"5c12c060c25b5a7c7a24d95b\", \"5c8fb58c400fe17cd16bebc4\", \"5c755fbb7c7e6d4670933402\", \"5bcf785b336da80de9145744\", \"5c24e825c25b5a6a94d5fe57\", \"5c63333d2a12c10e79249b5a\", \"5c4f2ca34e9a670deb99b44f\", \"5c9d1c8a1535460e00180f2d\", \"5c896d6b400fe17cd16be8f4\", \"5bd26081336da80de9145896\", \"5c2fd143c25b5a625531c8ff\", \"5b7f1cf7e534fe32c5f5db8a\", \"5bd87d09336da80de9145b23\", \"5c30f21fc25b5a625531c94f\", \"5c323e5ec25b5a625531cab4\", \"5bf5d445336da85b0dfed575\", \"5ca1a6221535460e0018106d\", \"5b7598a2e534fe0dcacd4124\", \"5bcf948e336da80de914578d\", \"5bcf3e49336da80de9145729\", \"5c904e5e8990750e252b5ef6\", \"5c9e45331535460e00180fcd\", \"5c0ae0a2c25b5a0ddcdfd2e0\", \"5c33842dc25b5a625531cbfd\", \"5c61a6ff2a12c10e79249927\", \"5c9a45990419cc2016a7d2c9\", \"5c881791400fe17cd16be8a5\", \"5bbdd20f01a25f0dd6703f1a\", \"5b7f1e07e534fe32c5f5db8d\", \"5c2fe5d6c25b5a625531c901\", \"5c9a76670419cc2016a7d2dc\", \"5bf33623336da80de9146a26\", \"5bfc5fdbc25b5a0ddcdfc7b2\", \"5bc539fd01a25f0dd6703f99\", \"5bc53aee01a25f0dd6703f9a\", \"5bc546f801a25f0dd6703f9b\", \"5bc5482001a25f0dd6703f9c\", \"5bc54a6701a25f0dd6703f9d\", \"5c2d286ec25b5a6a94d5fffd\", \"5c49fa4a45e8fc71d167bd51\", \"5c2e3d3dc25b5a6a94d60067\", \"5c75cf837c7e6d46709335e2\", \"5c65e26b7c7e6d0e0e770687\", \"5c46054c45e8fc4a94c6ed55\", \"5c3633afa0e4760df6a033fc\", \"5c9d1fb91535460e00180f4f\", \"5ca3cb0c1535460e001811e6\", \"5c6ae8b37c7e6d1ed94ac506\", \"5c4b6eed4e9a670deb99b3db\", \"5c1bc839c25b5a6a94d5fbed\", \"5c802e3c400fe10e5be5a313\", \"5c1801c4c25b5a144b269e65\", \"5c9a541c0419cc2016a7d2cb\", \"5c4b40de4e9a670deb99b3d2\", \"5c6eb8e87c7e6d1ed94ac98f\", \"5c5331944e9a670deb99b6d0\", \"5c34d375c25b5a625531cc35\", \"5c34d410c25b5a625531cc36\", \"5c76601a7c7e6d46709335ff\", \"5c7459ba7c7e6d1cc6f30ddf\", \"5c6edb967c7e6d1ed94ac9c8\", \"5c4f7b7e4e9a670deb99b455\", \"5c7814a07c7e6d467093364d\", \"5c98f5e00419cc1906bf83be\", \"5c34cb3ec25b5a625531cc2f\", \"5c8bba0b400fe17cd16beb0e\", \"5c65a2502a12c10e79249d77\", \"5bdb6a97336da80de9145e35\", \"5c8feb9d8990750e252b5eb5\", \"5bb63d390a76ac049becd62d\", \"5bb668bf0a76ac049becd674\", \"5bb6655d0a76ac049becd672\", \"5bb668700a76ac049becd673\", \"5c7ff7d2400fe10e5be5a2ee\", \"5c8155ee400fe14d326fd546\", \"5c420f4545e8fc4a94c6ec99\", \"5c2e4aaec25b5a6a94d6006d\", \"5c8ac76c400fe17cd16bea3e\", \"5c9bc2e31535460e00180edc\", \"5c9bc38e1535460e00180edd\", \"5c9bcffa1535460e00180edf\", \"5c7066ba7c7e6d1cc6f30c99\", \"5c9ba5c51535460e00180ed9\", \"5c633dcf2a12c10e79249b5d\", \"5c9bc11a1535460e00180edb\", \"5b634cbd0fc13a0df633adfc\", \"5c4b429a4e9a670deb99b3d7\", \"5c7eafaf400fe10e5be5a065\"]\n"
     ]
    }
   ],
   "source": [
    "print('[\"' + '\", \"'.join([u['_id'] for u in girder_connection.get('user')]) + '\"]')"
   ]
  },
  {
   "cell_type": "code",
   "execution_count": null,
   "metadata": {},
   "outputs": [],
   "source": [
    "activity_sets = girder_connection.get(\n",
    "    \"folder?parentType=collection&parentId={}\".format(\n",
    "        girder_connection.get(\n",
    "            \"collection?name=Volumes\"\n",
    "        )[0][\"_id\"]\n",
    "    )\n",
    ")\n",
    "activity_sets = [a for a in activity_sets if 'meta' in a]"
   ]
  },
  {
   "cell_type": "markdown",
   "metadata": {},
   "source": [
    "### Authorize Viewers to View their Users as Authorized in Admin Panel"
   ]
  },
  {
   "cell_type": "code",
   "execution_count": null,
   "metadata": {},
   "outputs": [],
   "source": [
    "for a in [a for a in activity_sets if 'meta' in a]:\n",
    "    print(\"Activity Set: {}\".format(a['name']))\n",
    "    for v in a['meta']['members']['viewers']:\n",
    "        print(\"Viewer: {}\".format(girder_connection.getUser(v)['firstName']))\n",
    "        for u in a['meta']['members']['viewers'][v]:\n",
    "            try: \n",
    "                access = girder_connection.get(\"user/{}/access\".format(u))\n",
    "            except:\n",
    "                access = {'users': []}\n",
    "            print(\"User: {}\".format(girder_connection.getUser(u)['firstName']))\n",
    "            print(\"access: {}\".format(\", \".join([user['name'] for user in access['users']])))\n",
    "            if (v not in [user['id'] for user in access['users']]):\n",
    "                access['users'].append({'id': v, 'level': 0})\n",
    "                girder_connection.put(\"user/{}/access\".format(u),\n",
    "                    data={\"access\":json.dumps(access)}\n",
    "                )\n",
    "            try:\n",
    "                responses = girder_connection.get(\n",
    "                    \"folder?parentType=user&parentId={}&name=Responses\".format(\n",
    "                        u\n",
    "                    )\n",
    "                )\n",
    "                for responses_folder in responses:\n",
    "                    print(\"Responses: {}\".format(responses_folder['name'] if 'name' in responses_folder else responses_folder))\n",
    "                    try:\n",
    "                        access = girder_connection.get(\n",
    "                            \"folder/{}/access\".format(\n",
    "                                responses_folder['_id']\n",
    "                            )\n",
    "                        )\n",
    "                        if v not in [uid[\"id\"] for uid in access['users']]:\n",
    "                            access['users'].append({'id': v, 'level': 0})\n",
    "                        girder_connection.put(\n",
    "                            'folder/{}/access'.format(\n",
    "                                responses_folder['_id']\n",
    "                            ),\n",
    "                            data={\n",
    "                                \"access\":json.dumps(access),\n",
    "                                \"recurse\":False\n",
    "                            },\n",
    "                        )\n",
    "                        print(access)\n",
    "                        activity_set_responses = girder_connection.get(\n",
    "                            \"folder?parentType=folder&parentId={}&name={}\".format(\n",
    "                                responses_folder['_id'],\n",
    "                                a['name']\n",
    "                            )\n",
    "                        )\n",
    "                        for activity_set_response_folder in activity_set_responses: \n",
    "                            print(\"Responses Folder: {}\".format(activity_set_response_folder['name']))\n",
    "                            access = girder_connection.get(\n",
    "                                \"folder/{}/access\".format(\n",
    "                                    activity_set_response_folder['_id']\n",
    "                                )\n",
    "                            )\n",
    "                            print(\"access: {}\".format(\", \".join([uid[\"name\"] for uid in access['users']])))\n",
    "                            if v not in [uid[\"id\"] for uid in access['users']]:\n",
    "                                access['users'].append({'id': v, 'level': 0})\n",
    "                            girder_connection.get('folder/{}'.format(activity_set_response_folder['_id']))['name']\n",
    "                            girder_connection.put(\n",
    "                                'folder/{}/access'.format(\n",
    "                                    activity_set_response_folder['_id']\n",
    "                                ),\n",
    "                                data={\n",
    "                                    \"access\":json.dumps(access),\n",
    "                                    \"recurse\":True\n",
    "                                },\n",
    "                            )\n",
    "                    except:\n",
    "                        activity_set_responses = None\n",
    "            except:\n",
    "                responses = None\n",
    "        print(\"\\n\")"
   ]
  },
  {
   "cell_type": "markdown",
   "metadata": {},
   "source": [
    "### Authorize Managers to View Users as Authorized in Admin Panel"
   ]
  },
  {
   "cell_type": "code",
   "execution_count": null,
   "metadata": {},
   "outputs": [],
   "source": [
    "for a in [a for a in activity_sets if 'meta' in a]:\n",
    "    for u in a['meta']['members']['users']:\n",
    "        try:\n",
    "            access = girder_connection.get(\n",
    "                'user/{}/access'.format(u)\n",
    "            )\n",
    "            for m in a['meta']['members']['managers']:\n",
    "                if m not in [uid['id'] for uid in access['users']]:\n",
    "                    print(m)\n",
    "                    access['users'].append({'id': m, 'level': 0})\n",
    "            print(access)\n",
    "            girder_connection.put(\n",
    "                'user/{}/access'.format(u),\n",
    "                data={\"access\":json.dumps(access)}\n",
    "            )\n",
    "        except:\n",
    "            access = {}"
   ]
  },
  {
   "cell_type": "markdown",
   "metadata": {},
   "source": [
    "### Authorize Healthy Brain Network Data Access Group Data Access to All **EMA: Parent** Activity Data"
   ]
  },
  {
   "cell_type": "code",
   "execution_count": null,
   "metadata": {},
   "outputs": [],
   "source": [
    "for user in girder_connection.getFolder('5bd87caa336da80de9145af2')['meta']['members']['users']:\n",
    "    try:\n",
    "        responses = girder_connection.get(\n",
    "            \"folder?parentType=user&parentId={}&name=Responses\".format(\n",
    "                user\n",
    "            )\n",
    "        )\n",
    "        for responses_folder in responses:\n",
    "            try:\n",
    "                ema_parent_responses = girder_connection.get(\n",
    "                    \"folder?parentType=folder&parentId={}&name=EMA%3A%20Parent\".format(\n",
    "                        responses_folder['_id']\n",
    "                    )\n",
    "                )\n",
    "                for ema_parent_response_folder in ema_parent_responses: \n",
    "                    access = girder_connection.get(\n",
    "                        \"folder/{}/access\".format(\n",
    "                            ema_parent_response_folder['_id']\n",
    "                        )\n",
    "                    )\n",
    "                    if \"5bab8fc80a76ac049becd5ec\" not in [gid[\"id\"] for gid in access['groups']]:\n",
    "                        access['groups'].append({'id': '5bab8fc80a76ac049becd5ec', 'level': 0})\n",
    "                print(access)\n",
    "                girder_connection.put(\n",
    "                    'folder/{}/access'.format(\n",
    "                        ema_parent_response_folder['_id']\n",
    "                    ),\n",
    "                    data={\n",
    "                        \"access\":json.dumps(access),\n",
    "                        \"recurse\":True\n",
    "                    },\n",
    "                )\n",
    "            except:\n",
    "                ema_parent_responses = None\n",
    "    except:\n",
    "        responses = None"
   ]
  },
  {
   "cell_type": "markdown",
   "metadata": {},
   "source": [
    "### Consolidate duplicated permissions"
   ]
  },
  {
   "cell_type": "code",
   "execution_count": null,
   "metadata": {},
   "outputs": [],
   "source": [
    "for u in girder_connection.get('user'):\n",
    "    access = girder_connection.get(\n",
    "        'user/{}/access'.format(u['_id'])\n",
    "    )\n",
    "    new_access = {'groups': access['groups'], 'users': []}\n",
    "    for au in access['users']:\n",
    "        if au['id'] not in [uid['id'] for uid in new_access['users']]:\n",
    "            new_access['users'].append(au)\n",
    "    print(new_access)\n",
    "    girder_connection.put(\n",
    "        'user/{}/access'.format(u[\"_id\"]),\n",
    "        data={\"access\":json.dumps(new_access)}\n",
    "    )"
   ]
  },
  {
   "cell_type": "markdown",
   "metadata": {},
   "source": [
    "### Purge non-existent users from admin panel"
   ]
  },
  {
   "cell_type": "code",
   "execution_count": null,
   "metadata": {},
   "outputs": [],
   "source": [
    "all_assignees = list({\n",
    "    *{\n",
    "        e for a in\n",
    "        activity_sets for e in\n",
    "        a['meta']['members']['editors']\n",
    "    },\n",
    "    *{\n",
    "        m for a in\n",
    "        activity_sets for m in\n",
    "        a['meta']['members']['managers']\n",
    "    },\n",
    "    *{\n",
    "        u for a in\n",
    "        activity_sets for u in\n",
    "        a['meta']['members']['users']\n",
    "    },\n",
    "    *{\n",
    "        v for a in\n",
    "        activity_sets for v in\n",
    "        a['meta']['members']['viewers']\n",
    "    },\n",
    "    *{\n",
    "        u for a in\n",
    "        activity_sets for v in\n",
    "        a['meta']['members']['viewers'] for u in\n",
    "        a['meta']['members']['viewers'][v] \n",
    "    }\n",
    "})\n",
    "purge_list = []\n",
    "for assignee in all_assignees:\n",
    "    try:\n",
    "        girder_connection.getUser(assignee)\n",
    "    except:\n",
    "        purge_list.append(assignee)\n",
    "print(purge_list)\n",
    "for a in activity_sets:\n",
    "    original_members = a['meta']['members'].copy()\n",
    "    for role in ['editors', 'users', 'managers']:\n",
    "        a['meta']['members'][role] = list(set(a['meta']['members'][role]) - set(purge_list))\n",
    "    for purgee in purge_list:\n",
    "        a['meta']['members']['viewers'].pop(purgee, None)\n",
    "    for v in a['meta']['members']['viewers']:\n",
    "        a['meta']['members']['viewers'][v] = list(set(a['meta']['members']['viewers'][v]) - set(purge_list))\n",
    "    if(original_members != a['meta']['members']):\n",
    "        girder_connection.put(\n",
    "            'folder/{}'.format(\n",
    "                a['_id']\n",
    "            ),\n",
    "            data={\n",
    "                'metadata':json.dumps(\n",
    "                    a['meta']\n",
    "                )\n",
    "            }\n",
    "        )"
   ]
  },
  {
   "cell_type": "code",
   "execution_count": null,
   "metadata": {},
   "outputs": [],
   "source": [
    "for manager in [a for a in activity_sets if a['name'] == \"EMA: Parent\"][0]['meta']['members']['managers']:\n",
    "    u = girder_connection.getUser(manager)\n",
    "    print(\"{} {}\".format(u['firstName'], u['lastName']))"
   ]
  },
  {
   "cell_type": "code",
   "execution_count": null,
   "metadata": {},
   "outputs": [],
   "source": [
    "all_assignees = list({\n",
    "    *{\n",
    "        e for a in\n",
    "        activity_sets for e in\n",
    "        a['meta']['members']['editors']\n",
    "    },\n",
    "    *{\n",
    "        m for a in\n",
    "        activity_sets for m in\n",
    "        a['meta']['members']['managers']\n",
    "    },\n",
    "    *{\n",
    "        u for a in\n",
    "        activity_sets for u in\n",
    "        a['meta']['members']['users']\n",
    "    },\n",
    "    *{\n",
    "        v for a in\n",
    "        activity_sets for v in\n",
    "        a['meta']['members']['viewers']\n",
    "    },\n",
    "    *{\n",
    "        u for a in\n",
    "        activity_sets for v in\n",
    "        a['meta']['members']['viewers'] for u in\n",
    "        a['meta']['members']['viewers'][v] \n",
    "    }\n",
    "})\n",
    "for assignee in all_assignees:\n",
    "    if assignee not in [a for a in activity_sets if a['name'] == \"EMA: Parent\"][0]['meta']['members']['users']:\n",
    "        u = girder_connection.getUser(assignee)\n",
    "        print(\"{} {} {}\".format(u['firstName'], u['lastName'], u['_id']))"
   ]
  },
  {
   "cell_type": "code",
   "execution_count": null,
   "metadata": {},
   "outputs": [],
   "source": []
  }
 ],
 "metadata": {
  "kernelspec": {
   "display_name": "Python 3",
   "language": "python",
   "name": "python3"
  },
  "language_info": {
   "codemirror_mode": {
    "name": "ipython",
    "version": 3
   },
   "file_extension": ".py",
   "mimetype": "text/x-python",
   "name": "python",
   "nbconvert_exporter": "python",
   "pygments_lexer": "ipython3",
   "version": "3.6.5"
  }
 },
 "nbformat": 4,
 "nbformat_minor": 2
}
