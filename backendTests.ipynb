{
 "cells": [
  {
   "cell_type": "code",
   "execution_count": 1,
   "metadata": {},
   "outputs": [],
   "source": [
    "import girderformindlogger\n",
    "import girder_client as gc\n",
    "import pandas as pd\n",
    "import numpy as np"
   ]
  },
  {
   "cell_type": "code",
   "execution_count": 2,
   "metadata": {},
   "outputs": [],
   "source": [
    "girder = gc.GirderClient(host=\"localhost\", port=8080)"
   ]
  },
  {
   "cell_type": "markdown",
   "metadata": {},
   "source": [
    "# Plan\n",
    "\n",
    "- [x] create a new user (userA)\n",
    "- [x] get userA's applets and make sure the list is empty\n",
    "- [x] userA creates an applet with an activity-set-url (url TBD)\n",
    "- [x] get userA's applets and make sure we have the applet they just created\n",
    "- [x] create userB\n",
    "- [x] userA invites userB to the applet\n",
    "- [x] make sure userB has an invite\n",
    "- [x] userB accepts their invite\n",
    "- [x] list userB's applets\n",
    "- [x] userA invites userC (by email) to the applet\n",
    "- [ ] check that the applet user table has userC pending\n",
    "- [x] create userC with the same email\n",
    "- [ ] check that userC has an invite\n",
    "- [ ] accept userC's applet invite\n",
    "- [ ] check userC's applets\n",
    "- [ ] userA, B and C submit responses to each activity in the applet\n",
    "- [ ] userA can see user's B & C's data\n",
    "- [ ] get responses for each user in the last 7 days\n",
    "- [ ] user B removes the applet without removing data\n",
    "- [ ] user C removes the applet AND removes data\n",
    "- [x] delete userB and userC\n",
    "- [ ] userA deactivites their applet\n",
    "- [ ] delete userA\n"
   ]
  },
  {
   "cell_type": "markdown",
   "metadata": {},
   "source": [
    "# Create a new user"
   ]
  },
  {
   "cell_type": "code",
   "execution_count": 3,
   "metadata": {},
   "outputs": [],
   "source": [
    "def testCreateUser(email=None):\n",
    "    randomUser = np.random.randint(1000000)\n",
    "    firstName = 'test'\n",
    "    lastName = 'user'\n",
    "    # NOTE: girder makes login and email lowercase!!!\n",
    "    login = 'testuser{}'.format(randomUser)\n",
    "    if not email:\n",
    "        email = 'testemail{}@testemail.com'.format(randomUser)\n",
    "    password = 'password'\n",
    "    createUser = girder.post('user', parameters=dict(firstName=firstName,\n",
    "                                        lastName=lastName,\n",
    "                                        login=login,\n",
    "                                        email=email,\n",
    "                                        password=password\n",
    "                                       )\n",
    "               )\n",
    "    # assert 'authToken' in createUser.keys(), 'user has no token, {}'.format(createUser)\n",
    "    assert createUser['email'] == email, 'email does not match, {} {}'.format(createUser['email'], email)\n",
    "    assert createUser['firstName'] == firstName, 'firstName does not match'\n",
    "    assert createUser['lastName'] == lastName, 'lastName does not match'\n",
    "    assert createUser['login'] == login, 'login does not match, {} {}'.format(createUser['login'], login)\n",
    "    assert createUser['admin'] == False, 'user is an admin'\n",
    "    assert createUser['_modelType'] == 'user', 'model is not user'\n",
    "    assert createUser['public'] == False, 'user is public!'\n",
    "\n",
    "    return createUser"
   ]
  },
  {
   "cell_type": "code",
   "execution_count": 4,
   "metadata": {},
   "outputs": [],
   "source": [
    "def authenticate(user):\n",
    "    girder.authenticate(username=user['login'], password='password')"
   ]
  },
  {
   "cell_type": "code",
   "execution_count": 5,
   "metadata": {},
   "outputs": [],
   "source": [
    "userA = testCreateUser()\n",
    "userB = testCreateUser()\n",
    "\n",
    "#authenticate(userA)"
   ]
  },
  {
   "cell_type": "markdown",
   "metadata": {},
   "source": [
    "# Get applets when the user doesn't have any"
   ]
  },
  {
   "cell_type": "code",
   "execution_count": 6,
   "metadata": {},
   "outputs": [],
   "source": [
    "def getAppletsNewUser(new_user):\n",
    "    girder.authenticate(username=new_user['login'], password='password')\n",
    "    appletList = girder.get('user/applets')\n",
    "    assert len(appletList) == 0, 'a new user should have an empty list of applets. we get {}'.format(appletList)\n",
    "    return 1"
   ]
  },
  {
   "cell_type": "code",
   "execution_count": 7,
   "metadata": {},
   "outputs": [
    {
     "data": {
      "text/plain": [
       "1"
      ]
     },
     "execution_count": 7,
     "metadata": {},
     "output_type": "execute_result"
    }
   ],
   "source": [
    "getAppletsNewUser(userA)"
   ]
  },
  {
   "cell_type": "markdown",
   "metadata": {},
   "source": [
    "# get Applet by ID\n",
    "\n",
    "want to check recently added applet here"
   ]
  },
  {
   "cell_type": "code",
   "execution_count": 8,
   "metadata": {},
   "outputs": [],
   "source": [
    "def getAppletById(user, ar):\n",
    "    girder.authenticate(username=user['login'], password='password')\n",
    "    res = girder.get('applet/{}'.format(ar['_id']))\n",
    "    assert res['applet']['_id'].split('applet/')[1] == ar['_id'], 'applet ids are not the same'\n",
    "    return 1"
   ]
  },
  {
   "cell_type": "markdown",
   "metadata": {},
   "source": [
    "# Add an applet"
   ]
  },
  {
   "cell_type": "code",
   "execution_count": 9,
   "metadata": {},
   "outputs": [],
   "source": [
    "def addApplet(new_user):\n",
    "    girder.authenticate(username=new_user['login'], password='password')\n",
    "\n",
    "    # TODO: create an activity-set that JUST for testing.\n",
    "    # make sure it has all the weird qualities that can break\n",
    "\n",
    "\n",
    "    # for now, lets do the mindlogger demo\n",
    "    activitySetUrl = 'http://repronim.org/schema-standardization/activity-sets/mindlogger-demo/mindlogger-demo_schema'\n",
    "    randomAS = np.random.randint(1000000)\n",
    "    ar = girder.post('applet', parameters=dict(activitySetUrl = activitySetUrl, name='testActivitySet{}'.format(randomAS)))\n",
    "\n",
    "    assert ar['_id'], 'there is no ID!'\n",
    "    assert ar['meta']['activitySet']['url'] == activitySetUrl, 'the URLS do not match! {} {}'.format(ar['meta']['activitySet']['url'], activitySetUrl)\n",
    "    \n",
    "    assert getAppletById(new_user, ar) == 1, 'something wrong with getAppletById'\n",
    "    return ar"
   ]
  },
  {
   "cell_type": "code",
   "execution_count": 10,
   "metadata": {},
   "outputs": [],
   "source": [
    "userA_applets = addApplet(userA)"
   ]
  },
  {
   "cell_type": "code",
   "execution_count": 11,
   "metadata": {},
   "outputs": [],
   "source": [
    "def getAppletsUser(user, n=1):\n",
    "    girder.authenticate(username=user['login'], password='password')\n",
    "    appletList = girder.get('user/applets')\n",
    "    assert len(appletList) == n, 'a new user should have {} applets. we get {}'.format(n, len(appletList))\n",
    "    return 1"
   ]
  },
  {
   "cell_type": "code",
   "execution_count": 12,
   "metadata": {},
   "outputs": [
    {
     "data": {
      "text/plain": [
       "1"
      ]
     },
     "execution_count": 12,
     "metadata": {},
     "output_type": "execute_result"
    }
   ],
   "source": [
    "getAppletsUser(userA, 1)"
   ]
  },
  {
   "cell_type": "markdown",
   "metadata": {},
   "source": [
    "# Invite userB to userA's applet"
   ]
  },
  {
   "cell_type": "code",
   "execution_count": 29,
   "metadata": {},
   "outputs": [],
   "source": [
    "def inviteUserToApplet(userA, userA_applets, userB):\n",
    "    groupId = userA_applets['roles']['user']['groups'][0]['id']\n",
    "    authenticate(userA)\n",
    "    inviteResp = girder.post('group/{}/invitation'.format(groupId), {\n",
    "        \"email\": userB['email']\n",
    "    })\n",
    "    assert inviteResp['public'] == False, 'invite is public!'\n",
    "    assert len(inviteResp['access']['users']), 'ths user was not added'\n",
    "    return inviteResp"
   ]
  },
  {
   "cell_type": "code",
   "execution_count": 14,
   "metadata": {},
   "outputs": [],
   "source": [
    "inviteB = inviteUserToApplet(userA, userA_applets, userB)"
   ]
  },
  {
   "cell_type": "markdown",
   "metadata": {},
   "source": [
    "## Get a group's pending invites and check for a user"
   ]
  },
  {
   "cell_type": "code",
   "execution_count": 15,
   "metadata": {},
   "outputs": [],
   "source": [
    "def checkInvitesForUser(userA, userA_applets, userB):\n",
    "    authenticate(userA)\n",
    "    groupId = userA_applets['roles']['user']['groups'][0]['id']\n",
    "    pendingInvites = girder.get('group/{}/invitation'.format(groupId))\n",
    "    value = False\n",
    "    for invite in pendingInvites:\n",
    "        if invite['email'] == userB['email']:\n",
    "            value = True\n",
    "            break\n",
    "    assert value, \"email not in list of pending invites, {}\".format(pendingInvites)\n",
    "    return 1"
   ]
  },
  {
   "cell_type": "code",
   "execution_count": 16,
   "metadata": {},
   "outputs": [
    {
     "data": {
      "text/plain": [
       "1"
      ]
     },
     "execution_count": 16,
     "metadata": {},
     "output_type": "execute_result"
    }
   ],
   "source": [
    "checkInvitesForUser(userA, userA_applets, userB)"
   ]
  },
  {
   "cell_type": "markdown",
   "metadata": {},
   "source": [
    "### Accept an applet invite"
   ]
  },
  {
   "cell_type": "code",
   "execution_count": 17,
   "metadata": {},
   "outputs": [],
   "source": [
    "def checkForInvite(userB, userA_applets):\n",
    "    authenticate(userB)\n",
    "    pendingInvitesForUser = girder.get('user/invites')\n",
    "    groupId = userA_applets['roles']['user']['groups'][0]['id']\n",
    "    assert len(pendingInvitesForUser), \"this user has no invites\"\n",
    "    assert pendingInvitesForUser[0]['_id'] == groupId, \"this user doesn't have the invite you expect\"\n",
    "    return groupId"
   ]
  },
  {
   "cell_type": "code",
   "execution_count": 18,
   "metadata": {},
   "outputs": [],
   "source": [
    "def acceptAppletInvite(userB, userA_applets):\n",
    "    groupId = checkForInvite(userB, userA_applets)\n",
    "    authenticate(userB)\n",
    "    resp = girder.post('group/{}/member'.format(groupId))\n",
    "    assert resp['_modelType'] == 'group', \"something weird about response, {}\".format(resp)\n",
    "    return 1"
   ]
  },
  {
   "cell_type": "code",
   "execution_count": 19,
   "metadata": {},
   "outputs": [
    {
     "data": {
      "text/plain": [
       "1"
      ]
     },
     "execution_count": 19,
     "metadata": {},
     "output_type": "execute_result"
    }
   ],
   "source": [
    "acceptAppletInvite(userB, userA_applets)"
   ]
  },
  {
   "cell_type": "markdown",
   "metadata": {},
   "source": [
    "get a list of applet users (manager)"
   ]
  },
  {
   "cell_type": "code",
   "execution_count": 48,
   "metadata": {},
   "outputs": [],
   "source": [
    "def getUserTable(userA, userA_applets):\n",
    "    authenticate(userA)\n",
    "    appletUsers = girder.get('applet/{}/users'.format(userA_applets['_id']))\n",
    "    return appletUsers"
   ]
  },
  {
   "cell_type": "markdown",
   "metadata": {},
   "source": [
    "check that userB has an applet"
   ]
  },
  {
   "cell_type": "code",
   "execution_count": 20,
   "metadata": {},
   "outputs": [
    {
     "data": {
      "text/plain": [
       "1"
      ]
     },
     "execution_count": 20,
     "metadata": {},
     "output_type": "execute_result"
    }
   ],
   "source": [
    "getAppletsUser(userB, 1)"
   ]
  },
  {
   "cell_type": "markdown",
   "metadata": {},
   "source": [
    "### Invite someone who does not have an account yet"
   ]
  },
  {
   "cell_type": "code",
   "execution_count": 56,
   "metadata": {},
   "outputs": [],
   "source": [
    "userCemail = 'randomuserc{}@test.com'.format(np.random.randint(1000000))\n",
    "inviteC = inviteUserToApplet(userA, userA_applets, {'email': userCemail})"
   ]
  },
  {
   "cell_type": "code",
   "execution_count": 57,
   "metadata": {},
   "outputs": [
    {
     "data": {
      "text/plain": [
       "{'_accessLevel': 2,\n",
       " '_id': '5d8506c631c0900f975f43ea',\n",
       " '_modelType': 'group',\n",
       " 'access': {'users': [{'flags': [],\n",
       "    'id': '5d8506c531c0900f975f43e2',\n",
       "    'level': 2}]},\n",
       " 'created': '2019-09-20T17:05:10.123000+00:00',\n",
       " 'description': '',\n",
       " 'name': 'Default testActivitySet210534 (5d8506c631c0900f975f43e9) Users',\n",
       " 'openRegistration': False,\n",
       " 'public': False,\n",
       " 'requests': [],\n",
       " 'updated': '2019-09-20T17:36:41.937678+00:00'}"
      ]
     },
     "execution_count": 57,
     "metadata": {},
     "output_type": "execute_result"
    }
   ],
   "source": [
    "inviteC"
   ]
  },
  {
   "cell_type": "code",
   "execution_count": 71,
   "metadata": {},
   "outputs": [],
   "source": [
    "def checkAppletUserTableForUser(userA, userA_applets, userCemail):\n",
    "    ut = getUserTable(userA, userA_applets)\n",
    "    assert len(list(filter(lambda x: x['email'] == userCemail, ut))) == 1\n",
    "    return ut"
   ]
  },
  {
   "cell_type": "code",
   "execution_count": 72,
   "metadata": {},
   "outputs": [
    {
     "data": {
      "text/plain": [
       "[{'_id': '5d850e43b855eabc011391e9',\n",
       "  'email': 'randomuserc493026@test.com',\n",
       "  'groups': [{'_id': '5d8506c631c0900f975f43ea',\n",
       "    'name': 'Default testActivitySet210534 (5d8506c631c0900f975f43e9) Users',\n",
       "    'role': 'user',\n",
       "    'status': 'pending'}]},\n",
       " {'_id': '5d8506c531c0900f975f43e2',\n",
       "  'email': 'testemail550840@testemail.com',\n",
       "  'groups': [{'_id': '5d8506c631c0900f975f43ea',\n",
       "    'name': 'Default testActivitySet210534 (5d8506c631c0900f975f43e9) Users',\n",
       "    'role': 'user',\n",
       "    'status': 'active'}]},\n",
       " {'_id': '5d8506c531c0900f975f43e5',\n",
       "  'email': 'testemail108472@testemail.com',\n",
       "  'groups': [{'_id': '5d8506c631c0900f975f43ea',\n",
       "    'name': 'Default testActivitySet210534 (5d8506c631c0900f975f43e9) Users',\n",
       "    'role': 'user',\n",
       "    'status': 'active'}]},\n",
       " {'_id': '5d8506c531c0900f975f43e2',\n",
       "  'email': 'testemail550840@testemail.com',\n",
       "  'groups': [{'_id': '5d8506c631c0900f975f43eb',\n",
       "    'name': 'Default testActivitySet210534 (5d8506c631c0900f975f43e9) Editors',\n",
       "    'role': 'editor',\n",
       "    'status': 'active'}]},\n",
       " {'_id': '5d8506c531c0900f975f43e2',\n",
       "  'email': 'testemail550840@testemail.com',\n",
       "  'groups': [{'_id': '5d8506c631c0900f975f43ec',\n",
       "    'name': 'Default testActivitySet210534 (5d8506c631c0900f975f43e9) Managers',\n",
       "    'role': 'manager',\n",
       "    'status': 'active'}]},\n",
       " {'_id': '5d8506c531c0900f975f43e2',\n",
       "  'email': 'testemail550840@testemail.com',\n",
       "  'groups': [{'_id': '5d8506c631c0900f975f43ed',\n",
       "    'name': 'Default testActivitySet210534 (5d8506c631c0900f975f43e9) Reviewers',\n",
       "    'role': 'reviewer',\n",
       "    'status': 'active'}]}]"
      ]
     },
     "execution_count": 72,
     "metadata": {},
     "output_type": "execute_result"
    }
   ],
   "source": [
    "checkAppletUserTableForUser(userA, userA_applets, userCemail)"
   ]
  },
  {
   "cell_type": "markdown",
   "metadata": {},
   "source": [
    "create that person's account"
   ]
  },
  {
   "cell_type": "code",
   "execution_count": 62,
   "metadata": {},
   "outputs": [],
   "source": [
    "userC = testCreateUser(userCemail)"
   ]
  },
  {
   "cell_type": "markdown",
   "metadata": {},
   "source": [
    "and check if they have an invite"
   ]
  },
  {
   "cell_type": "code",
   "execution_count": 63,
   "metadata": {},
   "outputs": [
    {
     "data": {
      "text/plain": [
       "1"
      ]
     },
     "execution_count": 63,
     "metadata": {},
     "output_type": "execute_result"
    }
   ],
   "source": [
    "checkInvitesForUser(userA, userA_applets, userC)"
   ]
  },
  {
   "cell_type": "code",
   "execution_count": 64,
   "metadata": {},
   "outputs": [
    {
     "data": {
      "text/plain": [
       "'5d8506c631c0900f975f43ea'"
      ]
     },
     "execution_count": 64,
     "metadata": {},
     "output_type": "execute_result"
    }
   ],
   "source": [
    "checkForInvite(userC, userA_applets)"
   ]
  },
  {
   "cell_type": "markdown",
   "metadata": {},
   "source": [
    "# Delete a user"
   ]
  },
  {
   "cell_type": "code",
   "execution_count": null,
   "metadata": {},
   "outputs": [],
   "source": [
    "def testDeleteUser(new_user):\n",
    "\n",
    "    girder.authenticate(username=new_user['login'], password='password')\n",
    "\n",
    "    deleteUser = girder.delete('user/{}'.format(new_user['_id']))\n",
    "\n",
    "    assert deleteUser['message'] == 'Deleted user {}.'.format(new_user['login']), \"{} does not equal {}\".format(deleteUser['message'], 'Deleted user {}'.format(new_user['login']))\n",
    "    \n",
    "    return 1"
   ]
  },
  {
   "cell_type": "code",
   "execution_count": null,
   "metadata": {},
   "outputs": [],
   "source": [
    "testDeleteUser(userA)\n",
    "testDeleteUser(userB)\n",
    "testDeleteUser(userC)"
   ]
  },
  {
   "cell_type": "code",
   "execution_count": null,
   "metadata": {},
   "outputs": [],
   "source": []
  }
 ],
 "metadata": {
  "kernelspec": {
   "display_name": "Python 3",
   "language": "python",
   "name": "python3"
  },
  "language_info": {
   "codemirror_mode": {
    "name": "ipython",
    "version": 3
   },
   "file_extension": ".py",
   "mimetype": "text/x-python",
   "name": "python",
   "nbconvert_exporter": "python",
   "pygments_lexer": "ipython3",
   "version": "3.7.3"
  }
 },
 "nbformat": 4,
 "nbformat_minor": 2
}
