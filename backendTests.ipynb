{
 "cells": [
  {
   "cell_type": "code",
   "execution_count": 1,
   "metadata": {},
   "outputs": [],
   "source": [
    "import girderformindlogger\n",
    "import girder_client as gc\n",
    "import pandas as pd\n",
    "import numpy as np"
   ]
  },
  {
   "cell_type": "code",
   "execution_count": 2,
   "metadata": {},
   "outputs": [],
   "source": [
    "girder = gc.GirderClient(host=\"f9e93620.ngrok.io\")"
   ]
  },
  {
   "cell_type": "markdown",
   "metadata": {},
   "source": [
    "# Plan\n",
    "\n",
    "- [x] create a new user (userA)\n",
    "- [x] get userA's applets and make sure the list is empty\n",
    "- [x] userA creates an applet with an activity-set-url (url TBD)\n",
    "- [x] get userA's applets and make sure we have the applet they just created\n",
    "- [x] create userB\n",
    "- [ ] userA invites userB to the applet\n",
    "- [ ] make sure userB has an invite\n",
    "- [ ] userB accepts their invite\n",
    "- [ ] list userB's applets\n",
    "- [ ] userA invites userC (by email) to the applet\n",
    "- [ ] create userC with the same email\n",
    "- [ ] check that userC has an invite\n",
    "- [ ] accept userC's applet invite\n",
    "- [ ] check userC's applets\n",
    "- [ ] userA, B and C submit responses to each activity in the applet\n",
    "- [ ] userA can see user's B & C's data\n",
    "- [ ] get responses for each user in the last 7 days\n",
    "- [ ] user B removes the applet without removing data\n",
    "- [ ] user C removes the applet AND removes data\n",
    "- [x] delete userB and userC\n",
    "- [ ] userA deactivites their applet\n",
    "- [ ] delete userA\n"
   ]
  },
  {
   "cell_type": "markdown",
   "metadata": {},
   "source": [
    "# Create a new user"
   ]
  },
  {
   "cell_type": "code",
   "execution_count": 3,
   "metadata": {},
   "outputs": [],
   "source": [
    "def testCreateUser(email=None):\n",
    "    randomUser = np.random.randint(1000000)\n",
    "    firstName = 'test'\n",
    "    lastName = 'user'\n",
    "    # NOTE: girder makes login and email lowercase!!!\n",
    "    login = 'testuser{}'.format(randomUser)\n",
    "    if not email:\n",
    "        email = 'testemail{}@testemail.com'.format(randomUser)\n",
    "    password = 'password'\n",
    "    createUser = girder.post('user', parameters=dict(firstName=firstName,\n",
    "                                        lastName=lastName,\n",
    "                                        login=login,\n",
    "                                        email=email,\n",
    "                                        password=password\n",
    "                                       )\n",
    "               )\n",
    "    # assert 'authToken' in createUser.keys(), 'user has no token, {}'.format(createUser)\n",
    "    assert createUser['email'] == email, 'email does not match, {} {}'.format(createUser['email'], email)\n",
    "    assert createUser['firstName'] == firstName, 'firstName does not match'\n",
    "    assert createUser['lastName'] == lastName, 'lastName does not match'\n",
    "    assert createUser['login'] == login, 'login does not match, {} {}'.format(createUser['login'], login)\n",
    "    assert createUser['admin'] == False, 'user is an admin'\n",
    "    assert createUser['_modelType'] == 'user', 'model is not user'\n",
    "    assert createUser['public'] == False, 'user is public!'\n",
    "\n",
    "    return createUser"
   ]
  },
  {
   "cell_type": "code",
   "execution_count": 4,
   "metadata": {},
   "outputs": [],
   "source": [
    "def authenticate(user):\n",
    "    girder.authenticate(username=user['login'], password='password')"
   ]
  },
  {
   "cell_type": "code",
   "execution_count": 5,
   "metadata": {},
   "outputs": [],
   "source": [
    "userA = testCreateUser()\n",
    "userB = testCreateUser()\n",
    "\n",
    "#authenticate(userA)"
   ]
  },
  {
   "cell_type": "markdown",
   "metadata": {},
   "source": [
    "# Get applets when the user doesn't have any"
   ]
  },
  {
   "cell_type": "code",
   "execution_count": 6,
   "metadata": {},
   "outputs": [],
   "source": [
    "def getAppletsNewUser(new_user):\n",
    "    girder.authenticate(username=new_user['login'], password='password')\n",
    "    appletList = girder.get('user/applets')\n",
    "    assert len(appletList) == 0, 'a new user should have an empty list of applets. we get {}'.format(appletList)\n",
    "    return 1"
   ]
  },
  {
   "cell_type": "code",
   "execution_count": 7,
   "metadata": {},
   "outputs": [
    {
     "data": {
      "text/plain": [
       "1"
      ]
     },
     "execution_count": 7,
     "metadata": {},
     "output_type": "execute_result"
    }
   ],
   "source": [
    "getAppletsNewUser(userA)"
   ]
  },
  {
   "cell_type": "markdown",
   "metadata": {},
   "source": [
    "# get Applet by ID\n",
    "\n",
    "want to check recently added applet here"
   ]
  },
  {
   "cell_type": "code",
   "execution_count": 8,
   "metadata": {},
   "outputs": [],
   "source": [
    "def getAppletById(user, ar):\n",
    "    girder.authenticate(username=user['login'], password='password')\n",
    "    res = girder.get('applet/{}'.format(ar['_id']))\n",
    "    assert res['applet']['_id'].split('applet/')[1] == ar['_id'], 'applet ids are not the same'\n",
    "    return 1"
   ]
  },
  {
   "cell_type": "markdown",
   "metadata": {},
   "source": [
    "# Add an applet"
   ]
  },
  {
   "cell_type": "code",
   "execution_count": 9,
   "metadata": {},
   "outputs": [],
   "source": [
    "def addApplet(new_user):\n",
    "    girder.authenticate(username=new_user['login'], password='password')\n",
    "\n",
    "    # TODO: create an activity-set that JUST for testing.\n",
    "    # make sure it has all the weird qualities that can break\n",
    "\n",
    "\n",
    "    # for now, lets do the mindlogger demo\n",
    "    activitySetUrl = 'http://repronim.org/schema-standardization/activity-sets/mindlogger-demo/mindlogger-demo_schema'\n",
    "    randomAS = np.random.randint(1000000)\n",
    "    ar = girder.post('applet', parameters=dict(activitySetUrl = activitySetUrl, name='testActivitySet{}'.format(randomAS)))\n",
    "\n",
    "    assert ar['_id'], 'there is no ID!'\n",
    "    assert ar['meta']['activitySet']['url'] == activitySetUrl, 'the URLS do not match! {} {}'.format(ar['meta']['activitySet']['url'], activitySetUrl)\n",
    "    \n",
    "    assert getAppletById(new_user, ar) == 1, 'something wrong with getAppletById'\n",
    "    return ar"
   ]
  },
  {
   "cell_type": "code",
   "execution_count": 10,
   "metadata": {},
   "outputs": [],
   "source": [
    "userA_applets = addApplet(userA)"
   ]
  },
  {
   "cell_type": "code",
   "execution_count": 11,
   "metadata": {},
   "outputs": [],
   "source": [
    "def getAppletsUser(user, n=1):\n",
    "    girder.authenticate(username=user['login'], password='password')\n",
    "    appletList = girder.get('user/applets')\n",
    "    assert len(appletList) == n, 'a new user should have {} applets. we get {}'.format(n, len(appletList))\n",
    "    return 1"
   ]
  },
  {
   "cell_type": "code",
   "execution_count": 12,
   "metadata": {},
   "outputs": [
    {
     "data": {
      "text/plain": [
       "1"
      ]
     },
     "execution_count": 12,
     "metadata": {},
     "output_type": "execute_result"
    }
   ],
   "source": [
    "getAppletsUser(userA, 1)"
   ]
  },
  {
   "cell_type": "markdown",
   "metadata": {},
   "source": [
    "# Invite userB to userA's applet"
   ]
  },
  {
   "cell_type": "code",
   "execution_count": 13,
   "metadata": {},
   "outputs": [],
   "source": [
    "def inviteUserToApplet(userA, userA_applets, userB):\n",
    "    groupId = userA_applets['roles']['user']['groups'][0]['id']\n",
    "    authenticate(userA)\n",
    "    inviteResp = girder.post('group/{}/invitation'.format(groupId), {\n",
    "        \"email\": userB['email']\n",
    "    })\n",
    "    assert inviteResp['public'] == False, 'invite is public!'\n",
    "    assert len(inviteResp['access']['users']), 'ths user was not added'"
   ]
  },
  {
   "cell_type": "code",
   "execution_count": 14,
   "metadata": {},
   "outputs": [],
   "source": [
    "inviteB = inviteUserToApplet(userA, userA_applets, userB)"
   ]
  },
  {
   "cell_type": "code",
   "execution_count": 15,
   "metadata": {},
   "outputs": [
    {
     "ename": "HttpError",
     "evalue": "HTTP error 500: POST https://f9e93620.ngrok.io:443/api/v1/group/5d83dcd77c925d57453cfc41/invitation?email=randomuserc444049%40test.com\nResponse text: {\"message\": \"An unexpected error occurred on the server.\", \"type\": \"internal\", \"uid\": \"f6471646-471d-4b24-bee6-c14073ed526e\"}",
     "output_type": "error",
     "traceback": [
      "\u001b[0;31m---------------------------------------------------------------------------\u001b[0m",
      "\u001b[0;31mHttpError\u001b[0m                                 Traceback (most recent call last)",
      "\u001b[0;32m<ipython-input-15-2bc27ee7eb43>\u001b[0m in \u001b[0;36m<module>\u001b[0;34m\u001b[0m\n\u001b[1;32m      1\u001b[0m \u001b[0muserCemail\u001b[0m \u001b[0;34m=\u001b[0m \u001b[0;34m'randomuserc{}@test.com'\u001b[0m\u001b[0;34m.\u001b[0m\u001b[0mformat\u001b[0m\u001b[0;34m(\u001b[0m\u001b[0mnp\u001b[0m\u001b[0;34m.\u001b[0m\u001b[0mrandom\u001b[0m\u001b[0;34m.\u001b[0m\u001b[0mrandint\u001b[0m\u001b[0;34m(\u001b[0m\u001b[0;36m1000000\u001b[0m\u001b[0;34m)\u001b[0m\u001b[0;34m)\u001b[0m\u001b[0;34m\u001b[0m\u001b[0;34m\u001b[0m\u001b[0m\n\u001b[0;32m----> 2\u001b[0;31m \u001b[0minviteC\u001b[0m \u001b[0;34m=\u001b[0m \u001b[0minviteUserToApplet\u001b[0m\u001b[0;34m(\u001b[0m\u001b[0muserA\u001b[0m\u001b[0;34m,\u001b[0m \u001b[0muserA_applets\u001b[0m\u001b[0;34m,\u001b[0m \u001b[0;34m{\u001b[0m\u001b[0;34m'email'\u001b[0m\u001b[0;34m:\u001b[0m \u001b[0muserCemail\u001b[0m\u001b[0;34m}\u001b[0m\u001b[0;34m)\u001b[0m\u001b[0;34m\u001b[0m\u001b[0;34m\u001b[0m\u001b[0m\n\u001b[0m",
      "\u001b[0;32m<ipython-input-13-8fbe606ac703>\u001b[0m in \u001b[0;36minviteUserToApplet\u001b[0;34m(userA, userA_applets, userB)\u001b[0m\n\u001b[1;32m      3\u001b[0m     \u001b[0mauthenticate\u001b[0m\u001b[0;34m(\u001b[0m\u001b[0muserA\u001b[0m\u001b[0;34m)\u001b[0m\u001b[0;34m\u001b[0m\u001b[0;34m\u001b[0m\u001b[0m\n\u001b[1;32m      4\u001b[0m     inviteResp = girder.post('group/{}/invitation'.format(groupId), {\n\u001b[0;32m----> 5\u001b[0;31m         \u001b[0;34m\"email\"\u001b[0m\u001b[0;34m:\u001b[0m \u001b[0muserB\u001b[0m\u001b[0;34m[\u001b[0m\u001b[0;34m'email'\u001b[0m\u001b[0;34m]\u001b[0m\u001b[0;34m\u001b[0m\u001b[0;34m\u001b[0m\u001b[0m\n\u001b[0m\u001b[1;32m      6\u001b[0m     })\n\u001b[1;32m      7\u001b[0m     \u001b[0;32massert\u001b[0m \u001b[0minviteResp\u001b[0m\u001b[0;34m[\u001b[0m\u001b[0;34m'public'\u001b[0m\u001b[0;34m]\u001b[0m \u001b[0;34m==\u001b[0m \u001b[0;32mFalse\u001b[0m\u001b[0;34m,\u001b[0m \u001b[0;34m'invite is public!'\u001b[0m\u001b[0;34m\u001b[0m\u001b[0;34m\u001b[0m\u001b[0m\n",
      "\u001b[0;32m~/girder_env/lib/python3.7/site-packages/girder_client/__init__.py\u001b[0m in \u001b[0;36mpost\u001b[0;34m(self, path, parameters, files, data, json, headers, jsonResp)\u001b[0m\n\u001b[1;32m    493\u001b[0m         \"\"\"\n\u001b[1;32m    494\u001b[0m         return self.sendRestRequest('POST', path, parameters, files=files,\n\u001b[0;32m--> 495\u001b[0;31m                                     data=data, json=json, headers=headers, jsonResp=jsonResp)\n\u001b[0m\u001b[1;32m    496\u001b[0m \u001b[0;34m\u001b[0m\u001b[0m\n\u001b[1;32m    497\u001b[0m     \u001b[0;32mdef\u001b[0m \u001b[0mput\u001b[0m\u001b[0;34m(\u001b[0m\u001b[0mself\u001b[0m\u001b[0;34m,\u001b[0m \u001b[0mpath\u001b[0m\u001b[0;34m,\u001b[0m \u001b[0mparameters\u001b[0m\u001b[0;34m=\u001b[0m\u001b[0;32mNone\u001b[0m\u001b[0;34m,\u001b[0m \u001b[0mdata\u001b[0m\u001b[0;34m=\u001b[0m\u001b[0;32mNone\u001b[0m\u001b[0;34m,\u001b[0m \u001b[0mjson\u001b[0m\u001b[0;34m=\u001b[0m\u001b[0;32mNone\u001b[0m\u001b[0;34m,\u001b[0m \u001b[0mjsonResp\u001b[0m\u001b[0;34m=\u001b[0m\u001b[0;32mTrue\u001b[0m\u001b[0;34m)\u001b[0m\u001b[0;34m:\u001b[0m\u001b[0;34m\u001b[0m\u001b[0;34m\u001b[0m\u001b[0m\n",
      "\u001b[0;32m~/girder_env/lib/python3.7/site-packages/girder_client/__init__.py\u001b[0m in \u001b[0;36msendRestRequest\u001b[0;34m(self, method, path, parameters, data, files, json, headers, jsonResp, **kwargs)\u001b[0m\n\u001b[1;32m    479\u001b[0m             raise HttpError(\n\u001b[1;32m    480\u001b[0m                 \u001b[0mstatus\u001b[0m\u001b[0;34m=\u001b[0m\u001b[0mresult\u001b[0m\u001b[0;34m.\u001b[0m\u001b[0mstatus_code\u001b[0m\u001b[0;34m,\u001b[0m \u001b[0murl\u001b[0m\u001b[0;34m=\u001b[0m\u001b[0mresult\u001b[0m\u001b[0;34m.\u001b[0m\u001b[0murl\u001b[0m\u001b[0;34m,\u001b[0m \u001b[0mmethod\u001b[0m\u001b[0;34m=\u001b[0m\u001b[0mmethod\u001b[0m\u001b[0;34m,\u001b[0m \u001b[0mtext\u001b[0m\u001b[0;34m=\u001b[0m\u001b[0mresult\u001b[0m\u001b[0;34m.\u001b[0m\u001b[0mtext\u001b[0m\u001b[0;34m,\u001b[0m\u001b[0;34m\u001b[0m\u001b[0;34m\u001b[0m\u001b[0m\n\u001b[0;32m--> 481\u001b[0;31m                 response=result)\n\u001b[0m\u001b[1;32m    482\u001b[0m \u001b[0;34m\u001b[0m\u001b[0m\n\u001b[1;32m    483\u001b[0m     \u001b[0;32mdef\u001b[0m \u001b[0mget\u001b[0m\u001b[0;34m(\u001b[0m\u001b[0mself\u001b[0m\u001b[0;34m,\u001b[0m \u001b[0mpath\u001b[0m\u001b[0;34m,\u001b[0m \u001b[0mparameters\u001b[0m\u001b[0;34m=\u001b[0m\u001b[0;32mNone\u001b[0m\u001b[0;34m,\u001b[0m \u001b[0mjsonResp\u001b[0m\u001b[0;34m=\u001b[0m\u001b[0;32mTrue\u001b[0m\u001b[0;34m)\u001b[0m\u001b[0;34m:\u001b[0m\u001b[0;34m\u001b[0m\u001b[0;34m\u001b[0m\u001b[0m\n",
      "\u001b[0;31mHttpError\u001b[0m: HTTP error 500: POST https://f9e93620.ngrok.io:443/api/v1/group/5d83dcd77c925d57453cfc41/invitation?email=randomuserc444049%40test.com\nResponse text: {\"message\": \"An unexpected error occurred on the server.\", \"type\": \"internal\", \"uid\": \"f6471646-471d-4b24-bee6-c14073ed526e\"}"
     ]
    }
   ],
   "source": [
    "userCemail = 'randomuserc{}@test.com'.format(np.random.randint(1000000))\n",
    "inviteC = inviteUserToApplet(userA, userA_applets, {'email': userCemail})"
   ]
  },
  {
   "cell_type": "markdown",
   "metadata": {},
   "source": [
    "## Get a group's pending invites"
   ]
  },
  {
   "cell_type": "code",
   "execution_count": 123,
   "metadata": {},
   "outputs": [],
   "source": [
    "authenticate(userA)\n",
    "groupId = userA_applets['roles']['user']['groups'][0]['id']\n",
    "pendingInvites = girder.get('group/{}/invitation'.format(groupId))"
   ]
  },
  {
   "cell_type": "code",
   "execution_count": 124,
   "metadata": {},
   "outputs": [
    {
     "data": {
      "text/plain": [
       "[{'_accessLevel': -1,\n",
       "  '_id': '5d83d8107c925d57453cfc32',\n",
       "  '_modelType': 'user',\n",
       "  'admin': False,\n",
       "  'created': '2019-09-19T19:33:36.059000+00:00',\n",
       "  'email': 'testemail136403@testemail.com',\n",
       "  'firstName': 'test',\n",
       "  'lastName': 'user',\n",
       "  'login': 'testuser136403',\n",
       "  'public': False}]"
      ]
     },
     "execution_count": 124,
     "metadata": {},
     "output_type": "execute_result"
    }
   ],
   "source": [
    "pendingInvites"
   ]
  },
  {
   "cell_type": "markdown",
   "metadata": {},
   "source": [
    "# Delete a user"
   ]
  },
  {
   "cell_type": "code",
   "execution_count": 66,
   "metadata": {},
   "outputs": [],
   "source": [
    "def testDeleteUser(new_user):\n",
    "\n",
    "    girder.authenticate(username=new_user['login'], password='password')\n",
    "\n",
    "    deleteUser = girder.delete('user/{}'.format(new_user['_id']))\n",
    "\n",
    "    assert deleteUser['message'] == 'Deleted user {}.'.format(new_user['login']), \"{} does not equal {}\".format(deleteUser['message'], 'Deleted user {}'.format(new_user['login']))\n",
    "    \n",
    "    return 1"
   ]
  },
  {
   "cell_type": "code",
   "execution_count": 130,
   "metadata": {},
   "outputs": [
    {
     "data": {
      "text/plain": [
       "1"
      ]
     },
     "execution_count": 130,
     "metadata": {},
     "output_type": "execute_result"
    }
   ],
   "source": [
    "testDeleteUser(userA)\n",
    "testDeleteUser(userB)"
   ]
  },
  {
   "cell_type": "code",
   "execution_count": null,
   "metadata": {},
   "outputs": [],
   "source": []
  }
 ],
 "metadata": {
  "kernelspec": {
   "display_name": "Python 3",
   "language": "python",
   "name": "python3"
  },
  "language_info": {
   "codemirror_mode": {
    "name": "ipython",
    "version": 3
   },
   "file_extension": ".py",
   "mimetype": "text/x-python",
   "name": "python",
   "nbconvert_exporter": "python",
   "pygments_lexer": "ipython3",
   "version": "3.7.3"
  }
 },
 "nbformat": 4,
 "nbformat_minor": 2
}
