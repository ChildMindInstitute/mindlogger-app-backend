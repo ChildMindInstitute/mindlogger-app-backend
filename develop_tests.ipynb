{
 "cells": [
  {
   "cell_type": "code",
   "execution_count": 1,
   "metadata": {},
   "outputs": [],
   "source": [
    "import mindloggerTests as mt\n",
    "import numpy as np\n",
    "import time\n",
    "from girder_client import HttpError"
   ]
  },
  {
   "cell_type": "markdown",
   "metadata": {},
   "source": [
    "### Create a new user"
   ]
  },
  {
   "cell_type": "code",
   "execution_count": 2,
   "metadata": {},
   "outputs": [],
   "source": [
    "gc = mt.createGirder('localhost', 8080)\n",
    "user = mt.testCreateUser(gc)\n",
    "mt.authenticate(gc, user)"
   ]
  },
  {
   "cell_type": "markdown",
   "metadata": {},
   "source": [
    "##### Make sure the new user has 0 applets"
   ]
  },
  {
   "cell_type": "code",
   "execution_count": 3,
   "metadata": {},
   "outputs": [],
   "source": [
    "no_applets = mt.getAppletsUser(gc, user, 0)"
   ]
  },
  {
   "cell_type": "markdown",
   "metadata": {},
   "source": [
    "### Add an applet and make sure it was added"
   ]
  },
  {
   "cell_type": "code",
   "execution_count": 4,
   "metadata": {},
   "outputs": [],
   "source": [
    "activitySetUrl = 'https://raw.githubusercontent.com/\\\n",
    "ReproNim/schema-standardization/master/activity-sets/\\\n",
    "ema-hbn/ema-hbn_schema'\n",
    "\n",
    "act1 = 'https://raw.githubusercontent.com/\\\n",
    "ReproNim/schema-standardization/master/\\\n",
    "activities/EmaHBNEvening/ema_evening_schema'\n",
    "act2 = 'https://raw.githubusercontent.com/\\\n",
    "ReproNim/schema-standardization/master/\\\n",
    "activities/EmaHBNMorning/ema_morning_schema'\n",
    "\n",
    "act1Item = 'https://raw.githubusercontent.com/\\\n",
    "ReproNim/schema-standardization/master/\\\n",
    "activities/EmaHBNEvening/items/good_bad_day'\n",
    "act2Item = 'https://raw.githubusercontent.com/\\\n",
    "ReproNim/schema-standardization/master/\\\n",
    "activities/EmaHBNMorning/items/sleeping_aids'"
   ]
  },
  {
   "cell_type": "code",
   "execution_count": 5,
   "metadata": {},
   "outputs": [],
   "source": [
    "appletObject = mt.addApplet(gc, user, activitySetUrl)"
   ]
  },
  {
   "cell_type": "code",
   "execution_count": 6,
   "metadata": {},
   "outputs": [],
   "source": [
    "appletList = mt.getAppletsUser(gc, user, 1)\n",
    "checkItWasAdded = mt.getAppletById(gc, user, appletObject)"
   ]
  },
  {
   "cell_type": "markdown",
   "metadata": {},
   "source": [
    "### Expand and refresh the applet"
   ]
  },
  {
   "cell_type": "code",
   "execution_count": 7,
   "metadata": {},
   "outputs": [],
   "source": [
    "appletsExpanded = mt.getExpandedApplets(gc, user)"
   ]
  },
  {
   "cell_type": "code",
   "execution_count": 8,
   "metadata": {},
   "outputs": [],
   "source": [
    "appletRefreshed = mt.refreshApplet(gc, user, appletObject)"
   ]
  },
  {
   "cell_type": "markdown",
   "metadata": {},
   "source": [
    "### Add a schedule to the applet"
   ]
  },
  {
   "cell_type": "code",
   "execution_count": 9,
   "metadata": {},
   "outputs": [],
   "source": [
    "scheduleAdded = mt.addSchedule(gc, user, appletObject)"
   ]
  },
  {
   "cell_type": "markdown",
   "metadata": {},
   "source": [
    "### Create a new user and invite them to the applet"
   ]
  },
  {
   "cell_type": "code",
   "execution_count": 10,
   "metadata": {},
   "outputs": [],
   "source": [
    "userB = mt.testCreateUser(gc)\n",
    "userBInvite = mt.inviteUserToApplet(gc, user, appletObject, userB)"
   ]
  },
  {
   "cell_type": "markdown",
   "metadata": {},
   "source": [
    "##### check that manager can see invited user"
   ]
  },
  {
   "cell_type": "code",
   "execution_count": 11,
   "metadata": {},
   "outputs": [
    {
     "data": {
      "text/plain": [
       "1"
      ]
     },
     "execution_count": 11,
     "metadata": {},
     "output_type": "execute_result"
    }
   ],
   "source": [
    "mt.checkInvitesForUser(gc, user, appletObject, userB)"
   ]
  },
  {
   "cell_type": "markdown",
   "metadata": {},
   "source": [
    "### Accept the applet invite"
   ]
  },
  {
   "cell_type": "code",
   "execution_count": 12,
   "metadata": {},
   "outputs": [
    {
     "data": {
      "text/plain": [
       "1"
      ]
     },
     "execution_count": 12,
     "metadata": {},
     "output_type": "execute_result"
    }
   ],
   "source": [
    "mt.acceptAppletInvite(gc, userB, appletObject)"
   ]
  },
  {
   "cell_type": "markdown",
   "metadata": {},
   "source": [
    "### Invite someone who doesn't have an account yet"
   ]
  },
  {
   "cell_type": "code",
   "execution_count": 13,
   "metadata": {},
   "outputs": [],
   "source": [
    "userCemail = 'randomuserc{}@test.com'.format(np.random.randint(1000000))\n",
    "inviteC = mt.inviteUserToApplet(gc, user, appletObject,\n",
    "                                {'email': userCemail})\n",
    "appletUserTable = mt.checkAppletUserTableForUser(gc, user,\n",
    "                                              appletObject,\n",
    "                                              {'email': userCemail})"
   ]
  },
  {
   "cell_type": "markdown",
   "metadata": {},
   "source": [
    "### Create that person's account, check they have an invite, and accept the invite"
   ]
  },
  {
   "cell_type": "code",
   "execution_count": 14,
   "metadata": {},
   "outputs": [],
   "source": [
    "userC = mt.testCreateUser(gc, userCemail)\n",
    "userCApplets = mt.getAppletsUser(gc, userC, 0)\n",
    "\n",
    "# check from perspective of admin and user, if the invite exists.\n",
    "mt.checkInvitesForUser(gc, user, appletObject, userC)\n",
    "mt.checkForInvite(gc, userC, appletObject)\n",
    "\n",
    "# accept\n",
    "mt.acceptAppletInvite(gc, userC, appletObject)\n",
    "userCApplets = mt.getAppletsUser(gc, userC, 1)"
   ]
  },
  {
   "cell_type": "markdown",
   "metadata": {},
   "source": [
    "### Post Responses"
   ]
  },
  {
   "cell_type": "code",
   "execution_count": 15,
   "metadata": {},
   "outputs": [],
   "source": [
    "# each user posts a response for a single item in each activity.\n",
    "for u in [user, userB, userC]:\n",
    "    for i in range(2):\n",
    "        mt.postResponse(gc, u, act1, act1Item, appletObject)\n",
    "        time.sleep(1)\n",
    "        mt.postResponse(gc, u, act2, act2Item, appletObject)\n",
    "        time.sleep(1)\n",
    "    time.sleep(1)"
   ]
  },
  {
   "cell_type": "markdown",
   "metadata": {},
   "source": [
    "### Get the last 7 days"
   ]
  },
  {
   "cell_type": "code",
   "execution_count": 16,
   "metadata": {},
   "outputs": [],
   "source": [
    "last7user = mt.getLast7Days(gc, user, appletObject)\n",
    "last7userB = mt.getLast7Days(gc, userB, appletObject)\n",
    "last7userC = mt.getLast7Days(gc, userC, appletObject)"
   ]
  },
  {
   "cell_type": "code",
   "execution_count": 17,
   "metadata": {},
   "outputs": [],
   "source": [
    "assert len(last7user['responses']) == 2, 'there should only be 2 responses'\n",
    "assert len(last7userB['responses']) == 2, 'there should only be 2 responses'\n",
    "assert len(last7userC['responses']) == 2, 'there should only be 2 responses'"
   ]
  },
  {
   "cell_type": "markdown",
   "metadata": {},
   "source": [
    "### As a manager, see the data"
   ]
  },
  {
   "cell_type": "code",
   "execution_count": 18,
   "metadata": {},
   "outputs": [],
   "source": [
    "appletData = mt.getDataForApplet(gc, user, appletObject)\n",
    "assert '@' in appletData[0]['userId'], 'manager cannot see emails'"
   ]
  },
  {
   "cell_type": "markdown",
   "metadata": {},
   "source": [
    "### Add a user as a reviewer"
   ]
  },
  {
   "cell_type": "code",
   "execution_count": 19,
   "metadata": {},
   "outputs": [],
   "source": [
    "userCReviewer = mt.makeAReviewer(gc, user, appletObject, userC)\n",
    "userCAcceptReviewer = mt.acceptReviewerInvite(gc, userC, appletObject)"
   ]
  },
  {
   "cell_type": "markdown",
   "metadata": {},
   "source": [
    "### As a reviewer, see the data and make sure there aren't emails."
   ]
  },
  {
   "cell_type": "code",
   "execution_count": 20,
   "metadata": {},
   "outputs": [],
   "source": [
    "appletData = mt.getDataForApplet(gc, userC, appletObject)\n",
    "assert '@' not in appletData[0]['userId'], 'reviewer can see emails'"
   ]
  },
  {
   "cell_type": "markdown",
   "metadata": {},
   "source": [
    "### Make sure we don't see any data as a non-manager or non-reviewer"
   ]
  },
  {
   "cell_type": "code",
   "execution_count": 33,
   "metadata": {},
   "outputs": [
    {
     "ename": "AttributeError",
     "evalue": "module 'mindloggerTests' has no attribute 'testPrivacyCheck'",
     "output_type": "error",
     "traceback": [
      "\u001b[0;31m---------------------------------------------------------------------------\u001b[0m",
      "\u001b[0;31mAttributeError\u001b[0m                            Traceback (most recent call last)",
      "\u001b[0;32m<ipython-input-33-8b6ce94d4d89>\u001b[0m in \u001b[0;36m<module>\u001b[0;34m\u001b[0m\n\u001b[0;32m----> 1\u001b[0;31m \u001b[0mmt\u001b[0m\u001b[0;34m.\u001b[0m\u001b[0mtestPrivacyCheck\u001b[0m\u001b[0;34m(\u001b[0m\u001b[0mgc\u001b[0m\u001b[0;34m,\u001b[0m \u001b[0muserB\u001b[0m\u001b[0;34m,\u001b[0m \u001b[0mappletObject\u001b[0m\u001b[0;34m)\u001b[0m\u001b[0;34m\u001b[0m\u001b[0;34m\u001b[0m\u001b[0m\n\u001b[0m",
      "\u001b[0;31mAttributeError\u001b[0m: module 'mindloggerTests' has no attribute 'testPrivacyCheck'"
     ]
    }
   ],
   "source": [
    "mt.testPrivacyCheck(gc, userB, appletObject)"
   ]
  },
  {
   "cell_type": "markdown",
   "metadata": {},
   "source": [
    "### Remove an applet without deleting data"
   ]
  },
  {
   "cell_type": "code",
   "execution_count": null,
   "metadata": {},
   "outputs": [],
   "source": [
    "mt.removeApplet()"
   ]
  },
  {
   "cell_type": "markdown",
   "metadata": {},
   "source": [
    "### Remove an applet and delete data"
   ]
  },
  {
   "cell_type": "markdown",
   "metadata": {},
   "source": [
    "### deactivate an applet"
   ]
  },
  {
   "cell_type": "markdown",
   "metadata": {},
   "source": [
    "### remove all users"
   ]
  },
  {
   "cell_type": "code",
   "execution_count": null,
   "metadata": {},
   "outputs": [],
   "source": []
  }
 ],
 "metadata": {
  "kernelspec": {
   "display_name": "Python 3",
   "language": "python",
   "name": "python3"
  },
  "language_info": {
   "codemirror_mode": {
    "name": "ipython",
    "version": 3
   },
   "file_extension": ".py",
   "mimetype": "text/x-python",
   "name": "python",
   "nbconvert_exporter": "python",
   "pygments_lexer": "ipython3",
   "version": "3.7.3"
  }
 },
 "nbformat": 4,
 "nbformat_minor": 2
}
