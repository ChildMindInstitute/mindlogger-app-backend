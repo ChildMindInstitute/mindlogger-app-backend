{
 "cells": [
  {
   "cell_type": "code",
   "execution_count": 11,
   "metadata": {},
   "outputs": [
    {
     "name": "stdout",
     "output_type": "stream",
     "text": [
      "Requirement already satisfied: girder-client in /home/jclucas/opt/anaconda3/lib/python3.6/site-packages (from -r requirements.txt (line 1)) (2.3.0)\n",
      "Requirement already satisfied: pandas in /home/jclucas/opt/anaconda3/lib/python3.6/site-packages (from -r requirements.txt (line 2)) (0.23.0)\n",
      "Requirement already satisfied: psycopg2-binary in /home/jclucas/opt/anaconda3/lib/python3.6/site-packages (from -r requirements.txt (line 3)) (2.7.4)\n",
      "Requirement already satisfied: six in /home/jclucas/opt/anaconda3/lib/python3.6/site-packages (from girder-client->-r requirements.txt (line 1)) (1.11.0)\n",
      "Requirement already satisfied: diskcache in /home/jclucas/opt/anaconda3/lib/python3.6/site-packages (from girder-client->-r requirements.txt (line 1)) (3.0.6)\n",
      "Requirement already satisfied: requests-toolbelt in /home/jclucas/opt/anaconda3/lib/python3.6/site-packages (from girder-client->-r requirements.txt (line 1)) (0.8.0)\n",
      "Requirement already satisfied: click>=6.7 in /home/jclucas/opt/anaconda3/lib/python3.6/site-packages (from girder-client->-r requirements.txt (line 1)) (6.7)\n",
      "Requirement already satisfied: requests>=2.4.2 in /home/jclucas/opt/anaconda3/lib/python3.6/site-packages (from girder-client->-r requirements.txt (line 1)) (2.18.4)\n",
      "Requirement already satisfied: python-dateutil>=2.5.0 in /home/jclucas/opt/anaconda3/lib/python3.6/site-packages (from pandas->-r requirements.txt (line 2)) (2.6.1)\n",
      "Requirement already satisfied: pytz>=2011k in /home/jclucas/opt/anaconda3/lib/python3.6/site-packages (from pandas->-r requirements.txt (line 2)) (2018.4)\n",
      "Requirement already satisfied: numpy>=1.9.0 in /home/jclucas/.local/lib/python3.6/site-packages (from pandas->-r requirements.txt (line 2)) (1.14.2)\n",
      "Requirement already satisfied: chardet<3.1.0,>=3.0.2 in /home/jclucas/opt/anaconda3/lib/python3.6/site-packages (from requests>=2.4.2->girder-client->-r requirements.txt (line 1)) (3.0.4)\n",
      "Requirement already satisfied: certifi>=2017.4.17 in /home/jclucas/opt/anaconda3/lib/python3.6/site-packages (from requests>=2.4.2->girder-client->-r requirements.txt (line 1)) (2018.4.16)\n",
      "Requirement already satisfied: idna<2.7,>=2.5 in /home/jclucas/opt/anaconda3/lib/python3.6/site-packages (from requests>=2.4.2->girder-client->-r requirements.txt (line 1)) (2.6)\n",
      "Requirement already satisfied: urllib3<1.23,>=1.21.1 in /home/jclucas/opt/anaconda3/lib/python3.6/site-packages (from requests>=2.4.2->girder-client->-r requirements.txt (line 1)) (1.22)\n",
      "The autoreload extension is already loaded. To reload it, use:\n",
      "  %reload_ext autoreload\n"
     ]
    }
   ],
   "source": [
    "!pip install -r requirements.txt --no-warn-conflicts --progress-bar emoji\n",
    "%load_ext autoreload\n",
    "%autoreload 2"
   ]
  },
  {
   "cell_type": "code",
   "execution_count": 20,
   "metadata": {},
   "outputs": [],
   "source": [
    "import girder_client\n",
    "import json\n",
    "import os\n",
    "import pandas as pd\n",
    "import psycopg2\n",
    "import postgres_to_girder\n",
    "import requests\n",
    "with open (\"config.json\", \"r\") as j:\n",
    "    config = json.load(j)\n",
    "with open (\"context.json\", \"r\") as j:\n",
    "    context = json.load(j)"
   ]
  },
  {
   "cell_type": "code",
   "execution_count": 12,
   "metadata": {},
   "outputs": [],
   "source": [
    "gc = girder_client.GirderClient(\n",
    "    apiUrl=\"\".join([\n",
    "        \"http://\",\n",
    "        config[\"girder\"][\"host\"],\n",
    "        \"/api/v1\"\n",
    "    ])\n",
    ")\n",
    "gc.authenticate(\n",
    "    config[\"girder\"][\"user\"],\n",
    "    config[\"girder\"][\"password\"])"
   ]
  },
  {
   "cell_type": "code",
   "execution_count": 21,
   "metadata": {},
   "outputs": [
    {
     "name": "stdout",
     "output_type": "stream",
     "text": [
      "None\n"
     ]
    }
   ],
   "source": [
    "activities_id = postgres_to_girder.get_girder_id_by_name(\n",
    "    entity=\"collection\",\n",
    "    name=\"activities\",\n",
    "    girder_connection=gc\n",
    ")"
   ]
  },
  {
   "cell_type": "code",
   "execution_count": 14,
   "metadata": {},
   "outputs": [
    {
     "data": {
      "text/plain": [
       "'5b1850bead97092bdb8e99d5'"
      ]
     },
     "execution_count": 14,
     "metadata": {},
     "output_type": "execute_result"
    }
   ],
   "source": [
    "activities_id"
   ]
  },
  {
   "cell_type": "code",
   "execution_count": 15,
   "metadata": {},
   "outputs": [],
   "source": [
    "try:\n",
    "    conn = psycopg2.connect(\n",
    "        \" \".join(\n",
    "            [\n",
    "                \"=\".join([\n",
    "                    key,\n",
    "                    config[\"postgres\"][key]\n",
    "                ]) for key in config[\"postgres\"]\n",
    "            ]\n",
    "        )\n",
    "    )\n",
    "except:\n",
    "    print(\"I am unable to connect to the database\")"
   ]
  },
  {
   "cell_type": "code",
   "execution_count": 16,
   "metadata": {},
   "outputs": [],
   "source": [
    "acts = pd.io.sql.read_sql_query(\n",
    "    \"SELECT * FROM acts;\",\n",
    "    conn\n",
    ")\n",
    "users = pd.io.sql.read_sql_query(\n",
    "    \"SELECT * FROM users;\",\n",
    "    conn\n",
    ")"
   ]
  },
  {
   "cell_type": "code",
   "execution_count": 27,
   "metadata": {},
   "outputs": [],
   "source": [
    "for activity in set(acts[\"title\"]):\n",
    "    if not postgres_to_girder.get_girder_id_by_name(\n",
    "        entity=\"folder\",\n",
    "        name=activity,\n",
    "        girder_connection=gc,\n",
    "        parent=(\n",
    "            \"collection\",\n",
    "            activities_id\n",
    "        )\n",
    "    ):\n",
    "        gc.createFolder(\n",
    "            name=activity,\n",
    "            parentId=activities_id,\n",
    "            parentType=\"collection\",\n",
    "            public=True,\n",
    "            reuseExisting=True\n",
    "        )"
   ]
  },
  {
   "cell_type": "code",
   "execution_count": null,
   "metadata": {},
   "outputs": [],
   "source": []
  }
 ],
 "metadata": {
  "kernelspec": {
   "display_name": "Python 3",
   "language": "python",
   "name": "python3"
  },
  "language_info": {
   "codemirror_mode": {
    "name": "ipython",
    "version": 3
   },
   "file_extension": ".py",
   "mimetype": "text/x-python",
   "name": "python",
   "nbconvert_exporter": "python",
   "pygments_lexer": "ipython3",
   "version": "3.6.5"
  }
 },
 "nbformat": 4,
 "nbformat_minor": 2
}
