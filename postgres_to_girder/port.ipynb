{
 "cells": [
  {
   "cell_type": "code",
   "execution_count": null,
   "metadata": {},
   "outputs": [],
   "source": [
    "!pip install -r requirements.txt --no-warn-conflicts --progress-bar emoji"
   ]
  },
  {
   "cell_type": "code",
   "execution_count": 1,
   "metadata": {},
   "outputs": [],
   "source": [
    "%load_ext autoreload\n",
    "%autoreload 2"
   ]
  },
  {
   "cell_type": "code",
   "execution_count": 13,
   "metadata": {},
   "outputs": [
    {
     "name": "stdout",
     "output_type": "stream",
     "text": [
      "Connected to the Girder database 🏗🍃 and authenticated.\n",
      "Connected to the Postgres database 🐘\n"
     ]
    }
   ],
   "source": [
    "import girder_client\n",
    "import json\n",
    "import os\n",
    "import pandas as pd\n",
    "import psycopg2\n",
    "import postgres_to_girder\n",
    "import urllib\n",
    "from datetime import date\n",
    "\n",
    "config, context, api_url = postgres_to_girder.config()\n",
    "\n",
    "girder_connection=postgres_to_girder.connect_to_girder(\n",
    "    api_url=api_url,\n",
    "    authentication=(\n",
    "        config[\"girder\"][\"user\"],\n",
    "        config[\"girder\"][\"password\"]\n",
    "    )\n",
    ")\n",
    "conn = postgres_to_girder.connect_to_postgres(\n",
    "    config[\"postgres\"]\n",
    ")\n",
    "\n",
    "activities_id = postgres_to_girder.get_girder_id_by_name(\n",
    "    entity=\"collection\",\n",
    "    name=\"Activities\",\n",
    "    girder_connection=girder_connection\n",
    ")\n",
    "\n",
    "postgres_tables = {\n",
    "    table: pd.io.sql.read_sql_query(\n",
    "        \"SELECT * FROM {0};\".format(\n",
    "            table\n",
    "        ),\n",
    "        conn\n",
    "    ) for table in {\n",
    "        \"acts\",\n",
    "        \"users\",\n",
    "        \"user_acts\",\n",
    "        \"organizations\",\n",
    "        \"answers\"\n",
    "    }\n",
    "}\n",
    "\n",
    "users_emails = postgres_to_girder.postgres_users_to_girder_users(\n",
    "    postgres_tables[\"users\"],\n",
    "    girder_connection,\n",
    "    config[\"missing_persons\"]\n",
    ")\n",
    "\n",
    "postgres_tables[\"acts\"] = postgres_to_girder._respondents(\n",
    "    postgres_tables[\"acts\"]\n",
    ")"
   ]
  },
  {
   "cell_type": "code",
   "execution_count": 14,
   "metadata": {},
   "outputs": [],
   "source": [
    "acts = postgres_tables[\"acts\"]\n",
    "gc = girder_connection\n",
    "users = postgres_tables[\"users\"]"
   ]
  },
  {
   "cell_type": "code",
   "execution_count": 17,
   "metadata": {},
   "outputs": [],
   "source": [
    "activities = postgres_to_girder.postgres_activities_to_girder_activities(\n",
    "    acts,\n",
    "    gc,\n",
    "    users,\n",
    "    users_emails,\n",
    "    context\n",
    ")"
   ]
  },
  {
   "cell_type": "code",
   "execution_count": 23,
   "metadata": {},
   "outputs": [
    {
     "name": "stdout",
     "output_type": "stream",
     "text": [
      "{'questions', 'accordion', 'answers', 'mode', 'frequency', 'instruction', 'audio_path', 'image_url', 'audio_url', 'timer'}\n"
     ]
    }
   ],
   "source": [
    "print({k for d in acts[\"act_data\"] for k in json.loads(d)})"
   ]
  },
  {
   "cell_type": "code",
   "execution_count": null,
   "metadata": {},
   "outputs": [],
   "source": [
    "for timing in {\n",
    "    \"1d\": \"daily\",\n",
    "    \"1\": \"once\",\n",
    "    \"8h\": \"3×daily\",\n",
    "    \"12h\": \"2×daily\"\n",
    "}:\n",
    "    print(timing)"
   ]
  },
  {
   "cell_type": "code",
   "execution_count": null,
   "metadata": {},
   "outputs": [],
   "source": [
    "a"
   ]
  },
  {
   "cell_type": "code",
   "execution_count": null,
   "metadata": {},
   "outputs": [],
   "source": [
    "b"
   ]
  },
  {
   "cell_type": "code",
   "execution_count": null,
   "metadata": {},
   "outputs": [],
   "source": []
  }
 ],
 "metadata": {
  "kernelspec": {
   "display_name": "Python 3",
   "language": "python",
   "name": "python3"
  },
  "language_info": {
   "codemirror_mode": {
    "name": "ipython",
    "version": 3
   },
   "file_extension": ".py",
   "mimetype": "text/x-python",
   "name": "python",
   "nbconvert_exporter": "python",
   "pygments_lexer": "ipython3",
   "version": "3.6.5"
  }
 },
 "nbformat": 4,
 "nbformat_minor": 2
}
