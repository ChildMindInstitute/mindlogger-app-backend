{
 "cells": [
  {
   "cell_type": "code",
   "execution_count": null,
   "metadata": {},
   "outputs": [],
   "source": [
    "!pip install -r requirements.txt --no-warn-conflicts --progress-bar emoji"
   ]
  },
  {
   "cell_type": "code",
   "execution_count": null,
   "metadata": {},
   "outputs": [],
   "source": [
    "%load_ext autoreload\n",
    "%autoreload 2"
   ]
  },
  {
   "cell_type": "code",
   "execution_count": null,
   "metadata": {},
   "outputs": [],
   "source": [
    "import girder_client\n",
    "import json\n",
    "import os\n",
    "import pandas as pd\n",
    "import psycopg2\n",
    "import postgres_to_girder\n",
    "import urllib\n",
    "from datetime import date\n",
    "\n",
    "config, context, api_url = postgres_to_girder.config()\n",
    "\n",
    "girder_connection=postgres_to_girder.connect_to_girder(\n",
    "    api_url=api_url,\n",
    "    authentication=(\n",
    "        config[\"girder\"][\"user\"],\n",
    "        config[\"girder\"][\"password\"]\n",
    "    )\n",
    ")\n",
    "conn = postgres_to_girder.connect_to_postgres(\n",
    "    config[\"postgres\"]\n",
    ")\n",
    "\n",
    "activities_id = postgres_to_girder.get_girder_id_by_name(\n",
    "    entity=\"collection\",\n",
    "    name=\"activities\",\n",
    "    girder_connection=girder_connection\n",
    ")\n",
    "\n",
    "postgres_tables = {\n",
    "    table: pd.io.sql.read_sql_query(\n",
    "        \"SELECT * FROM {0};\".format(\n",
    "            table\n",
    "        ),\n",
    "        conn\n",
    "    ) for table in {\n",
    "        \"acts\",\n",
    "        \"users\",\n",
    "        \"user_acts\",\n",
    "        \"organizations\",\n",
    "        \"answers\"\n",
    "    }\n",
    "}\n",
    "\n",
    "users_emails = postgres_to_girder.postgres_users_to_girder_users(\n",
    "    postgres_tables[\"users\"],\n",
    "    girder_connection,\n",
    "    config[\"missing_persons\"]\n",
    ")\n",
    "\n",
    "postgres_tables[\"acts\"] = postgres_to_girder._respondents(\n",
    "    postgres_tables[\"acts\"]\n",
    ")"
   ]
  },
  {
   "cell_type": "code",
   "execution_count": null,
   "metadata": {},
   "outputs": [],
   "source": [
    "acts = postgres_tables[\"acts\"]\n",
    "gc = girder_connection\n",
    "users = postgres_tables[\"users\"]\n",
    "activities = postgres_to_girder.postgres_activities_to_girder_activities(\n",
    "    acts,\n",
    "    gc,\n",
    "    api_url,\n",
    "    users,\n",
    "    users_emails,\n",
    "    context\n",
    ")"
   ]
  },
  {
   "cell_type": "code",
   "execution_count": null,
   "metadata": {},
   "outputs": [],
   "source": [
    "activities"
   ]
  },
  {
   "cell_type": "code",
   "execution_count": null,
   "metadata": {},
   "outputs": [],
   "source": []
  }
 ],
 "metadata": {
  "kernelspec": {
   "display_name": "Python 3",
   "language": "python",
   "name": "python3"
  },
  "language_info": {
   "codemirror_mode": {
    "name": "ipython",
    "version": 3
   },
   "file_extension": ".py",
   "mimetype": "text/x-python",
   "name": "python",
   "nbconvert_exporter": "python",
   "pygments_lexer": "ipython3",
   "version": "3.6.5"
  }
 },
 "nbformat": 4,
 "nbformat_minor": 2
}
