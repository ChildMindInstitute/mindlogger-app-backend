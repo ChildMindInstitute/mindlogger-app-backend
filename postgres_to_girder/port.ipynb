{
 "cells": [
  {
   "cell_type": "code",
   "execution_count": null,
   "metadata": {},
   "outputs": [],
   "source": [
    "!pip install -r requirements.txt\n",
    "%load_ext autoreload\n",
    "%autoreload 2"
   ]
  },
  {
   "cell_type": "code",
   "execution_count": null,
   "metadata": {},
   "outputs": [],
   "source": [
    "import girder\n",
    "import json\n",
    "import os\n",
    "import pandas as pd\n",
    "import postgres_to_girder\n",
    "import psycopg2\n",
    "import requests\n",
    "with open (\"config.json\", \"r\") as j:\n",
    "    config = json.load(j)\n",
    "with open (\"context.json\", \"r\") as j:\n",
    "    context = json.load(j)"
   ]
  },
  {
   "cell_type": "code",
   "execution_count": null,
   "metadata": {},
   "outputs": [],
   "source": [
    "postgres_to_girder.girder_login(\n",
    "    config[\"girder\"][\"user\"],\n",
    "    config[\"girder\"][\"password\"],\n",
    "    config[\"girder\"][\"host\"]\n",
    ")"
   ]
  },
  {
   "cell_type": "code",
   "execution_count": null,
   "metadata": {},
   "outputs": [],
   "source": [
    "activities_id = postgres_to_girder.get_girder_id_by_name(\n",
    "    entity=\"collection\",\n",
    "    name=\"activities\",\n",
    "    host=config[\"girder\"][\"host\"]\n",
    ")"
   ]
  },
  {
   "cell_type": "code",
   "execution_count": null,
   "metadata": {},
   "outputs": [],
   "source": [
    "activities_id"
   ]
  },
  {
   "cell_type": "code",
   "execution_count": null,
   "metadata": {},
   "outputs": [],
   "source": [
    "try:\n",
    "    conn = psycopg2.connect(\n",
    "        \" \".join(\n",
    "            [\n",
    "                \"=\".join([\n",
    "                    key,\n",
    "                    config[\"postgres\"][key]\n",
    "                ]) for key in config[\"postgres\"]\n",
    "            ]\n",
    "        )\n",
    "    )\n",
    "except:\n",
    "    print(\"I am unable to connect to the database\")"
   ]
  },
  {
   "cell_type": "code",
   "execution_count": null,
   "metadata": {},
   "outputs": [],
   "source": [
    "acts = pd.io.sql.read_sql_query(\n",
    "    \"SELECT * FROM acts;\",\n",
    "    conn\n",
    ")\n",
    "users = pd.io.sql.read_sql_query(\n",
    "    \"SELECT * FROM users;\",\n",
    "    conn\n",
    ")"
   ]
  },
  {
   "cell_type": "code",
   "execution_count": null,
   "metadata": {},
   "outputs": [],
   "source": [
    "for activity in set(acts[\"title\"]):\n",
    "    if not postgres_to_girder.get_girder_id_by_name(\n",
    "        \"folder\",\n",
    "        activity,\n",
    "        parent=(\n",
    "            \"collection\",\n",
    "            activities_id\n",
    "        ),\n",
    "        host=config[\"girder\"][\"host\"]\n",
    "    ):\n",
    "        postgres_to_girder.girder_login(\n",
    "            config[\"girder\"][\"user\"],\n",
    "            config[\"girder\"][\"password\"],\n",
    "            config[\"girder\"][\"host\"]\n",
    "        )\n",
    "        print(\n",
    "            postgres_to_girder.create_girder_entity(\n",
    "                entity=\"folder\",\n",
    "                name=activity,\n",
    "                host=config[\"girder\"][\"host\"],\n",
    "                parent=(\n",
    "                    \"collection\",\n",
    "                    activities_id\n",
    "                )\n",
    "            )\n",
    "        )"
   ]
  },
  {
   "cell_type": "code",
   "execution_count": null,
   "metadata": {},
   "outputs": [],
   "source": []
  }
 ],
 "metadata": {
  "kernelspec": {
   "display_name": "Python 3",
   "language": "python",
   "name": "python3"
  },
  "language_info": {
   "codemirror_mode": {
    "name": "ipython",
    "version": 3
   },
   "file_extension": ".py",
   "mimetype": "text/x-python",
   "name": "python",
   "nbconvert_exporter": "python",
   "pygments_lexer": "ipython3",
   "version": "3.6.5"
  }
 },
 "nbformat": 4,
 "nbformat_minor": 2
}
