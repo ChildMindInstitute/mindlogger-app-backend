{
 "cells": [
  {
   "cell_type": "code",
   "execution_count": 1,
   "metadata": {},
   "outputs": [],
   "source": [
    "%load_ext autoreload\n",
    "%autoreload 2"
   ]
  },
  {
   "cell_type": "code",
   "execution_count": 11,
   "metadata": {},
   "outputs": [
    {
     "name": "stdout",
     "output_type": "stream",
     "text": [
      "Connected to the Girder database 🏗🍃 and authenticated.\n"
     ]
    }
   ],
   "source": [
    "import os\n",
    "import sys\n",
    "sys.path.append(\n",
    "    os.path.abspath(\n",
    "        os.path.join(\n",
    "            os.getcwd(),\n",
    "            os.pardir\n",
    "        )\n",
    "    )\n",
    ")\n",
    "__package__ = \"mindlogger_backend_dev.scoring\"\n",
    "import create_scorekeys\n",
    "import girder_client\n",
    "import girder_connections\n",
    "import json\n",
    "import object_manipulation\n",
    "import update_schema\n",
    "\n",
    "which_girder = \"dev\"\n",
    "config, context, api_url = girder_connections.configuration(\n",
    "    which_girder=which_girder\n",
    ")\n",
    "which_girder = \"girder-{}\".format(which_girder)\n",
    "\n",
    "girder_connection = girder = girder_connections.connect_to_girder(\n",
    "    api_url=api_url,\n",
    "    authentication=(\n",
    "        config[which_girder][\"user\"],\n",
    "        config[which_girder][\"password\"],\n",
    "        config[which_girder][\"APIkey\"]\n",
    "    ) if \"APIkey\" in config[which_girder] else (\n",
    "        config[which_girder][\"user\"],\n",
    "        config[which_girder][\"password\"]\n",
    "    )\n",
    ")\n",
    "\n",
    "users_ids = [user[\"_id\"] for user in girder.get(\"user\")]\n",
    "volumes_id = update_schema.get_girder_id_by_name(\n",
    "    girder,\n",
    "    \"Collection\",\n",
    "    \"Volumes\"\n",
    ")\n",
    "version_0_id = update_schema.get_girder_id_by_name(\n",
    "    girder,\n",
    "    \"Folder\",\n",
    "    \"Version 0\",\n",
    "    (\"Collection\", volumes_id)\n",
    ")\n",
    "activities_id = update_schema.get_girder_id_by_name(\n",
    "    girder,\n",
    "    \"Folder\",\n",
    "    \"Activities\",\n",
    "    (\"Folder\", version_0_id)\n",
    ")\n",
    "screens_id = update_schema.get_girder_id_by_name(\n",
    "    girder,\n",
    "    \"Folder\",\n",
    "    \"Screens\",\n",
    "    (\"Folder\", version_0_id)\n",
    ")\n",
    "schedules_id = update_schema.get_girder_id_by_name(\n",
    "    girder,\n",
    "    \"Folder\",\n",
    "    \"Schedules\",\n",
    "    (\"Folder\", version_0_id)\n",
    ")"
   ]
  },
  {
   "cell_type": "code",
   "execution_count": 10,
   "metadata": {},
   "outputs": [],
   "source": [
    "EHQ = update_schema.get_girder_id_by_name(\n",
    "    girder,\n",
    "    \"Folder\",\n",
    "    \"Edinburgh Handedness Questionnaire (EHQ)\",\n",
    "    (\"Folder\", activities_id)\n",
    ")\n",
    "EHQ_version = girder.get(\n",
    "    \"folder?parentType=folder&parentId={}\".format(EHQ)\n",
    ")[0][\"_id\"]"
   ]
  },
  {
   "cell_type": "code",
   "execution_count": 24,
   "metadata": {},
   "outputs": [
    {
     "data": {
      "text/plain": [
       "['EHQ_01',\n",
       " 'EHQ_02',\n",
       " 'EHQ_03',\n",
       " 'EHQ_04',\n",
       " 'EHQ_05',\n",
       " 'EHQ_06',\n",
       " 'EHQ_07',\n",
       " 'EHQ_08',\n",
       " 'EHQ_09',\n",
       " 'EHQ_10',\n",
       " 'EHQ_11',\n",
       " 'EHQ_12',\n",
       " 'EHQ_13',\n",
       " 'EHQ_14',\n",
       " 'EHQ_15']"
      ]
     },
     "execution_count": 24,
     "metadata": {},
     "output_type": "execute_result"
    }
   ],
   "source": [
    "list(create_scorekeys.get_variables(EHQ_version, girder))"
   ]
  },
  {
   "cell_type": "markdown",
   "metadata": {},
   "source": [
    "```python\n",
    "[\n",
    "    \"function subscore_1(x, subscore_return) {subscore_return (0+x.answer_data.answers[0].result+x.answer_data.answers[1].result+x.answer_data.answers[2].result+x.answer_data.answers[3].result+x.answer_data.answers[4].result+x.answer_data.answers[5].result+x.answer_data.answers[6].result+x.answer_data.answers[7].result+x.answer_data.answers[8].result+x.answer_data.answers[9].result+x.answer_data.answers[10].result+x.answer_data.answers[11].result+x.answer_data.answers[12].result+x.answer_data.answers[13].result+x.answer_data.answers[14].result);}\",\n",
    "    \"0+​EHQ_01+​EHQ_02+​EHQ_03+​EHQ_04+​EHQ_05+​EHQ_06+​EHQ_07+​EHQ_08+​EHQ_09+​EHQ_10+​EHQ_11+​EHQ_12+​EHQ_13+​EHQ_14+​EHQ_15\"\n",
    "]\n",
    "```"
   ]
  },
  {
   "cell_type": "code",
   "execution_count": 25,
   "metadata": {},
   "outputs": [],
   "source": [
    "from urllib.parse import quote\n",
    "import json, os"
   ]
  },
  {
   "cell_type": "code",
   "execution_count": 30,
   "metadata": {},
   "outputs": [
    {
     "data": {
      "text/plain": [
       "'%7B%22schema.name%22%3A%20%7B%22%40value%22%3A%20%22Dark%22%7D%7D'"
      ]
     },
     "execution_count": 30,
     "metadata": {},
     "output_type": "execute_result"
    }
   ],
   "source": [
    "quote(json.dumps({\"schema.name\":{\"@value\": \"Dark\"}}))"
   ]
  },
  {
   "cell_type": "code",
   "execution_count": null,
   "metadata": {},
   "outputs": [],
   "source": []
  }
 ],
 "metadata": {
  "kernelspec": {
   "display_name": "Python 3",
   "language": "python",
   "name": "python3"
  },
  "language_info": {
   "codemirror_mode": {
    "name": "ipython",
    "version": 3
   },
   "file_extension": ".py",
   "mimetype": "text/x-python",
   "name": "python",
   "nbconvert_exporter": "python",
   "pygments_lexer": "ipython3",
   "version": "3.6.5"
  }
 },
 "nbformat": 4,
 "nbformat_minor": 2
}
