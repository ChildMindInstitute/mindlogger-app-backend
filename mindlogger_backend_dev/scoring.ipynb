{
 "cells": [
  {
   "cell_type": "code",
   "execution_count": 1,
   "metadata": {},
   "outputs": [],
   "source": [
    "%load_ext autoreload\n",
    "%autoreload 2"
   ]
  },
  {
   "cell_type": "code",
   "execution_count": 11,
   "metadata": {},
   "outputs": [
    {
     "name": "stdout",
     "output_type": "stream",
     "text": [
      "Connected to the Girder database 🏗🍃 and authenticated.\n"
     ]
    }
   ],
   "source": [
    "import os\n",
    "import sys\n",
    "sys.path.append(\n",
    "    os.path.abspath(\n",
    "        os.path.join(\n",
    "            os.getcwd(),\n",
    "            os.pardir\n",
    "        )\n",
    "    )\n",
    ")\n",
    "__package__ = \"mindlogger_backend_dev.scoring\"\n",
    "import create_scorekeys\n",
    "import girder_client\n",
    "import girder_connections\n",
    "import json\n",
    "import object_manipulation\n",
    "import update_schema\n",
    "\n",
    "which_girder = \"dev\"\n",
    "config, context, api_url = girder_connections.configuration(\n",
    "    which_girder=which_girder\n",
    ")\n",
    "which_girder = \"girder-{}\".format(which_girder)\n",
    "\n",
    "girder_connection = girder = girder_connections.connect_to_girder(\n",
    "    api_url=api_url,\n",
    "    authentication=(\n",
    "        config[which_girder][\"user\"],\n",
    "        config[which_girder][\"password\"],\n",
    "        config[which_girder][\"APIkey\"]\n",
    "    ) if \"APIkey\" in config[which_girder] else (\n",
    "        config[which_girder][\"user\"],\n",
    "        config[which_girder][\"password\"]\n",
    "    )\n",
    ")\n",
    "\n",
    "users_ids = [user[\"_id\"] for user in girder.get(\"user\")]\n",
    "volumes_id = update_schema.get_girder_id_by_name(\n",
    "    girder,\n",
    "    \"Collection\",\n",
    "    \"Volumes\"\n",
    ")\n",
    "version_0_id = update_schema.get_girder_id_by_name(\n",
    "    girder,\n",
    "    \"Folder\",\n",
    "    \"Version 0\",\n",
    "    (\"Collection\", volumes_id)\n",
    ")\n",
    "activities_id = update_schema.get_girder_id_by_name(\n",
    "    girder,\n",
    "    \"Folder\",\n",
    "    \"Activities\",\n",
    "    (\"Folder\", version_0_id)\n",
    ")\n",
    "screens_id = update_schema.get_girder_id_by_name(\n",
    "    girder,\n",
    "    \"Folder\",\n",
    "    \"Screens\",\n",
    "    (\"Folder\", version_0_id)\n",
    ")\n",
    "schedules_id = update_schema.get_girder_id_by_name(\n",
    "    girder,\n",
    "    \"Folder\",\n",
    "    \"Schedules\",\n",
    "    (\"Folder\", version_0_id)\n",
    ")"
   ]
  },
  {
   "cell_type": "code",
   "execution_count": 10,
   "metadata": {},
   "outputs": [],
   "source": [
    "EHQ = update_schema.get_girder_id_by_name(\n",
    "    girder,\n",
    "    \"Folder\",\n",
    "    \"Edinburgh Handedness Questionnaire (EHQ)\",\n",
    "    (\"Folder\", activities_id)\n",
    ")\n",
    "EHQ_version = girder.get(\n",
    "    \"folder?parentType=folder&parentId={}\".format(EHQ)\n",
    ")[0][\"_id\"]"
   ]
  }
 ],
 "metadata": {
  "kernelspec": {
   "display_name": "Python 3",
   "language": "python",
   "name": "python3"
  },
  "language_info": {
   "codemirror_mode": {
    "name": "ipython",
    "version": 3
   },
   "file_extension": ".py",
   "mimetype": "text/x-python",
   "name": "python",
   "nbconvert_exporter": "python",
   "pygments_lexer": "ipython3",
   "version": "3.6.5"
  }
 },
 "nbformat": 4,
 "nbformat_minor": 2
}
