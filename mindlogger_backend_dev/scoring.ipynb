{
 "cells": [
  {
   "cell_type": "code",
   "execution_count": 1,
   "metadata": {},
   "outputs": [],
   "source": [
    "%load_ext autoreload\n",
    "%autoreload 2"
   ]
  },
  {
   "cell_type": "code",
   "execution_count": 11,
   "metadata": {},
   "outputs": [
    {
     "name": "stdout",
     "output_type": "stream",
     "text": [
      "Connected to the Girder database 🏗🍃 and authenticated.\n"
     ]
    }
   ],
   "source": [
    "import os\n",
    "import sys\n",
    "sys.path.append(\n",
    "    os.path.abspath(\n",
    "        os.path.join(\n",
    "            os.getcwd(),\n",
    "            os.pardir\n",
    "        )\n",
    "    )\n",
    ")\n",
    "__package__ = \"mindlogger_backend_dev.scoring\"\n",
    "import create_scorekeys\n",
    "import girder_client\n",
    "import girder_connections\n",
    "import json\n",
    "import object_manipulation\n",
    "import update_schema\n",
    "\n",
    "which_girder = \"dev\"\n",
    "config, context, api_url = girder_connections.configuration(\n",
    "    which_girder=which_girder\n",
    ")\n",
    "which_girder = \"girder-{}\".format(which_girder)\n",
    "\n",
    "girder_connection = girder = girder_connections.connect_to_girder(\n",
    "    api_url=api_url,\n",
    "    authentication=(\n",
    "        config[which_girder][\"user\"],\n",
    "        config[which_girder][\"password\"],\n",
    "        config[which_girder][\"APIkey\"]\n",
    "    ) if \"APIkey\" in config[which_girder] else (\n",
    "        config[which_girder][\"user\"],\n",
    "        config[which_girder][\"password\"]\n",
    "    )\n",
    ")\n",
    "\n",
    "users_ids = [user[\"_id\"] for user in girder.get(\"user\")]\n",
    "volumes_id = update_schema.get_girder_id_by_name(\n",
    "    girder,\n",
    "    \"Collection\",\n",
    "    \"Volumes\"\n",
    ")\n",
    "version_0_id = update_schema.get_girder_id_by_name(\n",
    "    girder,\n",
    "    \"Folder\",\n",
    "    \"Version 0\",\n",
    "    (\"Collection\", volumes_id)\n",
    ")\n",
    "activities_id = update_schema.get_girder_id_by_name(\n",
    "    girder,\n",
    "    \"Folder\",\n",
    "    \"Activities\",\n",
    "    (\"Folder\", version_0_id)\n",
    ")\n",
    "screens_id = update_schema.get_girder_id_by_name(\n",
    "    girder,\n",
    "    \"Folder\",\n",
    "    \"Screens\",\n",
    "    (\"Folder\", version_0_id)\n",
    ")\n",
    "schedules_id = update_schema.get_girder_id_by_name(\n",
    "    girder,\n",
    "    \"Folder\",\n",
    "    \"Schedules\",\n",
    "    (\"Folder\", version_0_id)\n",
    ")"
   ]
  },
  {
   "cell_type": "code",
   "execution_count": 10,
   "metadata": {},
   "outputs": [],
   "source": [
    "EHQ = update_schema.get_girder_id_by_name(\n",
    "    girder,\n",
    "    \"Folder\",\n",
    "    \"Edinburgh Handedness Questionnaire (EHQ)\",\n",
    "    (\"Folder\", activities_id)\n",
    ")\n",
    "EHQ_version = girder.get(\n",
    "    \"folder?parentType=folder&parentId={}\".format(EHQ)\n",
    ")[0][\"_id\"]"
   ]
  },
  {
   "cell_type": "code",
   "execution_count": 24,
   "metadata": {},
   "outputs": [
    {
     "data": {
      "text/plain": [
       "['EHQ_01',\n",
       " 'EHQ_02',\n",
       " 'EHQ_03',\n",
       " 'EHQ_04',\n",
       " 'EHQ_05',\n",
       " 'EHQ_06',\n",
       " 'EHQ_07',\n",
       " 'EHQ_08',\n",
       " 'EHQ_09',\n",
       " 'EHQ_10',\n",
       " 'EHQ_11',\n",
       " 'EHQ_12',\n",
       " 'EHQ_13',\n",
       " 'EHQ_14',\n",
       " 'EHQ_15']"
      ]
     },
     "execution_count": 24,
     "metadata": {},
     "output_type": "execute_result"
    }
   ],
   "source": [
    "list(create_scorekeys.get_variables(EHQ_version, girder))"
   ]
  },
  {
   "cell_type": "markdown",
   "metadata": {},
   "source": [
    "```python\n",
    "[\n",
    "    \"function subscore_1(x, subscore_return) {subscore_return (0+x.answer_data.answers[0].result+x.answer_data.answers[1].result+x.answer_data.answers[2].result+x.answer_data.answers[3].result+x.answer_data.answers[4].result+x.answer_data.answers[5].result+x.answer_data.answers[6].result+x.answer_data.answers[7].result+x.answer_data.answers[8].result+x.answer_data.answers[9].result+x.answer_data.answers[10].result+x.answer_data.answers[11].result+x.answer_data.answers[12].result+x.answer_data.answers[13].result+x.answer_data.answers[14].result);}\",\n",
    "    \"0+​EHQ_01+​EHQ_02+​EHQ_03+​EHQ_04+​EHQ_05+​EHQ_06+​EHQ_07+​EHQ_08+​EHQ_09+​EHQ_10+​EHQ_11+​EHQ_12+​EHQ_13+​EHQ_14+​EHQ_15\"\n",
    "]\n",
    "```"
   ]
  },
  {
   "cell_type": "code",
   "execution_count": 448,
   "metadata": {},
   "outputs": [
    {
     "data": {
      "text/plain": [
       "{(('==', -100),): '10th left',\n",
       " (('>=', -100), ('<', -92)): '9th left',\n",
       " (('>=', -92), ('<', -90)): '8th left',\n",
       " (('>=', -90), ('<', -87)): '7th left',\n",
       " (('>=', -87), ('<', -83)): '6th left',\n",
       " (('>=', -83), ('<', -76)): '5th left',\n",
       " (('>=', -76), ('<', -66)): '4th left',\n",
       " (('>=', -66), ('<', -54)): '3d left',\n",
       " (('>=', -54), ('<', -42)): '2d left',\n",
       " (('>=', -42), ('<', -28)): '1st left',\n",
       " (('>=', -28), ('<', 48)): 'Middle',\n",
       " (('>=', 48), ('<', 60)): '1st right',\n",
       " (('>=', 60), ('<', 68)): '2d right',\n",
       " (('>=', 68), ('<', 74)): '3d right',\n",
       " (('>=', 74), ('<', 80)): '4th right',\n",
       " (('>=', 80), ('<', 84)): '5th right',\n",
       " (('>=', 84), ('<', 88)): '6th right',\n",
       " (('>=', 88), ('<', 92)): '7th right',\n",
       " (('>=', 92), ('<', 95)): '8th right',\n",
       " (('>=', 95), ('<', 100)): '9th right',\n",
       " (('==', 100),): '10th right'}"
      ]
     },
     "execution_count": 448,
     "metadata": {},
     "output_type": "execute_result"
    }
   ],
   "source": [
    "scorekey[\"Laterality Index\"][\"lookup\"]"
   ]
  },
  {
   "cell_type": "code",
   "execution_count": 487,
   "metadata": {},
   "outputs": [
    {
     "data": {
      "text/plain": [
       "{\"(('==', -100),)\": '10th left',\n",
       " \"(('==', 100),)\": '10th right',\n",
       " \"(('>=', -100), ('<', -92))\": '9th left',\n",
       " \"(('>=', -28), ('<', 48))\": 'Middle',\n",
       " \"(('>=', -42), ('<', -28))\": '1st left',\n",
       " \"(('>=', -54), ('<', -42))\": '2d left',\n",
       " \"(('>=', -66), ('<', -54))\": '3d left',\n",
       " \"(('>=', -76), ('<', -66))\": '4th left',\n",
       " \"(('>=', -83), ('<', -76))\": '5th left',\n",
       " \"(('>=', -87), ('<', -83))\": '6th left',\n",
       " \"(('>=', -90), ('<', -87))\": '7th left',\n",
       " \"(('>=', -92), ('<', -90))\": '8th left',\n",
       " \"(('>=', 48), ('<', 60))\": '1st right',\n",
       " \"(('>=', 60), ('<', 68))\": '2d right',\n",
       " \"(('>=', 68), ('<', 74))\": '3d right',\n",
       " \"(('>=', 74), ('<', 80))\": '4th right',\n",
       " \"(('>=', 80), ('<', 84))\": '5th right',\n",
       " \"(('>=', 84), ('<', 88))\": '6th right',\n",
       " \"(('>=', 88), ('<', 92))\": '7th right',\n",
       " \"(('>=', 92), ('<', 95))\": '8th right',\n",
       " \"(('>=', 95), ('<', 100))\": '9th right'}"
      ]
     },
     "execution_count": 487,
     "metadata": {},
     "output_type": "execute_result"
    }
   ],
   "source": [
    "create_scorekeys.scorekey_to_girder(EHQ_version, scorekey, girder_connection)['meta']['scorekey']['Laterality Index'][\"lookup\"]"
   ]
  },
  {
   "cell_type": "code",
   "execution_count": 489,
   "metadata": {},
   "outputs": [],
   "source": [
    "book = update_schema.find_or_create(\n",
    "    (\"Folder\", \"Book of Cagliostro\"),\n",
    "    (\"Collection\", update_schema.get_girder_id_by_name(\n",
    "        girder_connection,\n",
    "        \"Collection\",\n",
    "        \"Ancient One\"\n",
    "    )),\n",
    "    girder_connection\n",
    ")\n",
    "scorekey2={\n",
    "'Ring': {\n",
    "        'formula': [\n",
    "            1,\n",
    "            '+',\n",
    "            2\n",
    "        ],\n",
    "        'lookup': {\n",
    "            \"(('==', 3),)\": 'Gollum'\n",
    "        }\n",
    "    }\n",
    "}"
   ]
  },
  {
   "cell_type": "code",
   "execution_count": 492,
   "metadata": {},
   "outputs": [
    {
     "data": {
      "text/plain": [
       "{\"(('==', 3),)\": 'Gollum'}"
      ]
     },
     "execution_count": 492,
     "metadata": {},
     "output_type": "execute_result"
    }
   ],
   "source": [
    "create_scorekeys.scorekey_to_girder(book, scorekey2, girder_connection)[\"meta\"][\"scorekey\"][\"Ring\"][\"lookup\"]"
   ]
  },
  {
   "cell_type": "code",
   "execution_count": null,
   "metadata": {},
   "outputs": [],
   "source": []
  }
 ],
 "metadata": {
  "kernelspec": {
   "display_name": "Python 3",
   "language": "python",
   "name": "python3"
  },
  "language_info": {
   "codemirror_mode": {
    "name": "ipython",
    "version": 3
   },
   "file_extension": ".py",
   "mimetype": "text/x-python",
   "name": "python",
   "nbconvert_exporter": "python",
   "pygments_lexer": "ipython3",
   "version": "3.6.5"
  }
 },
 "nbformat": 4,
 "nbformat_minor": 2
}
