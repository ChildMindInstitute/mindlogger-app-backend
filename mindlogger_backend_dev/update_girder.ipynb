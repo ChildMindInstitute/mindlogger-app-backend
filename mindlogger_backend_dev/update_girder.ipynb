{
 "cells": [
  {
   "cell_type": "markdown",
   "metadata": {},
   "source": [
    "iPython setup"
   ]
  },
  {
   "cell_type": "code",
   "execution_count": 1,
   "metadata": {},
   "outputs": [],
   "source": [
    "%load_ext autoreload\n",
    "%autoreload 2"
   ]
  },
  {
   "cell_type": "markdown",
   "metadata": {},
   "source": [
    "Load libraries and configuration"
   ]
  },
  {
   "cell_type": "code",
   "execution_count": 95,
   "metadata": {},
   "outputs": [
    {
     "name": "stdout",
     "output_type": "stream",
     "text": [
      "Connected to the Girder database 🏗🍃 and authenticated.\n"
     ]
    }
   ],
   "source": [
    "import os\n",
    "import sys\n",
    "sys.path.append(\n",
    "    os.path.abspath(\n",
    "        os.path.join(\n",
    "            os.getcwd(),\n",
    "            os.pardir\n",
    "        )\n",
    "    )\n",
    ")\n",
    "__package__ = \"mindlogger_backend_dev.update_girder\"\n",
    "from datetime import date, datetime\n",
    "import girder_client\n",
    "import girder_connections\n",
    "import json\n",
    "import object_manipulation\n",
    "import pandas as pd\n",
    "import psycopg2\n",
    "from urllib.parse import quote\n",
    "import update_schema\n",
    "import urllib\n",
    "from urllib.request import urlopen\n",
    "\n",
    "examples = girder_client.GirderClient(\n",
    "    apiUrl=\"https://data.kitware.com/api/v1/\"\n",
    ")\n",
    "\n",
    "which_girder = \"dev\"\n",
    "config, context, api_url = girder_connections.configuration(\n",
    "    which_girder=which_girder\n",
    ")\n",
    "which_girder = \"girder-{}\".format(which_girder)\n",
    "\n",
    "girder_connection = girder = girder_connections.connect_to_girder(\n",
    "    api_url=api_url,\n",
    "    authentication=(\n",
    "        config[which_girder][\"user\"],\n",
    "        config[which_girder][\"password\"],\n",
    "        config[which_girder][\"APIkey\"]\n",
    "    ) if \"APIkey\" in config[which_girder] else (\n",
    "        config[which_girder][\"user\"],\n",
    "        config[which_girder][\"password\"]\n",
    "    )\n",
    ")\n",
    "\n",
    "activities_id = update_schema.get_girder_id_by_name(\n",
    "    girder,\n",
    "    \"Collection\",\n",
    "    \"Activities\"\n",
    ")\n",
    "screens_id = update_schema.get_girder_id_by_name(\n",
    "    girder,\n",
    "    \"Collection\",\n",
    "    \"Screens\"\n",
    ")\n",
    "schedules_id = update_schema.get_girder_id_by_name(\n",
    "    girder,\n",
    "    \"Collection\",\n",
    "    \"Schedules\"\n",
    ")\n",
    "users_ids = [user[\"_id\"] for user in girder.get(\"user\")]\n",
    "volumes_id = update_schema.get_girder_id_by_name(\n",
    "    girder,\n",
    "    \"Collection\",\n",
    "    \"Volumes\"\n",
    ")"
   ]
  }
 ],
 "metadata": {
  "kernelspec": {
   "display_name": "Python 3",
   "language": "python",
   "name": "python3"
  },
  "language_info": {
   "codemirror_mode": {
    "name": "ipython",
    "version": 3
   },
   "file_extension": ".py",
   "mimetype": "text/x-python",
   "name": "python",
   "nbconvert_exporter": "python",
   "pygments_lexer": "ipython3",
   "version": "3.6.5"
  }
 },
 "nbformat": 4,
 "nbformat_minor": 2
}
