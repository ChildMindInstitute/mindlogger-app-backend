{
 "cells": [
  {
   "cell_type": "code",
   "execution_count": 1,
   "metadata": {},
   "outputs": [],
   "source": [
    "%load_ext autoreload\n",
    "%autoreload 2"
   ]
  },
  {
   "cell_type": "code",
   "execution_count": 2,
   "metadata": {},
   "outputs": [],
   "source": [
    "__package__ = \"mindlogger_backend_dev.update_girder\"\n",
    "import girder_client\n",
    "import json\n",
    "import os\n",
    "import pandas as pd\n",
    "import psycopg2\n",
    "import urllib\n",
    "from datetime import date\n",
    "import girder_connections\n",
    "import object_manipulation\n",
    "import update_schema"
   ]
  },
  {
   "cell_type": "code",
   "execution_count": 3,
   "metadata": {},
   "outputs": [],
   "source": [
    "which_girder = \"dev\"\n",
    "config, context, api_url = girder_connections.configuration(\n",
    "    which_girder=which_girder\n",
    ")\n",
    "which_girder = \"girder-{}\".format(which_girder)"
   ]
  },
  {
   "cell_type": "code",
   "execution_count": 4,
   "metadata": {},
   "outputs": [
    {
     "name": "stdout",
     "output_type": "stream",
     "text": [
      "Connected to the Girder database 🏗🍃 and authenticated.\n"
     ]
    }
   ],
   "source": [
    "girder = girder_connections.connect_to_girder(\n",
    "    api_url=api_url,\n",
    "    authentication=(\n",
    "        config[which_girder][\"user\"],\n",
    "        config[which_girder][\"password\"],\n",
    "        config[which_girder][\"APIkey\"]\n",
    "    ) if \"APIkey\" in config[which_girder] else (\n",
    "        config[which_girder][\"user\"],\n",
    "        config[which_girder][\"password\"]\n",
    "    )\n",
    ")"
   ]
  },
  {
   "cell_type": "code",
   "execution_count": 5,
   "metadata": {},
   "outputs": [],
   "source": [
    "girder_connection = girder_client.GirderClient(\n",
    "    apiUrl=api_url\n",
    ")"
   ]
  },
  {
   "cell_type": "code",
   "execution_count": 6,
   "metadata": {},
   "outputs": [],
   "source": [
    "girder_connection.authenticate(config[which_girder][\"user\"],\n",
    "            config[which_girder][\"password\"])"
   ]
  },
  {
   "cell_type": "code",
   "execution_count": 7,
   "metadata": {},
   "outputs": [
    {
     "data": {
      "text/plain": [
       "{'_accessLevel': 2,\n",
       " '_id': '5b1830ddad97092bdb8e99d1',\n",
       " '_modelType': 'user',\n",
       " 'admin': True,\n",
       " 'created': '2018-06-06T19:07:08.791000+00:00',\n",
       " 'email': 'jon.clucas@childmind.org',\n",
       " 'emailVerified': True,\n",
       " 'firstName': 'Jon',\n",
       " 'groupInvites': [],\n",
       " 'groups': ['5b2d3884ad97092bdb530b2b',\n",
       "  '5b2d38a0ad97092bdb530b2c',\n",
       "  '5b2d38b1ad97092bdb530b2d',\n",
       "  '5b2d38bcad97092bdb530b2e'],\n",
       " 'lastName': 'Clucas',\n",
       " 'login': 'jon.clucas',\n",
       " 'public': True,\n",
       " 'size': 0,\n",
       " 'status': 'enabled'}"
      ]
     },
     "execution_count": 7,
     "metadata": {},
     "output_type": "execute_result"
    }
   ],
   "source": [
    "try:\n",
    "    c = girder_connection.getUser(\"5b1830ddad97092bdb8e99d1\")\n",
    "except:\n",
    "    c = girder_connection.getUser(\"5b4ca32338488311497dc9bc\")\n",
    "c"
   ]
  },
  {
   "cell_type": "code",
   "execution_count": null,
   "metadata": {},
   "outputs": [],
   "source": []
  }
 ],
 "metadata": {
  "kernelspec": {
   "display_name": "Python 3",
   "language": "python",
   "name": "python3"
  },
  "language_info": {
   "codemirror_mode": {
    "name": "ipython",
    "version": 3
   },
   "file_extension": ".py",
   "mimetype": "text/x-python",
   "name": "python",
   "nbconvert_exporter": "python",
   "pygments_lexer": "ipython3",
   "version": "3.6.5"
  }
 },
 "nbformat": 4,
 "nbformat_minor": 2
}
