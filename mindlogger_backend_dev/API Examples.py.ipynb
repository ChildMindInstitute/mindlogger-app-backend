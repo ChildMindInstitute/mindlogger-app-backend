{
 "cells": [
  {
   "cell_type": "markdown",
   "metadata": {},
   "source": [
    "# Load libraries & config"
   ]
  },
  {
   "cell_type": "code",
   "execution_count": null,
   "metadata": {},
   "outputs": [],
   "source": [
    "from datetime import date, datetime\n",
    "import girder_client as gc\n",
    "import json\n",
    "from urllib.parse import quote\n",
    "import random\n",
    "import string\n",
    "import tzlocal\n",
    "from urllib.request import urlopen\n",
    "\n",
    "\n",
    "with open(\"config.json\", \"r\") as fp:\n",
    "    config=json.load(fp)"
   ]
  },
  {
   "cell_type": "markdown",
   "metadata": {},
   "source": [
    "# Connect to Girder"
   ]
  },
  {
   "cell_type": "code",
   "execution_count": null,
   "metadata": {},
   "outputs": [],
   "source": [
    "girder_connection = gc.GirderClient(\n",
    "    apiUrl=\"http://{}/api/v1/\".format(\n",
    "        config[\"girder-dev\"][\"host\"]\n",
    "    )\n",
    ")\n",
    "girder_connection.authenticate(\n",
    "    username=config[\"girder-dev\"][\"user\"],\n",
    "    password=config[\"girder-dev\"][\"password\"]\n",
    ")"
   ]
  },
  {
   "cell_type": "markdown",
   "metadata": {},
   "source": [
    "# Create a User"
   ]
  },
  {
   "cell_type": "code",
   "execution_count": null,
   "metadata": {},
   "outputs": [],
   "source": [
    "email = \"gilderoy_lockhart@hogwarts.edu\"\n",
    "girder_connection.post(\n",
    "    \"&\".join([\n",
    "        \"user?login={}\".format(\"Gilderoy.Lockhart\"),\n",
    "        \"email={}\".format(email),\n",
    "        \"firstName={}\".format(\"Gilderoy\"),\n",
    "        \"lastName={}\".format(\"Lockhart\"),\n",
    "        \"password='{}'\".format(\n",
    "            \"\".join(\n",
    "                random.sample(\n",
    "                    string.printable,\n",
    "                    28\n",
    "                )\n",
    "            )\n",
    "        ), # random password\n",
    "        \"admin=false\"\n",
    "    ])\n",
    ") # create new user\n",
    "girder_connection.put(\n",
    "    \"user/password/temporary?email={}\".format(\n",
    "        email\n",
    "    )\n",
    ") # send temporary password"
   ]
  },
  {
   "cell_type": "markdown",
   "metadata": {},
   "source": [
    "## Assign a role"
   ]
  },
  {
   "cell_type": "code",
   "execution_count": null,
   "metadata": {},
   "outputs": [],
   "source": [
    "role = \"Users\"\n",
    "groups = girder_connection.get(\n",
    "    \"group\"\n",
    ") # get all groups\n",
    "role_id = [\n",
    "    group for group in groups if group['name']==role\n",
    "][0][\"_id\"] # get Girder_id for \"Viewers\" group\n",
    "users = girder_connection.get(\"user\")\n",
    "user_id = [\n",
    "    user for user in users if user['email']==email\n",
    "][0][\"_id\"] # get Girder_id for user\n",
    "girder_connection.post(\n",
    "    \"\".join([\n",
    "        \"group/{}\".format(role_id),\n",
    "        \"/invitation?userId={}\".format(user_id),\n",
    "        \"&quiet=true&force=true\"\n",
    "    ])\n",
    ")"
   ]
  },
  {
   "cell_type": "markdown",
   "metadata": {},
   "source": [
    "# Create a Volume\n",
    "## Give the Volume a name"
   ]
  },
  {
   "cell_type": "code",
   "execution_count": null,
   "metadata": {},
   "outputs": [],
   "source": [
    "volume_name = \"Defense Against the Dark Arts\""
   ]
  },
  {
   "cell_type": "markdown",
   "metadata": {},
   "source": [
    "## Create Volume"
   ]
  },
  {
   "cell_type": "code",
   "execution_count": null,
   "metadata": {},
   "outputs": [],
   "source": [
    "volumes_id = girder_connection.get(\n",
    "    \"collection?text=Volumes\"\n",
    ")[0][\"_id\"]\n",
    "volume_id = girder_connection.post(\n",
    "    \"&\".join([\n",
    "        \"folder?name={}\".format(volume_name),\n",
    "        \"parentId={}\".format(volumes_id),\n",
    "        \"parentType=collection\",\n",
    "        \"reuseExisting=true\"\n",
    "    ])\n",
    ")[\"_id\"]"
   ]
  },
  {
   "cell_type": "markdown",
   "metadata": {},
   "source": [
    "## Update Volume: {'status': 'inactive'}"
   ]
  },
  {
   "cell_type": "code",
   "execution_count": null,
   "metadata": {},
   "outputs": [],
   "source": [
    "girder_connection.put(\n",
    "    \"folder/{}\".format(\n",
    "        girder_connection.get(\n",
    "            \"&\".join([\n",
    "                \"folder?parentType=collection\",\n",
    "                \"parentId={}\".format(volumes_id),\n",
    "                \"text={}\".format(volume_name)\n",
    "            ])\n",
    "        )[0][\"_id\"]\n",
    "    ),\n",
    "    parameters={\n",
    "        \"metadata\": json.dumps(\n",
    "            {'status': 'inactive'}\n",
    "        )\n",
    "    }\n",
    ") # make volume's status inactive"
   ]
  },
  {
   "cell_type": "markdown",
   "metadata": {},
   "source": [
    "# Create Activity\n",
    "## Name Activity"
   ]
  },
  {
   "cell_type": "code",
   "execution_count": null,
   "metadata": {},
   "outputs": [],
   "source": [
    "activity_name = \"Gadding with Ghouls\""
   ]
  },
  {
   "cell_type": "markdown",
   "metadata": {},
   "source": [
    "## Create Activity"
   ]
  },
  {
   "cell_type": "code",
   "execution_count": null,
   "metadata": {},
   "outputs": [],
   "source": [
    "activities_id = girder_connection.post(\n",
    "    \"&\".join([\n",
    "        \"folder?name=Activities\",\n",
    "        \"parentId={}\".format(volume_id),\n",
    "        \"parentType=folder\",\n",
    "        \"reuseExisting=true\"\n",
    "    ])\n",
    ")[\"_id\"] # create or find the Activities Folder in the relevant Volume; store the _id to a variable\n",
    "\n",
    "activity_id = girder_connection.post(\n",
    "    \"&\".join([\n",
    "        \"folder?name={}\".format(activity_name),\n",
    "        \"parentId={}\".format(activities_id),\n",
    "        \"parentType=folder\",\n",
    "        \"reuseExisting=true\"\n",
    "    ])\n",
    ")[\"_id\"] # create or find the Activity Folder in the relevant Volume.Activities; store the _id to a variable\n",
    "\n",
    "activity_version_id = girder_connection.post(\n",
    "    \"&\".join([\n",
    "        \"folder?name={}\".format(\n",
    "            \"{} ({})\".format(\n",
    "                activity_name,\n",
    "                date.today().strftime(\"%F\")\n",
    "            )\n",
    "        ),\n",
    "        \"parentId={}\".format(activity_id),\n",
    "        \"parentType=folder\",\n",
    "        \"reuseExisting=true\",\n",
    "        \"metadata={}\".format(\n",
    "            quote(\n",
    "                json.dumps(\n",
    "                    {\n",
    "                        \"@context\": {\n",
    "                            \"@base\": \"http://localhost:8080/api/v1/\",\n",
    "                            \"devices\": \"http://www.w3id.org/abdn/irp/devices/\",\n",
    "                            \"nidm\": \"http://nidm.nidash.org/specs/nidm-experiment.html#\",\n",
    "                            \"oslc\": \"http://open-services.net/ns/core#\",\n",
    "                            \"pav\": \"http://purl.org/pav/\",\n",
    "                            \"pav:lastUpdatedOn\": {\n",
    "                                \"@type\": \"xsd:dateTime\"\n",
    "                            },\n",
    "                            \"schema\": \"http://schema.org/\",\n",
    "                            \"schema:description\": {\n",
    "                                \"@type\": \"xsd:string\"\n",
    "                            },\n",
    "                            \"schema:name\": {\n",
    "                                \"@type\": \"xsd:string\"\n",
    "                            },\n",
    "                            \"xsd\": \"http://www.w3.org/2001/XMLSchema\"\n",
    "                        },\n",
    "                        \"oslc:modifiedBy\": [\n",
    "                            {\n",
    "                                \"@id\": \"user/{}\".format(\n",
    "                                    girder_connection.get(\n",
    "                                        \"user/me\"\n",
    "                                    )[\"_id\"]\n",
    "                                )\n",
    "                            },\n",
    "                            {\n",
    "                                \"@id\": \"user/{}\".format(\n",
    "                                    user_id\n",
    "                                )\n",
    "                            }\n",
    "                        ],\n",
    "                        \"pav:createdBy\": [\n",
    "                            {\n",
    "                                \"@id\": \"user/{}\".format(\n",
    "                                    user_id\n",
    "                                )\n",
    "                            }\n",
    "                        ],\n",
    "                        \"pav:lastUpdatedOn\": datetime.now(\n",
    "                            tzlocal.get_localzone()\n",
    "                        ).strftime(\"%FT%T.%f%z\"),\n",
    "                        \"schema:name\": {\n",
    "                            \"@language\": \"en-US\",\n",
    "                            \"@value\": activity_name\n",
    "                        }\n",
    "                    }\n",
    "                )\n",
    "            )\n",
    "        )\n",
    "    ])\n",
    ")[\"_id\"] # create a version Item of the Activity in the Activity Folder; store the _id to a variable"
   ]
  },
  {
   "cell_type": "markdown",
   "metadata": {},
   "source": [
    "## add Image to Activity Version\n",
    "### define Image source"
   ]
  },
  {
   "cell_type": "code",
   "execution_count": null,
   "metadata": {},
   "outputs": [],
   "source": [
    "image_stream = urlopen(\"https://vignette.wikia.nocookie.net/harrypotter/images/0/03/GaddingWithGhouls.png\")"
   ]
  },
  {
   "cell_type": "markdown",
   "metadata": {},
   "source": [
    "### upload Image"
   ]
  },
  {
   "cell_type": "code",
   "execution_count": null,
   "metadata": {},
   "outputs": [],
   "source": [
    "img_id = girder_connection.uploadFile(\n",
    "    parentId=activity_version_id, \n",
    "    parentType=\"folder\",\n",
    "    stream=image_stream,\n",
    "    name=\".\".join([\n",
    "        activity_name,\n",
    "        image_stream.info()[\"Content-Type\"].split(\"/\")[-1]\n",
    "    ]), # name to save the File as in Mindlogger, including extension\n",
    "    size=int(\n",
    "        image_stream.info()[\"Content-Length\"]\n",
    "    ) # size of the File in bytes\n",
    ")[\"_id\"]"
   ]
  },
  {
   "cell_type": "markdown",
   "metadata": {},
   "source": [
    "# create Screens"
   ]
  },
  {
   "cell_type": "markdown",
   "metadata": {},
   "source": [
    "## select Activity to house Screens under"
   ]
  },
  {
   "cell_type": "code",
   "execution_count": null,
   "metadata": {},
   "outputs": [],
   "source": [
    "activity_id = girder_connection.post(\n",
    "    \"&\".join([\n",
    "        \"folder?name={}\".format(activity_name),\n",
    "        \"parentId={}\".format(activities_id),\n",
    "        \"parentType=folder\",\n",
    "        \"reuseExisting=true\"\n",
    "    ])\n",
    ")[\"_id\"] # create or find the Activity Folder in the relevant Volume.Activities; store the _id to a variable\n",
    "\n",
    "activity_version_id = girder_connection.get(\n",
    "    \"&\".join([\n",
    "        \"folder?parentType=folder\",\n",
    "        \"parentId={}\".format(activity_id),\n",
    "        \"sort=updated\",\n",
    "        \"sortdir=-1\"\n",
    "    ])\n",
    ")[0][\"_id\"] # get newest version"
   ]
  },
  {
   "cell_type": "markdown",
   "metadata": {},
   "source": [
    "## create 2 screens, the second depending on the first not being \"never\""
   ]
  },
  {
   "cell_type": "code",
   "execution_count": null,
   "metadata": {},
   "outputs": [],
   "source": [
    "screens_ids = []\n",
    "screen_short = \"gg_effects_delay_venom\"\n",
    "screen_long = \"How long until you feel the effects of slow-moving venom?\"\n",
    "screen_name = \": \".join([\n",
    "    screen_short,\n",
    "    screen_long\n",
    "])\n",
    "meta = {\n",
    "    '@context': {\n",
    "        '@base': 'http://localhost:8080/api/v1/',\n",
    "        'devices': 'http://www.w3id.org/abdn/irp/devices/',\n",
    "        'nidm': 'http://nidm.nidash.org/specs/nidm-experiment.html#',\n",
    "        'oslc': 'http://open-services.net/ns/core#',\n",
    "        'pav': 'http://purl.org/pav/',\n",
    "        'pav:lastUpdatedOn': {'@type': 'xsd:dateTime'},\n",
    "        'schema': 'http://schema.org/',\n",
    "        'schema:description': {'@type': 'xsd:string'},\n",
    "        'schema:name': {'@type': 'xsd:string'},\n",
    "        'xsd': 'http://www.w3.org/2001/XMLSchema'\n",
    "    },\n",
    "        'question_text': {\n",
    "            '@language': 'en-US',\n",
    "            '@value': screen_long\n",
    "        },\n",
    "        'response_type': 'single_sel',\n",
    "        'options': [\n",
    "            {\n",
    "                'option_text': {\n",
    "                    '@language': 'en-UK',\n",
    "                    '@value': 'immediately'\n",
    "                },\n",
    "                'value': 0\n",
    "            },\n",
    "            {\n",
    "                'option_text': {\n",
    "                    '@language': 'en-UK',\n",
    "                    '@value': 'not immediately, but within a week'\n",
    "                },\n",
    "                'value': 1\n",
    "            },\n",
    "            {\n",
    "                'option_text': {\n",
    "                    '@language': 'en-UK',\n",
    "                    '@value': 'not within a week, but eventually'\n",
    "                },\n",
    "                'value': 2\n",
    "            },\n",
    "            {\n",
    "                'option_text': {\n",
    "                    '@language': 'en-UK',\n",
    "                    '@value': 'never'\n",
    "                },\n",
    "                'value': None\n",
    "            }\n",
    "        ],\n",
    "        'schema:name': {\n",
    "            '@language': 'en-UK',\n",
    "            '@value': screen_short\n",
    "        }\n",
    "}\n",
    "screens_ids.append(\n",
    "    girder_connection.post(\n",
    "        \"&\".join([\n",
    "            \"item?name={}\".format(\n",
    "                screen_name\n",
    "            ),\n",
    "            \"folderId={}\".format(activity_version_id),\n",
    "            \"reuseExisting=true\",\n",
    "            \"metadata={}\".format(\n",
    "                quote(\n",
    "                    json.dumps(\n",
    "                        meta\n",
    "                    )\n",
    "                )\n",
    "            )\n",
    "        ])\n",
    "    )[\"_id\"] # create a Screen in the Activity Version Folder; store the _id to a variable\n",
    ")\n",
    "screen_short = \"gg_effects_of_venom\"\n",
    "screen_long = \"What were the effects of the venom?\"\n",
    "screen_name = \": \".join([\n",
    "    screen_short,\n",
    "    screen_long\n",
    "])\n",
    "meta = {\n",
    "    '@context': {\n",
    "        '@base': 'http://localhost:8080/api/v1/',\n",
    "        'devices': 'http://www.w3id.org/abdn/irp/devices/',\n",
    "        'nidm': 'http://nidm.nidash.org/specs/nidm-experiment.html#',\n",
    "        'oslc': 'http://open-services.net/ns/core#',\n",
    "        'pav': 'http://purl.org/pav/',\n",
    "        'pav:lastUpdatedOn': {'@type': 'xsd:dateTime'},\n",
    "        'schema': 'http://schema.org/',\n",
    "        'schema:description': {'@type': 'xsd:string'},\n",
    "        'schema:name': {'@type': 'xsd:string'},\n",
    "        'xsd': 'http://www.w3.org/2001/XMLSchema'\n",
    "    },\n",
    "        'question_text': {\n",
    "            '@language': 'en-US',\n",
    "            '@value': screen_long\n",
    "        },\n",
    "        'response_type': 'text',\n",
    "        'schema:name': {\n",
    "            '@language': 'en-UK',\n",
    "            '@value': screen_short\n",
    "        }\n",
    "}\n",
    "screens_ids.append(\n",
    "    girder_connection.post(\n",
    "        \"&\".join([\n",
    "            \"item?name={}\".format(\n",
    "                screen_name\n",
    "            ),\n",
    "            \"folderId={}\".format(activity_version_id),\n",
    "            \"reuseExisting=true\",\n",
    "            \"metadata={}\".format(\n",
    "                quote(\n",
    "                    json.dumps(\n",
    "                        meta\n",
    "                    )\n",
    "                )\n",
    "            )\n",
    "        ])\n",
    "    )[\"_id\"] # create a Screen in the Activity Version Folder; store the _id to a variable\n",
    ")"
   ]
  },
  {
   "cell_type": "markdown",
   "metadata": {},
   "source": [
    "## Create default sequence"
   ]
  },
  {
   "cell_type": "code",
   "execution_count": null,
   "metadata": {},
   "outputs": [],
   "source": [
    "meta = girder_connection.get(\n",
    "    \"folder/{}\".format(activity_version_id)\n",
    ")[\"meta\"]\n",
    "\n",
    "meta[\"screens\"] = [\n",
    "    {\n",
    "        \"@id\": \"item/{}\".format(screens_ids[0])\n",
    "    }\n",
    "]\n",
    "\n",
    "girder_connection.put(\n",
    "    \"?\".join([\n",
    "        \"folder/{}\".format(activity_version_id),\n",
    "        \"metadata={}\".format(\n",
    "            quote(\n",
    "                json.dumps(\n",
    "                    meta\n",
    "                )\n",
    "            )\n",
    "        )\n",
    "    ])\n",
    ")"
   ]
  },
  {
   "cell_type": "markdown",
   "metadata": {},
   "source": [
    "## Add conditional logic to first screen"
   ]
  },
  {
   "cell_type": "code",
   "execution_count": null,
   "metadata": {},
   "outputs": [],
   "source": [
    "meta = girder_connection.get(\n",
    "    \"item/{}\".format(screens_ids[0])\n",
    ")[\"meta\"]\n",
    "meta['options'] = [\n",
    "    *[\n",
    "        {\n",
    "            **option,\n",
    "            'next_screen': {\n",
    "                \"@id\": \"item/{}\".format(\n",
    "                    screens_ids[1]\n",
    "                )\n",
    "            }\n",
    "        } for option in meta['options'] if option['value'] is not None\n",
    "    ],\n",
    "    *[\n",
    "        option for option in meta['options'] if option['value'] is None\n",
    "    ]\n",
    "]\n",
    "\n",
    "girder_connection.put(\n",
    "    \"?\".join([\n",
    "        \"item/{}\".format(screens_ids[0]),\n",
    "        \"metadata={}\".format(\n",
    "            quote(\n",
    "                json.dumps(\n",
    "                    meta\n",
    "                )\n",
    "            )\n",
    "        )\n",
    "    ])\n",
    ")"
   ]
  },
  {
   "cell_type": "code",
   "execution_count": null,
   "metadata": {},
   "outputs": [],
   "source": []
  }
 ],
 "metadata": {
  "kernelspec": {
   "display_name": "Python 3",
   "language": "python",
   "name": "python3"
  },
  "language_info": {
   "codemirror_mode": {
    "name": "ipython",
    "version": 3
   },
   "file_extension": ".py",
   "mimetype": "text/x-python",
   "name": "python",
   "nbconvert_exporter": "python",
   "pygments_lexer": "ipython3",
   "version": "3.6.5"
  }
 },
 "nbformat": 4,
 "nbformat_minor": 2
}
