{
 "cells": [
  {
   "cell_type": "markdown",
   "metadata": {},
   "source": [
    "# Load libraries & config"
   ]
  },
  {
   "cell_type": "code",
   "execution_count": 38,
   "metadata": {},
   "outputs": [],
   "source": [
    "from datetime import date, datetime\n",
    "import girder_client as gc\n",
    "import json\n",
    "import os\n",
    "from urllib.parse import quote\n",
    "import random\n",
    "import re\n",
    "import string\n",
    "import tzlocal\n",
    "from urllib.request import urlopen\n",
    "\n",
    "\n",
    "with open(\"config.json\", \"r\") as fp:\n",
    "    config=json.load(fp)"
   ]
  },
  {
   "cell_type": "markdown",
   "metadata": {},
   "source": [
    "# Connect to Girder"
   ]
  },
  {
   "cell_type": "code",
   "execution_count": 2,
   "metadata": {},
   "outputs": [],
   "source": [
    "girder_connection = gc.GirderClient(\n",
    "    apiUrl=\"http://{}/api/v1/\".format(\n",
    "        config[\"girder-dev\"][\"host\"]\n",
    "    )\n",
    ")\n",
    "girder_connection.authenticate(\n",
    "    username=config[\"girder-dev\"][\"user\"],\n",
    "    password=config[\"girder-dev\"][\"password\"]\n",
    ")"
   ]
  },
  {
   "cell_type": "markdown",
   "metadata": {},
   "source": [
    "# Create a User"
   ]
  },
  {
   "cell_type": "code",
   "execution_count": 10,
   "metadata": {},
   "outputs": [
    {
     "data": {
      "text/plain": [
       "{'message': 'Sent temporary access email.'}"
      ]
     },
     "execution_count": 10,
     "metadata": {},
     "output_type": "execute_result"
    }
   ],
   "source": [
    "email = \"gilderoy_lockhart@hogwarts.edu\"\n",
    "girder_connection.post(\n",
    "    \"&\".join([\n",
    "        \"user?login={}\".format(\"Gilderoy.Lockhart\"),\n",
    "        \"email={}\".format(email),\n",
    "        \"firstName={}\".format(\"Gilderoy\"),\n",
    "        \"lastName={}\".format(\"Lockhart\"),\n",
    "        \"password='{}'\".format(\n",
    "            \"\".join(\n",
    "                random.sample(\n",
    "                    string.printable,\n",
    "                    28\n",
    "                )\n",
    "            )\n",
    "        ), # random password\n",
    "        \"admin=false\"\n",
    "    ])\n",
    ") # create new user\n",
    "girder_connection.put(\n",
    "    \"user/password/temporary?email={}\".format(\n",
    "        email\n",
    "    )\n",
    ") # send temporary password"
   ]
  },
  {
   "cell_type": "markdown",
   "metadata": {},
   "source": [
    "## Assign a role"
   ]
  },
  {
   "cell_type": "code",
   "execution_count": 11,
   "metadata": {},
   "outputs": [
    {
     "data": {
      "text/plain": [
       "{'_accessLevel': 2,\n",
       " '_id': '5b2d38bcad97092bdb530b2e',\n",
       " '_modelType': 'group',\n",
       " 'access': {'groups': [],\n",
       "  'users': [{'flags': [],\n",
       "    'id': '5b1830ddad97092bdb8e99d1',\n",
       "    'level': 2,\n",
       "    'login': 'jon.clucas',\n",
       "    'name': 'Jon Clucas'},\n",
       "   {'flags': [],\n",
       "    'id': '5b59f001ad97094c99a10c44',\n",
       "    'level': 1,\n",
       "    'login': 'erik2attest.com',\n",
       "    'name': 'Erik P'},\n",
       "   {'flags': [],\n",
       "    'id': '5b59f001ad97094c99a10c45',\n",
       "    'level': 2,\n",
       "    'login': 'adminatmindlogger.org',\n",
       "    'name': 'Super Admin'}]},\n",
       " 'addAllowed': 'default',\n",
       " 'created': '2018-06-22T17:58:20.265000+00:00',\n",
       " 'description': '',\n",
       " 'name': 'Users',\n",
       " 'public': False,\n",
       " 'requests': [{'id': '5b1830ddad97092bdb8e99d1',\n",
       "   'login': 'jon.clucas',\n",
       "   'name': 'Jon Clucas'}],\n",
       " 'updated': '2018-06-27T15:05:00.216000+00:00'}"
      ]
     },
     "execution_count": 11,
     "metadata": {},
     "output_type": "execute_result"
    }
   ],
   "source": [
    "role = \"Users\"\n",
    "groups = girder_connection.get(\n",
    "    \"group\"\n",
    ") # get all groups\n",
    "role_id = [\n",
    "    group for group in groups if group['name']==role\n",
    "][0][\"_id\"] # get Girder_id for \"Viewers\" group\n",
    "users = girder_connection.get(\"user\")\n",
    "user_id = [\n",
    "    user for user in users if user['email']==email\n",
    "][0][\"_id\"] # get Girder_id for user\n",
    "girder_connection.post(\n",
    "    \"\".join([\n",
    "        \"group/{}\".format(role_id),\n",
    "        \"/invitation?userId={}\".format(user_id),\n",
    "        \"&quiet=true&force=true\"\n",
    "    ])\n",
    ")"
   ]
  },
  {
   "cell_type": "markdown",
   "metadata": {},
   "source": [
    "# Create a Volume\n",
    "## Give the Volume a name"
   ]
  },
  {
   "cell_type": "code",
   "execution_count": 4,
   "metadata": {},
   "outputs": [],
   "source": [
    "volume_name = \"Defense Against the Dark Arts\""
   ]
  },
  {
   "cell_type": "markdown",
   "metadata": {},
   "source": [
    "## Create Volume"
   ]
  },
  {
   "cell_type": "code",
   "execution_count": 5,
   "metadata": {},
   "outputs": [],
   "source": [
    "volumes_id = girder_connection.get(\n",
    "    \"collection?text=Volumes\"\n",
    ")[0][\"_id\"]\n",
    "volume_id = girder_connection.post(\n",
    "    \"&\".join([\n",
    "        \"folder?name={}\".format(volume_name),\n",
    "        \"parentId={}\".format(volumes_id),\n",
    "        \"parentType=collection\",\n",
    "        \"reuseExisting=true\"\n",
    "    ])\n",
    ")[\"_id\"]"
   ]
  },
  {
   "cell_type": "markdown",
   "metadata": {},
   "source": [
    "## Update Volume: {'status': 'inactive'}"
   ]
  },
  {
   "cell_type": "code",
   "execution_count": 6,
   "metadata": {},
   "outputs": [
    {
     "data": {
      "text/plain": [
       "{'_accessLevel': 2,\n",
       " '_id': '5b60bb42ad970944b05d8bb3',\n",
       " '_modelType': 'folder',\n",
       " 'baseParentId': '5b59f02ead97094c99a1100d',\n",
       " 'baseParentType': 'collection',\n",
       " 'created': '2018-07-31T19:40:50.787000+00:00',\n",
       " 'creatorId': '5b1830ddad97092bdb8e99d1',\n",
       " 'description': '',\n",
       " 'meta': {'status': 'inactive'},\n",
       " 'name': 'Defense Against the Dark Arts',\n",
       " 'parentCollection': 'collection',\n",
       " 'parentId': '5b59f02ead97094c99a1100d',\n",
       " 'public': False,\n",
       " 'size': 0,\n",
       " 'updated': '2018-07-31T19:40:52.900322+00:00'}"
      ]
     },
     "execution_count": 6,
     "metadata": {},
     "output_type": "execute_result"
    }
   ],
   "source": [
    "girder_connection.put(\n",
    "    \"folder/{}\".format(\n",
    "        girder_connection.get(\n",
    "            \"&\".join([\n",
    "                \"folder?parentType=collection\",\n",
    "                \"parentId={}\".format(volumes_id),\n",
    "                \"text={}\".format(volume_name)\n",
    "            ])\n",
    "        )[0][\"_id\"]\n",
    "    ),\n",
    "    parameters={\n",
    "        \"metadata\": json.dumps(\n",
    "            {'status': 'inactive'}\n",
    "        )\n",
    "    }\n",
    ") # make volume's status inactive"
   ]
  },
  {
   "cell_type": "markdown",
   "metadata": {},
   "source": [
    "# Create Activity\n",
    "## Name Activity"
   ]
  },
  {
   "cell_type": "code",
   "execution_count": 7,
   "metadata": {},
   "outputs": [],
   "source": [
    "activity_name = \"Gadding with Ghouls\""
   ]
  },
  {
   "cell_type": "markdown",
   "metadata": {},
   "source": [
    "## Create Activity"
   ]
  },
  {
   "cell_type": "code",
   "execution_count": 12,
   "metadata": {},
   "outputs": [],
   "source": [
    "activities_id = girder_connection.post(\n",
    "    \"&\".join([\n",
    "        \"folder?name=Activities\",\n",
    "        \"parentId={}\".format(volume_id),\n",
    "        \"parentType=folder\",\n",
    "        \"reuseExisting=true\"\n",
    "    ])\n",
    ")[\"_id\"] # create or find the Activities Folder in the relevant Volume; store the _id to a variable\n",
    "\n",
    "activity_id = girder_connection.post(\n",
    "    \"&\".join([\n",
    "        \"folder?name={}\".format(activity_name),\n",
    "        \"parentId={}\".format(activities_id),\n",
    "        \"parentType=folder\",\n",
    "        \"reuseExisting=true\"\n",
    "    ])\n",
    ")[\"_id\"] # create or find the Activity Folder in the relevant Volume.Activities; store the _id to a variable\n",
    "\n",
    "activity_version_id = girder_connection.post(\n",
    "    \"&\".join([\n",
    "        \"folder?name={}\".format(\n",
    "            \"{} ({})\".format(\n",
    "                activity_name,\n",
    "                date.today().strftime(\"%F\")\n",
    "            )\n",
    "        ),\n",
    "        \"parentId={}\".format(activity_id),\n",
    "        \"parentType=folder\",\n",
    "        \"reuseExisting=true\",\n",
    "        \"metadata={}\".format(\n",
    "            quote(\n",
    "                json.dumps(\n",
    "                    {\n",
    "                        \"@context\": {\n",
    "                            \"@base\": \"http://localhost:8080/api/v1/\",\n",
    "                            \"devices\": \"http://www.w3id.org/abdn/irp/devices/\",\n",
    "                            \"nidm\": \"http://nidm.nidash.org/specs/nidm-experiment.html#\",\n",
    "                            \"oslc\": \"http://open-services.net/ns/core#\",\n",
    "                            \"pav\": \"http://purl.org/pav/\",\n",
    "                            \"pav:lastUpdatedOn\": {\n",
    "                                \"@type\": \"xsd:dateTime\"\n",
    "                            },\n",
    "                            \"schema\": \"http://schema.org/\",\n",
    "                            \"schema:description\": {\n",
    "                                \"@type\": \"xsd:string\"\n",
    "                            },\n",
    "                            \"schema:name\": {\n",
    "                                \"@type\": \"xsd:string\"\n",
    "                            },\n",
    "                            \"xsd\": \"http://www.w3.org/2001/XMLSchema\"\n",
    "                        },\n",
    "                        \"oslc:modifiedBy\": [\n",
    "                            {\n",
    "                                \"@id\": \"user/{}\".format(\n",
    "                                    girder_connection.get(\n",
    "                                        \"user/me\"\n",
    "                                    )[\"_id\"]\n",
    "                                )\n",
    "                            },\n",
    "                            {\n",
    "                                \"@id\": \"user/{}\".format(\n",
    "                                    user_id\n",
    "                                )\n",
    "                            }\n",
    "                        ],\n",
    "                        \"pav:createdBy\": [\n",
    "                            {\n",
    "                                \"@id\": \"user/{}\".format(\n",
    "                                    user_id\n",
    "                                )\n",
    "                            }\n",
    "                        ],\n",
    "                        \"pav:lastUpdatedOn\": datetime.now(\n",
    "                            tzlocal.get_localzone()\n",
    "                        ).strftime(\"%FT%T.%f%z\"),\n",
    "                        \"schema:name\": {\n",
    "                            \"@language\": \"en-US\",\n",
    "                            \"@value\": activity_name\n",
    "                        }\n",
    "                    }\n",
    "                )\n",
    "            )\n",
    "        )\n",
    "    ])\n",
    ")[\"_id\"] # create a version Item of the Activity in the Activity Folder; store the _id to a variable"
   ]
  },
  {
   "cell_type": "markdown",
   "metadata": {},
   "source": [
    "## add Image to Activity Version\n",
    "### define Image source"
   ]
  },
  {
   "cell_type": "code",
   "execution_count": 59,
   "metadata": {},
   "outputs": [],
   "source": [
    "image_stream = urlopen(\"https://vignette.wikia.nocookie.net/harrypotter/images/0/03/GaddingWithGhouls.png\")"
   ]
  },
  {
   "cell_type": "markdown",
   "metadata": {},
   "source": [
    "### upload Image to \"Images\" Item"
   ]
  },
  {
   "cell_type": "code",
   "execution_count": 61,
   "metadata": {},
   "outputs": [],
   "source": [
    "new_name = re.search('\"(.+?)\"', image_stream.info()[\"Content-Disposition\"]).group(1).split(\".\")[0]\n",
    "img_id = girder_connection.uploadFile(\n",
    "    parentId=girder_connection.post(\n",
    "        \"&\".join([\n",
    "            \"item?folderId={}\".format(activity_version_id),\n",
    "            \"name=Images\",\n",
    "            \"reuseExisting=true\"\n",
    "        ])\n",
    "    )[\"_id\"],\n",
    "    parentType=\"item\",\n",
    "    stream=image_stream,\n",
    "    name=\".\".join([\n",
    "        new_name,\n",
    "        image_stream.info()[\"Content-Type\"].split(\"/\")[-1]\n",
    "    ]), # name to save the File as in Mindlogger, including extension\n",
    "    size=int(\n",
    "        image_stream.info()[\"Content-Length\"]\n",
    "    ) # size of the File in bytes\n",
    ")[\"_id\"]"
   ]
  },
  {
   "cell_type": "markdown",
   "metadata": {},
   "source": [
    "### upload Image to Item"
   ]
  },
  {
   "cell_type": "code",
   "execution_count": 35,
   "metadata": {},
   "outputs": [],
   "source": [
    "cover_id = girder_connection.post(\n",
    "    \"&\".join([\n",
    "        \"item?folderId={}\".format(activity_version_id),\n",
    "        \"name={}\".format(\"{} cover\".format(activity_name))\n",
    "    ])\n",
    ")[\"_id\"]\n",
    "\n",
    "img_id = girder_connection.uploadFile(\n",
    "    parentId=cover_id, \n",
    "    parentType=\"item\",\n",
    "    stream=image_stream,\n",
    "    name=\".\".join([\n",
    "        activity_name,\n",
    "        image_stream.info()[\"Content-Type\"].split(\"/\")[-1]\n",
    "    ]), # name to save the File as in Mindlogger, including extension\n",
    "    size=int(\n",
    "        image_stream.info()[\"Content-Length\"]\n",
    "    ) # size of the File in bytes\n",
    ")[\"_id\"]"
   ]
  },
  {
   "cell_type": "code",
   "execution_count": 39,
   "metadata": {},
   "outputs": [
    {
     "data": {
      "image/png": "[encoded data removed]",
      "text/plain": [
       "<IPython.core.display.Image object>"
      ]
     },
     "execution_count": 39,
     "metadata": {},
     "output_type": "execute_result"
    }
   ],
   "source": [
    "from IPython.display import Image\n",
    "\n",
    "activity_version_id = girder_connection.get(\n",
    "    \"&\".join([\n",
    "        \"folder?parentId={}\".format(\n",
    "            activity_id\n",
    "        ),\n",
    "        \"parentType=folder\"\n",
    "    ])\n",
    ")[0][\"_id\"]\n",
    "screen_id = girder_connection.get(\n",
    "    \"item?folderId={}\".format(activity_version_id)\n",
    ")[0][\"_id\"] # get Activity's first Screen's _id\n",
    "girder_connection.downloadFile(\n",
    "    fileId=girder_connection.get(\n",
    "        \"item/{}/files\".format(screen_id)\n",
    "    )[0][\"_id\"],\n",
    "    path=os.path.join(\n",
    "        os.getcwd(),\n",
    "        girder_connection.get(\n",
    "            \"item/{}/files\".format(screen_id)\n",
    "        )[0][\"name\"]\n",
    "    )\n",
    ") # download the Image\n",
    "Image(\n",
    "    filename=os.path.join(\n",
    "        os.getcwd(),\n",
    "        girder_connection.get(\n",
    "            \"item/{}/files\".format(screen_id)\n",
    "        )[0][\"name\"]\n",
    "    )\n",
    ") # display the Image"
   ]
  },
  {
   "cell_type": "markdown",
   "metadata": {},
   "source": [
    "# create Screens"
   ]
  },
  {
   "cell_type": "markdown",
   "metadata": {},
   "source": [
    "## select Activity to house Screens under"
   ]
  },
  {
   "cell_type": "code",
   "execution_count": null,
   "metadata": {},
   "outputs": [],
   "source": [
    "activity_id = girder_connection.post(\n",
    "    \"&\".join([\n",
    "        \"folder?name={}\".format(activity_name),\n",
    "        \"parentId={}\".format(activities_id),\n",
    "        \"parentType=folder\",\n",
    "        \"reuseExisting=true\"\n",
    "    ])\n",
    ")[\"_id\"] # create or find the Activity Folder in the relevant Volume.Activities; store the _id to a variable\n",
    "\n",
    "activity_version_id = girder_connection.get(\n",
    "    \"&\".join([\n",
    "        \"folder?parentType=folder\",\n",
    "        \"parentId={}\".format(activity_id),\n",
    "        \"sort=updated\",\n",
    "        \"sortdir=-1\"\n",
    "    ])\n",
    ")[0][\"_id\"] # get newest version"
   ]
  },
  {
   "cell_type": "markdown",
   "metadata": {},
   "source": [
    "## create 2 screens, the second depending on the first not being \"never\""
   ]
  },
  {
   "cell_type": "code",
   "execution_count": null,
   "metadata": {},
   "outputs": [],
   "source": [
    "screens_ids = []\n",
    "screen_short = \"gg_effects_delay_venom\"\n",
    "screen_long = \"How long until you feel the effects of slow-moving venom?\"\n",
    "screen_name = \": \".join([\n",
    "    screen_short,\n",
    "    screen_long\n",
    "])\n",
    "meta = {\n",
    "    '@context': {\n",
    "        '@base': 'http://localhost:8080/api/v1/',\n",
    "        'devices': 'http://www.w3id.org/abdn/irp/devices/',\n",
    "        'nidm': 'http://nidm.nidash.org/specs/nidm-experiment.html#',\n",
    "        'oslc': 'http://open-services.net/ns/core#',\n",
    "        'pav': 'http://purl.org/pav/',\n",
    "        'pav:lastUpdatedOn': {'@type': 'xsd:dateTime'},\n",
    "        'schema': 'http://schema.org/',\n",
    "        'schema:description': {'@type': 'xsd:string'},\n",
    "        'schema:name': {'@type': 'xsd:string'},\n",
    "        'xsd': 'http://www.w3.org/2001/XMLSchema'\n",
    "    },\n",
    "        'question_text': {\n",
    "            '@language': 'en-US',\n",
    "            '@value': screen_long\n",
    "        },\n",
    "        'response_type': 'single_sel',\n",
    "        'options': [\n",
    "            {\n",
    "                'option_text': {\n",
    "                    '@language': 'en-UK',\n",
    "                    '@value': 'immediately'\n",
    "                },\n",
    "                'value': 0\n",
    "            },\n",
    "            {\n",
    "                'option_text': {\n",
    "                    '@language': 'en-UK',\n",
    "                    '@value': 'not immediately, but within a week'\n",
    "                },\n",
    "                'value': 1\n",
    "            },\n",
    "            {\n",
    "                'option_text': {\n",
    "                    '@language': 'en-UK',\n",
    "                    '@value': 'not within a week, but eventually'\n",
    "                },\n",
    "                'value': 2\n",
    "            },\n",
    "            {\n",
    "                'option_text': {\n",
    "                    '@language': 'en-UK',\n",
    "                    '@value': 'never'\n",
    "                },\n",
    "                'value': None\n",
    "            }\n",
    "        ],\n",
    "        'schema:name': {\n",
    "            '@language': 'en-UK',\n",
    "            '@value': screen_short\n",
    "        }\n",
    "}\n",
    "screens_ids.append(\n",
    "    girder_connection.post(\n",
    "        \"&\".join([\n",
    "            \"item?name={}\".format(\n",
    "                screen_name\n",
    "            ),\n",
    "            \"folderId={}\".format(activity_version_id),\n",
    "            \"reuseExisting=true\",\n",
    "            \"metadata={}\".format(\n",
    "                quote(\n",
    "                    json.dumps(\n",
    "                        meta\n",
    "                    )\n",
    "                )\n",
    "            )\n",
    "        ])\n",
    "    )[\"_id\"] # create a Screen in the Activity Version Folder; store the _id to a variable\n",
    ")\n",
    "screen_short = \"gg_effects_of_venom\"\n",
    "screen_long = \"What were the effects of the venom?\"\n",
    "screen_name = \": \".join([\n",
    "    screen_short,\n",
    "    screen_long\n",
    "])\n",
    "meta = {\n",
    "    '@context': {\n",
    "        '@base': 'http://localhost:8080/api/v1/',\n",
    "        'devices': 'http://www.w3id.org/abdn/irp/devices/',\n",
    "        'nidm': 'http://nidm.nidash.org/specs/nidm-experiment.html#',\n",
    "        'oslc': 'http://open-services.net/ns/core#',\n",
    "        'pav': 'http://purl.org/pav/',\n",
    "        'pav:lastUpdatedOn': {'@type': 'xsd:dateTime'},\n",
    "        'schema': 'http://schema.org/',\n",
    "        'schema:description': {'@type': 'xsd:string'},\n",
    "        'schema:name': {'@type': 'xsd:string'},\n",
    "        'xsd': 'http://www.w3.org/2001/XMLSchema'\n",
    "    },\n",
    "        'question_text': {\n",
    "            '@language': 'en-US',\n",
    "            '@value': screen_long\n",
    "        },\n",
    "        'response_type': 'text',\n",
    "        'schema:name': {\n",
    "            '@language': 'en-UK',\n",
    "            '@value': screen_short\n",
    "        }\n",
    "}\n",
    "screens_ids.append(\n",
    "    girder_connection.post(\n",
    "        \"&\".join([\n",
    "            \"item?name={}\".format(\n",
    "                screen_name\n",
    "            ),\n",
    "            \"folderId={}\".format(activity_version_id),\n",
    "            \"reuseExisting=true\",\n",
    "            \"metadata={}\".format(\n",
    "                quote(\n",
    "                    json.dumps(\n",
    "                        meta\n",
    "                    )\n",
    "                )\n",
    "            )\n",
    "        ])\n",
    "    )[\"_id\"] # create a Screen in the Activity Version Folder; store the _id to a variable\n",
    ")"
   ]
  },
  {
   "cell_type": "markdown",
   "metadata": {},
   "source": [
    "## Create default sequence"
   ]
  },
  {
   "cell_type": "code",
   "execution_count": null,
   "metadata": {},
   "outputs": [],
   "source": [
    "meta = girder_connection.get(\n",
    "    \"folder/{}\".format(activity_version_id)\n",
    ")[\"meta\"]\n",
    "\n",
    "meta[\"screens\"] = [\n",
    "    {\n",
    "        \"@id\": \"item/{}\".format(screens_ids[0])\n",
    "    }\n",
    "]\n",
    "\n",
    "girder_connection.put(\n",
    "    \"?\".join([\n",
    "        \"folder/{}\".format(activity_version_id),\n",
    "        \"metadata={}\".format(\n",
    "            quote(\n",
    "                json.dumps(\n",
    "                    meta\n",
    "                )\n",
    "            )\n",
    "        )\n",
    "    ])\n",
    ")"
   ]
  },
  {
   "cell_type": "markdown",
   "metadata": {},
   "source": [
    "## Add conditional logic to first screen"
   ]
  },
  {
   "cell_type": "code",
   "execution_count": null,
   "metadata": {},
   "outputs": [],
   "source": [
    "meta = girder_connection.get(\n",
    "    \"item/{}\".format(screens_ids[0])\n",
    ")[\"meta\"]\n",
    "meta['options'] = [\n",
    "    *[\n",
    "        {\n",
    "            **option,\n",
    "            'next_screen': {\n",
    "                \"@id\": \"item/{}\".format(\n",
    "                    screens_ids[1]\n",
    "                )\n",
    "            }\n",
    "        } for option in meta['options'] if option['value'] is not None\n",
    "    ],\n",
    "    *[\n",
    "        option for option in meta['options'] if option['value'] is None\n",
    "    ]\n",
    "]\n",
    "\n",
    "girder_connection.put(\n",
    "    \"?\".join([\n",
    "        \"item/{}\".format(screens_ids[0]),\n",
    "        \"metadata={}\".format(\n",
    "            quote(\n",
    "                json.dumps(\n",
    "                    meta\n",
    "                )\n",
    "            )\n",
    "        )\n",
    "    ])\n",
    ")"
   ]
  },
  {
   "cell_type": "code",
   "execution_count": null,
   "metadata": {},
   "outputs": [],
   "source": []
  }
 ],
 "metadata": {
  "kernelspec": {
   "display_name": "Python 3",
   "language": "python",
   "name": "python3"
  },
  "language_info": {
   "codemirror_mode": {
    "name": "ipython",
    "version": 3
   },
   "file_extension": ".py",
   "mimetype": "text/x-python",
   "name": "python",
   "nbconvert_exporter": "python",
   "pygments_lexer": "ipython3",
   "version": "3.6.5"
  }
 },
 "nbformat": 4,
 "nbformat_minor": 2
}
