{
 "cells": [
  {
   "cell_type": "code",
   "execution_count": null,
   "metadata": {},
   "outputs": [],
   "source": [
    "!pip install -r requirements.txt --no-warn-conflicts --progress-bar emoji"
   ]
  },
  {
   "cell_type": "code",
   "execution_count": 1,
   "metadata": {},
   "outputs": [],
   "source": [
    "%load_ext autoreload\n",
    "%autoreload 2"
   ]
  },
  {
   "cell_type": "code",
   "execution_count": 2,
   "metadata": {},
   "outputs": [],
   "source": [
    "__package__ = \"mindlogger_backend_dev.postgres_to_girder.port\"\n",
    "import girder_client\n",
    "import json\n",
    "import os\n",
    "import pandas as pd\n",
    "import psycopg2\n",
    "import postgres_to_girder\n",
    "from ... import update_schema\n",
    "import urllib\n",
    "from datetime import date"
   ]
  },
  {
   "cell_type": "code",
   "execution_count": 5,
   "metadata": {},
   "outputs": [
    {
     "name": "stdout",
     "output_type": "stream",
     "text": [
      "Connected to the Girder database 🏗🍃 and authenticated.\n",
      "Connected to the Postgres database 🐘\n",
      "Connected to the Girder database 🏗🍃 and authenticated.\n"
     ]
    }
   ],
   "source": [
    "activities_id, \\\n",
    "activities, \\\n",
    "config, \\\n",
    "context, \\\n",
    "girder_connection, \\\n",
    "postgres_connection, \\\n",
    "groups, \\\n",
    "postgres_tables, \\\n",
    "users = postgres_to_girder._main(delete_first=True, keep_users=[\"5b1830ddad97092bdb8e99d1\"])\n",
    "%run -i \"../../.circleci/girder_test_user.py\""
   ]
  },
  {
   "cell_type": "code",
   "execution_count": null,
   "metadata": {},
   "outputs": [],
   "source": [
    "activities_id, \\\n",
    "activities, \\\n",
    "config, \\\n",
    "context, \\\n",
    "girder_connection, \\\n",
    "postgres_connection, \\\n",
    "groups, \\\n",
    "postgres_tables, \\\n",
    "users = postgres_to_girder._main(delete_first=True, which_girder=\"production\", keep_users=[\"5b4ca32338488311497dc9bc\", \"5b4e1f1f8f5b186be929676d\"])"
   ]
  },
  {
   "cell_type": "code",
   "execution_count": null,
   "metadata": {},
   "outputs": [],
   "source": [
    "postgres_tables[\"acts\"].loc[5]"
   ]
  },
  {
   "cell_type": "code",
   "execution_count": null,
   "metadata": {},
   "outputs": [],
   "source": [
    "[t for t in postgres_tables]"
   ]
  },
  {
   "cell_type": "code",
   "execution_count": null,
   "metadata": {},
   "outputs": [],
   "source": [
    "postgres_tables[\"acts\"].loc[25, \"act_data\"]"
   ]
  },
  {
   "cell_type": "code",
   "execution_count": null,
   "metadata": {},
   "outputs": [],
   "source": [
    "a = pd.Series({\"c\": 1, \"act_data\":'{\"questions\":[{\"title\":\"How did the children behave when given toys?\",\"rows_count\":5,\"cols_count\":4,\"rows\":[{\"text\":\"Harold\"},{\"text\":\"Elizabeth\"},{\"text\":\"Mike\"},{\"text\":\"Arno\"},{\"text\":\"Jasmine\"}],\"cols\":[{\"text\":\"Share\"},{\"text\":\"Steal\"},{\"text\":\"Hoard\"},{\"text\":\"Violent\"}],\"type\":\"number\"},{\"title\":\"Which image do you like best?\",\"rows_count\":5,\"cols_count\":3,\"rows\":[{\"text\":\"Harold\"},{\"text\":\"Elizabeth\"},{\"text\":\"Mike\"},{\"text\":\"Arno\"},{\"text\":\"Jasmine\"}],\"cols\":[{\"text\":\"\",\"image_url\":\"https://firebasestorage.googleapis.com/v0/b/dataapp-3b8c4.appspot.com/o/images%2F1511319406548ahh-blue-merle-chihuahua--i-think-i-am-in-love-wallpaper-cuteimages.net.jpg?alt=media&token=6c5cb3cf-73f2-47e4-9578-0276bdf2541a\"},{\"image_url\":\"https://firebasestorage.googleapis.com/v0/b/dataapp-3b8c4.appspot.com/o/images%2F1511319425662Ig7IKQ9Q_400x400.jpg?alt=media&token=4b11a967-86c8-42b8-96f5-474073a3d4a0\"},{\"image_url\":\"https://firebasestorage.googleapis.com/v0/b/dataapp-3b8c4.appspot.com/o/images%2F1512069637555Screenshot%20from%202017-04-27%2010-38-05.png?alt=media&token=b8ab5bb5-03c2-4f79-9081-c352d8f8f9a3\"}],\"type\":\"image_sel\"}],\"answers\":[],\"frequency\":\"1d\",\"instruction\":\"Please respond to the following questions.\",\"accordion\":true,\"mode\":\"table\"}'})"
   ]
  },
  {
   "cell_type": "code",
   "execution_count": null,
   "metadata": {},
   "outputs": [],
   "source": [
    "list(a.index)"
   ]
  },
  {
   "cell_type": "code",
   "execution_count": null,
   "metadata": {},
   "outputs": [],
   "source": [
    "postgres_to_girder.table_cells_from_postgres(\n",
    "    [{\"text\":\"Harold\"},{\"text\":\"Elizabeth\"},{\"text\":\"Mike\"},{\"text\":\"Arno\"},{\"text\":\"Jasmine\"}],\n",
    "    [{\"text\":\"Share\"},{\"text\":\"Steal\"},{\"text\":\"Hoard\"},{\"text\":\"Violent\"}],\n",
    "    \"number\"\n",
    ")"
   ]
  },
  {
   "cell_type": "code",
   "execution_count": null,
   "metadata": {},
   "outputs": [],
   "source": [
    "range()"
   ]
  }
 ],
 "metadata": {
  "kernelspec": {
   "display_name": "Python 3",
   "language": "python",
   "name": "python3"
  },
  "language_info": {
   "codemirror_mode": {
    "name": "ipython",
    "version": 3
   },
   "file_extension": ".py",
   "mimetype": "text/x-python",
   "name": "python",
   "nbconvert_exporter": "python",
   "pygments_lexer": "ipython3",
   "version": "3.6.5"
  }
 },
 "nbformat": 4,
 "nbformat_minor": 2
}
