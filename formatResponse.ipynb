{
 "cells": [
  {
   "cell_type": "code",
   "execution_count": 1,
   "metadata": {},
   "outputs": [],
   "source": [
    "import girderformindlogger\n",
    "import girder_client as gc\n",
    "import pandas as pd\n",
    "from girderformindlogger.utility.response import isodatetime"
   ]
  },
  {
   "cell_type": "code",
   "execution_count": 3,
   "metadata": {},
   "outputs": [],
   "source": [
    "girder = gc.GirderClient(host=\"f9e93620.ngrok.io\")\n",
    "girder.authenticate(interactive=True)"
   ]
  },
  {
   "cell_type": "code",
   "execution_count": 4,
   "metadata": {},
   "outputs": [],
   "source": [
    "resp = girder.get('response?applet=5d77efd759778104363c0ede')"
   ]
  },
  {
   "cell_type": "code",
   "execution_count": 5,
   "metadata": {},
   "outputs": [
    {
     "data": {
      "text/plain": [
       "{'_id': '5d77f23a9fb5ac6e97bdc7f8',\n",
       " 'baseParentId': '5b1830ddad97092bdb8e99d1',\n",
       " 'baseParentType': 'user',\n",
       " 'created': '2019-09-10T18:58:02.580000+00:00',\n",
       " 'creatorId': '5b1830ddad97092bdb8e99d1',\n",
       " 'description': 'Evening (1) response on 2019-09-10 at 14:58:02 EDT',\n",
       " 'folderId': '5d77f00559778104363c0ee5',\n",
       " 'lowerName': '2019-09-10-14-58-02-edt',\n",
       " 'meta': {'activity': {'@id': '5d6e9a6027afd76bc0e27661',\n",
       "   'name': 'Evening (1)',\n",
       "   'url': 'https://raw.githubusercontent.com/ReproNim/schema-standardization/master/activities/EmaHBNEvening/ema_evening_schema'},\n",
       "  'applet': {'@id': '5d77efd759778104363c0ede',\n",
       "   'name': 'Healthy Brain Network (22)',\n",
       "   'url': None},\n",
       "  'client': {'appId': 'mindlogger-mobile',\n",
       "   'appVersion': '0.5.15',\n",
       "   'deviceModel': 'iPhone XR',\n",
       "   'os': 'iOS',\n",
       "   'osVersion': '12.4'},\n",
       "  'languageCode': 'en',\n",
       "  'last7Days': {'responses': {},\n",
       "   'schema:duration': 'P7D',\n",
       "   'schema:endDate': '2019-09-10T18:58:01.875000+00:00',\n",
       "   'schema:startDate': '2019-09-03T18:58:01.875000+00:00'},\n",
       "  'responseCompleted': 1568141881875,\n",
       "  'responseStarted': 1568141862441,\n",
       "  'responses': {'https://raw.githubusercontent.com/ReproNim/schema-standardization/master/activities/EmaHBNEvening/items/energy': 1,\n",
       "   'https://raw.githubusercontent.com/ReproNim/schema-standardization/master/activities/EmaHBNEvening/items/enjoyed_day': 2,\n",
       "   'https://raw.githubusercontent.com/ReproNim/schema-standardization/master/activities/EmaHBNEvening/items/good_bad_day': 0,\n",
       "   'https://raw.githubusercontent.com/ReproNim/schema-standardization/master/activities/EmaHBNEvening/items/health': 1,\n",
       "   'https://raw.githubusercontent.com/ReproNim/schema-standardization/master/activities/EmaHBNEvening/items/sources_of_stress': [0,\n",
       "    2,\n",
       "    3],\n",
       "   'https://raw.githubusercontent.com/ReproNim/schema-standardization/master/activities/EmaHBNEvening/items/stressful_day': 1},\n",
       "  'subject': {'@id': '5b1830ddad97092bdb8e99d1'}},\n",
       " 'name': '2019-09-10-14-58-02-EDT',\n",
       " 'readOnly': False,\n",
       " 'size': 0,\n",
       " 'updated': '2019-09-12T20:31:01.798000+00:00'}"
      ]
     },
     "execution_count": 5,
     "metadata": {},
     "output_type": "execute_result"
    }
   ],
   "source": [
    "resp[0]"
   ]
  },
  {
   "cell_type": "code",
   "execution_count": 17,
   "metadata": {},
   "outputs": [],
   "source": [
    "def formatResponse(response):\n",
    "    metadata = response.get('meta', response)\n",
    "    thisResponse = {\n",
    "        \"thisResponse\": {\n",
    "            \"schema:startDate\": isodatetime(\n",
    "                metadata.get('responseStarted')\n",
    "            ),\n",
    "            \"schema:endDate\": isodatetime(\n",
    "                metadata.get('responseCompleted')\n",
    "            ),\n",
    "            \"responses\": {itemURI: metadata['responses'][itemURI] for itemURI in metadata.get('responses', {})}\n",
    "        }#,\n",
    "#           \"allToDate\": {\n",
    "#             \"schema:startDate\": schema:DateTime,\n",
    "#             \"schema:endDate\": schema:DateTime,\n",
    "#             \"schema:duration\": schema:Duration,\n",
    "#             itemURI*: [\n",
    "#               {\n",
    "#                 \"value\": any, //can be however its represented in schema, but usually numeric\n",
    "#                 \"count\": numeric,\n",
    "#               },\n",
    "#             ],\n",
    "#           },\n",
    "#           \"last7Days\": { // from response time\n",
    "#             \"schema:startDate\": schema:DateTime,\n",
    "#             \"schema:endDate\": schema:DateTime,\n",
    "#             \"schema:duration\": schema:Duration,\n",
    "#             itemURI*: [\n",
    "#               {\n",
    "#                 \"value\": any, //can be however its represented in schema, but usually numeric\n",
    "#                 \"date\": isostring,\n",
    "#               },\n",
    "#             ],\n",
    "#           }\n",
    "    }\n",
    "    return(thisResponse)"
   ]
  },
  {
   "cell_type": "code",
   "execution_count": 18,
   "metadata": {},
   "outputs": [
    {
     "data": {
      "text/plain": [
       "{'thisResponse': {'schema:startDate': '2019-09-10T14:57:42.441000',\n",
       "  'schema:endDate': '2019-09-10T14:58:01.875000',\n",
       "  'responses': {'https://raw.githubusercontent.com/ReproNim/schema-standardization/master/activities/EmaHBNEvening/items/energy': 1,\n",
       "   'https://raw.githubusercontent.com/ReproNim/schema-standardization/master/activities/EmaHBNEvening/items/enjoyed_day': 2,\n",
       "   'https://raw.githubusercontent.com/ReproNim/schema-standardization/master/activities/EmaHBNEvening/items/good_bad_day': 0,\n",
       "   'https://raw.githubusercontent.com/ReproNim/schema-standardization/master/activities/EmaHBNEvening/items/health': 1,\n",
       "   'https://raw.githubusercontent.com/ReproNim/schema-standardization/master/activities/EmaHBNEvening/items/sources_of_stress': [0,\n",
       "    2,\n",
       "    3],\n",
       "   'https://raw.githubusercontent.com/ReproNim/schema-standardization/master/activities/EmaHBNEvening/items/stressful_day': 1}}}"
      ]
     },
     "execution_count": 18,
     "metadata": {},
     "output_type": "execute_result"
    }
   ],
   "source": [
    "singleResponse = formatResponse(resp[0])\n",
    "singleResponse"
   ]
  },
  {
   "cell_type": "code",
   "execution_count": null,
   "metadata": {},
   "outputs": [],
   "source": []
  }
 ],
 "metadata": {
  "kernelspec": {
   "display_name": "Python 3",
   "language": "python",
   "name": "python3"
  },
  "language_info": {
   "codemirror_mode": {
    "name": "ipython",
    "version": 3
   },
   "file_extension": ".py",
   "mimetype": "text/x-python",
   "name": "python",
   "nbconvert_exporter": "python",
   "pygments_lexer": "ipython3",
   "version": "3.6.5"
  }
 },
 "nbformat": 4,
 "nbformat_minor": 2
}
